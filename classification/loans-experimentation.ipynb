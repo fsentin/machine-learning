{
 "cells": [
  {
   "attachments": {},
   "cell_type": "markdown",
   "metadata": {},
   "source": [
    "# Loan Dataset"
   ]
  },
  {
   "attachments": {},
   "cell_type": "markdown",
   "metadata": {},
   "source": [
    "## Imports"
   ]
  },
  {
   "cell_type": "code",
   "execution_count": 1,
   "metadata": {},
   "outputs": [],
   "source": [
    "import pandas as pd\n",
    "import numpy as np\n",
    "import matplotlib.pyplot as plt\n",
    "import sklearn.preprocessing\n",
    "%matplotlib inline\n",
    "from sklearn.preprocessing import LabelEncoder\n",
    "import seaborn as sns\n",
    "from sklearn.model_selection import KFold\n",
    "from sklearn.model_selection import cross_val_score\n",
    "from sklearn.linear_model import LogisticRegression\n",
    "from sklearn.tree import DecisionTreeClassifier\n",
    "from sklearn.ensemble import RandomForestClassifier\n",
    "from sklearn.naive_bayes import MultinomialNB\n",
    "from sklearn.neighbors import KNeighborsClassifier\n",
    "from sklearn.svm import SVC\n",
    "from sklearn import svm\n",
    "from sklearn.metrics import accuracy_score, recall_score, f1_score, fbeta_score\n",
    "from sklearn.model_selection import cross_validate\n",
    "from sklearn.metrics import make_scorer, accuracy_score, recall_score, f1_score, fbeta_score\n",
    "from sklearn.model_selection import train_test_split\n",
    "from sklearn.preprocessing import StandardScaler\n",
    "from sklearn.metrics import roc_auc_score\n",
    "from sklearn.model_selection import GridSearchCV\n",
    "from sklearn.feature_selection import SelectKBest, chi2\n",
    "from sklearn.feature_selection import RFE\n",
    "from sklearn.metrics import classification_report\n",
    "from sklearn.model_selection import train_test_split\n",
    "from sklearn.preprocessing import label_binarize\n",
    "import joblib\n",
    "from sklearn.decomposition import PCA\n",
    "from sklearn.tree import DecisionTreeClassifier\n",
    "from sklearn.feature_selection import SelectFromModel\n",
    "from sklearn.linear_model import Lasso\n",
    "from sklearn.preprocessing import MinMaxScaler\n",
    "from sklearn.pipeline import make_pipeline\n",
    "from pandas.plotting import parallel_coordinates\n",
    "import plotly.express as px\n",
    "import plotly.graph_objects as go\n",
    "from sklearn.preprocessing import OrdinalEncoder\n"
   ]
  },
  {
   "attachments": {},
   "cell_type": "markdown",
   "metadata": {},
   "source": [
    "## read the data"
   ]
  },
  {
   "cell_type": "code",
   "execution_count": 2,
   "metadata": {},
   "outputs": [],
   "source": [
    "df=pd.read_csv(\"loan-10k.lrn.csv\")\n",
    "df_test = pd.read_csv(\"loan-10k.tes.csv\")"
   ]
  },
  {
   "attachments": {},
   "cell_type": "markdown",
   "metadata": {},
   "source": [
    "## Explore the data"
   ]
  },
  {
   "cell_type": "code",
   "execution_count": 3,
   "metadata": {},
   "outputs": [
    {
     "name": "stdout",
     "output_type": "stream",
     "text": [
      "<class 'pandas.core.frame.DataFrame'>\n",
      "RangeIndex: 10000 entries, 0 to 9999\n",
      "Data columns (total 92 columns):\n",
      " #   Column                      Non-Null Count  Dtype  \n",
      "---  ------                      --------------  -----  \n",
      " 0   ID                          10000 non-null  int64  \n",
      " 1   loan_amnt                   10000 non-null  float64\n",
      " 2   funded_amnt                 10000 non-null  float64\n",
      " 3   funded_amnt_inv             10000 non-null  float64\n",
      " 4   term                        10000 non-null  object \n",
      " 5   int_rate                    10000 non-null  float64\n",
      " 6   installment                 10000 non-null  float64\n",
      " 7   emp_length                  10000 non-null  object \n",
      " 8   home_ownership              10000 non-null  object \n",
      " 9   annual_inc                  10000 non-null  float64\n",
      " 10  verification_status         10000 non-null  object \n",
      " 11  loan_status                 10000 non-null  object \n",
      " 12  pymnt_plan                  10000 non-null  object \n",
      " 13  purpose                     10000 non-null  object \n",
      " 14  addr_state                  10000 non-null  object \n",
      " 15  dti                         10000 non-null  float64\n",
      " 16  delinq_2yrs                 10000 non-null  float64\n",
      " 17  fico_range_low              10000 non-null  float64\n",
      " 18  fico_range_high             10000 non-null  float64\n",
      " 19  inq_last_6mths              10000 non-null  float64\n",
      " 20  open_acc                    10000 non-null  float64\n",
      " 21  pub_rec                     10000 non-null  float64\n",
      " 22  revol_bal                   10000 non-null  float64\n",
      " 23  revol_util                  10000 non-null  float64\n",
      " 24  total_acc                   10000 non-null  float64\n",
      " 25  initial_list_status         10000 non-null  object \n",
      " 26  out_prncp                   10000 non-null  float64\n",
      " 27  out_prncp_inv               10000 non-null  float64\n",
      " 28  total_pymnt                 10000 non-null  float64\n",
      " 29  total_pymnt_inv             10000 non-null  float64\n",
      " 30  total_rec_prncp             10000 non-null  float64\n",
      " 31  total_rec_int               10000 non-null  float64\n",
      " 32  total_rec_late_fee          10000 non-null  float64\n",
      " 33  recoveries                  10000 non-null  float64\n",
      " 34  collection_recovery_fee     10000 non-null  float64\n",
      " 35  last_pymnt_amnt             10000 non-null  float64\n",
      " 36  last_fico_range_high        10000 non-null  float64\n",
      " 37  last_fico_range_low         10000 non-null  float64\n",
      " 38  collections_12_mths_ex_med  10000 non-null  float64\n",
      " 39  policy_code                 10000 non-null  float64\n",
      " 40  application_type            10000 non-null  object \n",
      " 41  acc_now_delinq              10000 non-null  float64\n",
      " 42  tot_coll_amt                10000 non-null  float64\n",
      " 43  tot_cur_bal                 10000 non-null  float64\n",
      " 44  total_rev_hi_lim            10000 non-null  float64\n",
      " 45  acc_open_past_24mths        10000 non-null  float64\n",
      " 46  avg_cur_bal                 10000 non-null  float64\n",
      " 47  bc_open_to_buy              10000 non-null  float64\n",
      " 48  bc_util                     10000 non-null  float64\n",
      " 49  chargeoff_within_12_mths    10000 non-null  float64\n",
      " 50  delinq_amnt                 10000 non-null  float64\n",
      " 51  mo_sin_old_il_acct          10000 non-null  float64\n",
      " 52  mo_sin_old_rev_tl_op        10000 non-null  float64\n",
      " 53  mo_sin_rcnt_rev_tl_op       10000 non-null  float64\n",
      " 54  mo_sin_rcnt_tl              10000 non-null  float64\n",
      " 55  mort_acc                    10000 non-null  float64\n",
      " 56  mths_since_recent_bc        10000 non-null  float64\n",
      " 57  mths_since_recent_inq       10000 non-null  float64\n",
      " 58  num_accts_ever_120_pd       10000 non-null  float64\n",
      " 59  num_actv_bc_tl              10000 non-null  float64\n",
      " 60  num_actv_rev_tl             10000 non-null  float64\n",
      " 61  num_bc_sats                 10000 non-null  float64\n",
      " 62  num_bc_tl                   10000 non-null  float64\n",
      " 63  num_il_tl                   10000 non-null  float64\n",
      " 64  num_op_rev_tl               10000 non-null  float64\n",
      " 65  num_rev_accts               10000 non-null  float64\n",
      " 66  num_rev_tl_bal_gt_0         10000 non-null  float64\n",
      " 67  num_sats                    10000 non-null  float64\n",
      " 68  num_tl_120dpd_2m            10000 non-null  float64\n",
      " 69  num_tl_30dpd                10000 non-null  float64\n",
      " 70  num_tl_90g_dpd_24m          10000 non-null  float64\n",
      " 71  num_tl_op_past_12m          10000 non-null  float64\n",
      " 72  pct_tl_nvr_dlq              10000 non-null  float64\n",
      " 73  percent_bc_gt_75            10000 non-null  float64\n",
      " 74  pub_rec_bankruptcies        10000 non-null  float64\n",
      " 75  tax_liens                   10000 non-null  float64\n",
      " 76  tot_hi_cred_lim             10000 non-null  float64\n",
      " 77  total_bal_ex_mort           10000 non-null  float64\n",
      " 78  total_bc_limit              10000 non-null  float64\n",
      " 79  total_il_high_credit_limit  10000 non-null  float64\n",
      " 80  hardship_flag               10000 non-null  object \n",
      " 81  disbursement_method         10000 non-null  object \n",
      " 82  debt_settlement_flag        10000 non-null  object \n",
      " 83  issue_d_month               10000 non-null  int64  \n",
      " 84  issue_d_year                10000 non-null  int64  \n",
      " 85  earliest_cr_line_month      10000 non-null  int64  \n",
      " 86  earliest_cr_line_year       10000 non-null  int64  \n",
      " 87  last_pymnt_d_month          10000 non-null  int64  \n",
      " 88  last_pymnt_d_year           10000 non-null  int64  \n",
      " 89  last_credit_pull_d_month    10000 non-null  int64  \n",
      " 90  last_credit_pull_d_year     10000 non-null  int64  \n",
      " 91  grade                       10000 non-null  object \n",
      "dtypes: float64(69), int64(9), object(14)\n",
      "memory usage: 7.0+ MB\n"
     ]
    }
   ],
   "source": [
    "df.head()\n",
    "df.describe()\n",
    "df.info()"
   ]
  },
  {
   "cell_type": "code",
   "execution_count": 4,
   "metadata": {},
   "outputs": [
    {
     "name": "stdout",
     "output_type": "stream",
     "text": [
      "term \n",
      " 0     36 months\n",
      "1     60 months\n",
      "2     60 months\n",
      "3     36 months\n",
      "4     36 months\n",
      "Name: term, dtype: object \n",
      "\n",
      "term\n",
      "emp_length \n",
      " 0    < 1 year\n",
      "1      1 year\n",
      "2    < 1 year\n",
      "3     9 years\n",
      "4      1 year\n",
      "Name: emp_length, dtype: object \n",
      "\n",
      "emp_length\n",
      "home_ownership \n",
      " 0    MORTGAGE\n",
      "1    MORTGAGE\n",
      "2        RENT\n",
      "3        RENT\n",
      "4    MORTGAGE\n",
      "Name: home_ownership, dtype: object \n",
      "\n",
      "home_ownership\n",
      "verification_status \n",
      " 0       Not Verified\n",
      "1    Source Verified\n",
      "2       Not Verified\n",
      "3    Source Verified\n",
      "4    Source Verified\n",
      "Name: verification_status, dtype: object \n",
      "\n",
      "verification_status\n",
      "loan_status \n",
      " 0        Current\n",
      "1        Current\n",
      "2     Fully Paid\n",
      "3    Charged Off\n",
      "4        Current\n",
      "Name: loan_status, dtype: object \n",
      "\n",
      "loan_status\n",
      "pymnt_plan \n",
      " 0    n\n",
      "1    n\n",
      "2    n\n",
      "3    n\n",
      "4    n\n",
      "Name: pymnt_plan, dtype: object \n",
      "\n",
      "pymnt_plan\n",
      "purpose \n",
      " 0    debt_consolidation\n",
      "1    debt_consolidation\n",
      "2    debt_consolidation\n",
      "3    debt_consolidation\n",
      "4    debt_consolidation\n",
      "Name: purpose, dtype: object \n",
      "\n",
      "purpose\n",
      "addr_state \n",
      " 0    IL\n",
      "1    OK\n",
      "2    AZ\n",
      "3    CA\n",
      "4    FL\n",
      "Name: addr_state, dtype: object \n",
      "\n",
      "addr_state\n",
      "initial_list_status \n",
      " 0    w\n",
      "1    f\n",
      "2    w\n",
      "3    f\n",
      "4    w\n",
      "Name: initial_list_status, dtype: object \n",
      "\n",
      "initial_list_status\n",
      "application_type \n",
      " 0    Individual\n",
      "1    Individual\n",
      "2    Individual\n",
      "3    Individual\n",
      "4    Individual\n",
      "Name: application_type, dtype: object \n",
      "\n",
      "application_type\n",
      "hardship_flag \n",
      " 0    N\n",
      "1    N\n",
      "2    N\n",
      "3    N\n",
      "4    N\n",
      "Name: hardship_flag, dtype: object \n",
      "\n",
      "hardship_flag\n",
      "disbursement_method \n",
      " 0    Cash\n",
      "1    Cash\n",
      "2    Cash\n",
      "3    Cash\n",
      "4    Cash\n",
      "Name: disbursement_method, dtype: object \n",
      "\n",
      "disbursement_method\n",
      "debt_settlement_flag \n",
      " 0    N\n",
      "1    N\n",
      "2    N\n",
      "3    N\n",
      "4    N\n",
      "Name: debt_settlement_flag, dtype: object \n",
      "\n",
      "debt_settlement_flag\n",
      "grade \n",
      " 0    A\n",
      "1    E\n",
      "2    D\n",
      "3    C\n",
      "4    C\n",
      "Name: grade, dtype: object \n",
      "\n",
      "grade\n"
     ]
    }
   ],
   "source": [
    "obj_cols = df.select_dtypes(include=['object'])\n",
    "for col in obj_cols:\n",
    "     print(col, \"\\n\", obj_cols[col].head(), \"\\n\")\n",
    "     print(col)\n"
   ]
  },
  {
   "attachments": {},
   "cell_type": "markdown",
   "metadata": {},
   "source": [
    "## Statistical analysis of columns of type int and float "
   ]
  },
  {
   "cell_type": "code",
   "execution_count": 5,
   "metadata": {},
   "outputs": [
    {
     "data": {
      "text/html": [
       "<div>\n",
       "<style scoped>\n",
       "    .dataframe tbody tr th:only-of-type {\n",
       "        vertical-align: middle;\n",
       "    }\n",
       "\n",
       "    .dataframe tbody tr th {\n",
       "        vertical-align: top;\n",
       "    }\n",
       "\n",
       "    .dataframe thead th {\n",
       "        text-align: right;\n",
       "    }\n",
       "</style>\n",
       "<table border=\"1\" class=\"dataframe\">\n",
       "  <thead>\n",
       "    <tr style=\"text-align: right;\">\n",
       "      <th></th>\n",
       "      <th>Column</th>\n",
       "      <th>Mean</th>\n",
       "      <th>Median</th>\n",
       "      <th>Standard Deviation</th>\n",
       "    </tr>\n",
       "  </thead>\n",
       "  <tbody>\n",
       "    <tr>\n",
       "      <th>0</th>\n",
       "      <td>loan_amnt</td>\n",
       "      <td>15631.152500</td>\n",
       "      <td>14000.00</td>\n",
       "      <td>9314.246117</td>\n",
       "    </tr>\n",
       "    <tr>\n",
       "      <th>1</th>\n",
       "      <td>funded_amnt</td>\n",
       "      <td>15631.152500</td>\n",
       "      <td>14000.00</td>\n",
       "      <td>9314.246117</td>\n",
       "    </tr>\n",
       "    <tr>\n",
       "      <th>2</th>\n",
       "      <td>funded_amnt_inv</td>\n",
       "      <td>15625.992500</td>\n",
       "      <td>14000.00</td>\n",
       "      <td>9312.426843</td>\n",
       "    </tr>\n",
       "    <tr>\n",
       "      <th>3</th>\n",
       "      <td>int_rate</td>\n",
       "      <td>13.216959</td>\n",
       "      <td>12.73</td>\n",
       "      <td>4.855838</td>\n",
       "    </tr>\n",
       "    <tr>\n",
       "      <th>4</th>\n",
       "      <td>installment</td>\n",
       "      <td>461.084183</td>\n",
       "      <td>396.78</td>\n",
       "      <td>269.903751</td>\n",
       "    </tr>\n",
       "    <tr>\n",
       "      <th>...</th>\n",
       "      <td>...</td>\n",
       "      <td>...</td>\n",
       "      <td>...</td>\n",
       "      <td>...</td>\n",
       "    </tr>\n",
       "    <tr>\n",
       "      <th>72</th>\n",
       "      <td>earliest_cr_line_year</td>\n",
       "      <td>2000.017900</td>\n",
       "      <td>2001.00</td>\n",
       "      <td>7.302583</td>\n",
       "    </tr>\n",
       "    <tr>\n",
       "      <th>73</th>\n",
       "      <td>last_pymnt_d_month</td>\n",
       "      <td>4.003000</td>\n",
       "      <td>2.00</td>\n",
       "      <td>3.224257</td>\n",
       "    </tr>\n",
       "    <tr>\n",
       "      <th>74</th>\n",
       "      <td>last_pymnt_d_year</td>\n",
       "      <td>2017.747300</td>\n",
       "      <td>2018.00</td>\n",
       "      <td>1.463235</td>\n",
       "    </tr>\n",
       "    <tr>\n",
       "      <th>75</th>\n",
       "      <td>last_credit_pull_d_month</td>\n",
       "      <td>3.334200</td>\n",
       "      <td>2.00</td>\n",
       "      <td>2.909666</td>\n",
       "    </tr>\n",
       "    <tr>\n",
       "      <th>76</th>\n",
       "      <td>last_credit_pull_d_year</td>\n",
       "      <td>2018.453400</td>\n",
       "      <td>2019.00</td>\n",
       "      <td>0.963494</td>\n",
       "    </tr>\n",
       "  </tbody>\n",
       "</table>\n",
       "<p>77 rows × 4 columns</p>\n",
       "</div>"
      ],
      "text/plain": [
       "                      Column          Mean    Median  Standard Deviation\n",
       "0                  loan_amnt  15631.152500  14000.00         9314.246117\n",
       "1                funded_amnt  15631.152500  14000.00         9314.246117\n",
       "2            funded_amnt_inv  15625.992500  14000.00         9312.426843\n",
       "3                   int_rate     13.216959     12.73            4.855838\n",
       "4                installment    461.084183    396.78          269.903751\n",
       "..                       ...           ...       ...                 ...\n",
       "72     earliest_cr_line_year   2000.017900   2001.00            7.302583\n",
       "73        last_pymnt_d_month      4.003000      2.00            3.224257\n",
       "74         last_pymnt_d_year   2017.747300   2018.00            1.463235\n",
       "75  last_credit_pull_d_month      3.334200      2.00            2.909666\n",
       "76   last_credit_pull_d_year   2018.453400   2019.00            0.963494\n",
       "\n",
       "[77 rows x 4 columns]"
      ]
     },
     "execution_count": 5,
     "metadata": {},
     "output_type": "execute_result"
    }
   ],
   "source": [
    "numeric_columns = df.select_dtypes(include=np.number).drop(\"ID\", axis=1)\n",
    "\n",
    "# calculate statistics for each numeric column\n",
    "stats_list = []\n",
    "for col in numeric_columns:\n",
    "    stats_dict = {\n",
    "        \"Column\": col,\n",
    "        \"Mean\": df[col].mean(),\n",
    "        \"Median\": df[col].median(),\n",
    "        \"Standard Deviation\": df[col].std(),\n",
    "       # \"25th Percentile\": np.percentile(df[col], 25),\n",
    "       # \"50th Percentile (Median)\": np.percentile(df[col], 50),\n",
    "       # \"75th Percentile\": np.percentile(df[col], 75)\n",
    "    }\n",
    "    stats_list.append(stats_dict)\n",
    "\n",
    "# convert list of dictionaries to pandas DataFrame\n",
    "stats_df = pd.DataFrame(stats_list)\n",
    "stats_df"
   ]
  },
  {
   "attachments": {},
   "cell_type": "markdown",
   "metadata": {},
   "source": [
    "## Change encoding of cells containing type object and calculate stats"
   ]
  },
  {
   "cell_type": "code",
   "execution_count": 6,
   "metadata": {},
   "outputs": [],
   "source": [
    "changed_columns=[]"
   ]
  },
  {
   "cell_type": "code",
   "execution_count": 7,
   "metadata": {},
   "outputs": [
    {
     "name": "stdout",
     "output_type": "stream",
     "text": [
      "[' 36 months' ' 60 months']\n",
      "[36 60]\n"
     ]
    }
   ],
   "source": [
    "### term can be encoded either as a number or as binary. I chose number for now.\n",
    "# candidate for binary encoding\n",
    "print(df[\"term\"].unique())\n",
    "df[\"term\"] = df[\"term\"].str.extract('(\\d+)').astype(int)\n",
    "print(df[\"term\"].unique())\n",
    "changed_columns.append(\"term\")\n"
   ]
  },
  {
   "cell_type": "code",
   "execution_count": 8,
   "metadata": {},
   "outputs": [],
   "source": [
    "df_test[\"term\"] = df_test[\"term\"].str.extract('(\\d+)').astype(int)\n"
   ]
  },
  {
   "attachments": {},
   "cell_type": "markdown",
   "metadata": {},
   "source": [
    "### one-hot encoding & the proportion of 1s to 0s for each column within what was a single variable"
   ]
  },
  {
   "attachments": {},
   "cell_type": "markdown",
   "metadata": {},
   "source": [
    "#### emp length"
   ]
  },
  {
   "cell_type": "code",
   "execution_count": 9,
   "metadata": {},
   "outputs": [
    {
     "name": "stdout",
     "output_type": "stream",
     "text": [
      "['< 1 year' '1 year' '9 years' '10+ years' '3 years' '4 years' '7 years'\n",
      " '2 years' '5 years' '6 years' '8 years']\n",
      "0        0\n",
      "1        1\n",
      "2        0\n",
      "3        9\n",
      "4        1\n",
      "        ..\n",
      "9995     5\n",
      "9996    10\n",
      "9997     0\n",
      "9998     1\n",
      "9999    10\n",
      "Name: emp_length, Length: 10000, dtype: int64\n"
     ]
    }
   ],
   "source": [
    "print(df[\"emp_length\"].unique())\n",
    "emp_length_map = {\n",
    "    '< 1 year': 0,\n",
    "    '1 year': 1,\n",
    "    '2 years': 2,\n",
    "    '3 years': 3,\n",
    "    '4 years': 4,\n",
    "    '5 years': 5,\n",
    "    '6 years': 6,\n",
    "    '7 years': 7,\n",
    "    '8 years': 8,\n",
    "    '9 years': 9,\n",
    "    '10+ years': 10\n",
    "}\n",
    "\n",
    "df['emp_length'] = df['emp_length'].map(emp_length_map)\n",
    "print(df['emp_length'])\n",
    "changed_columns.append(\"emp_length\")"
   ]
  },
  {
   "cell_type": "code",
   "execution_count": 10,
   "metadata": {},
   "outputs": [
    {
     "name": "stdout",
     "output_type": "stream",
     "text": [
      "['< 1 year' '10+ years' '6 years' '2 years' '3 years' '7 years' '4 years'\n",
      " '1 year' '8 years' '5 years' '9 years']\n",
      "0        0\n",
      "1       10\n",
      "2        0\n",
      "3       10\n",
      "4        6\n",
      "        ..\n",
      "9995     6\n",
      "9996     3\n",
      "9997     4\n",
      "9998     5\n",
      "9999     3\n",
      "Name: emp_length, Length: 10000, dtype: int64\n"
     ]
    }
   ],
   "source": [
    "print(df_test[\"emp_length\"].unique())\n",
    "emp_length_map = {\n",
    "    '< 1 year': 0,\n",
    "    '1 year': 1,\n",
    "    '2 years': 2,\n",
    "    '3 years': 3,\n",
    "    '4 years': 4,\n",
    "    '5 years': 5,\n",
    "    '6 years': 6,\n",
    "    '7 years': 7,\n",
    "    '8 years': 8,\n",
    "    '9 years': 9,\n",
    "    '10+ years': 10\n",
    "}\n",
    "\n",
    "df_test['emp_length'] = df_test['emp_length'].map(emp_length_map)\n",
    "print(df_test['emp_length'])"
   ]
  },
  {
   "attachments": {},
   "cell_type": "markdown",
   "metadata": {},
   "source": [
    "#### home_ownership "
   ]
  },
  {
   "cell_type": "code",
   "execution_count": 11,
   "metadata": {},
   "outputs": [
    {
     "name": "stdout",
     "output_type": "stream",
     "text": [
      "['MORTGAGE' 'RENT' 'OWN' 'ANY' 'OTHER']\n"
     ]
    }
   ],
   "source": [
    "print(df[\"home_ownership\"].unique())\n",
    "df = pd.get_dummies(df, columns=[\"home_ownership\"], prefix=[\"home\"])\n",
    "home_cols = df.filter(regex='^home').columns.tolist()\n",
    "for col in home_cols:\n",
    "    changed_columns.append(col)\n"
   ]
  },
  {
   "cell_type": "code",
   "execution_count": 12,
   "metadata": {},
   "outputs": [
    {
     "name": "stdout",
     "output_type": "stream",
     "text": [
      "['MORTGAGE' 'RENT' 'OWN' 'ANY' 'NONE']\n"
     ]
    }
   ],
   "source": [
    "print(df_test[\"home_ownership\"].unique())\n",
    "df_test = pd.get_dummies(df_test, columns=[\"home_ownership\"], prefix=[\"home\"])\n",
    "home_cols_t = df_test.filter(regex='^home').columns.tolist()"
   ]
  },
  {
   "attachments": {},
   "cell_type": "markdown",
   "metadata": {},
   "source": [
    "#### loan_status"
   ]
  },
  {
   "cell_type": "code",
   "execution_count": 13,
   "metadata": {},
   "outputs": [
    {
     "name": "stdout",
     "output_type": "stream",
     "text": [
      "['Current' 'Fully Paid' 'Charged Off' 'Late (31-120 days)'\n",
      " 'In Grace Period' 'Late (16-30 days)']\n"
     ]
    }
   ],
   "source": [
    "print(df[\"loan_status\"].unique())\n",
    "df = pd.get_dummies(df, columns=[\"loan_status\"], prefix=[\"loan\"])\n",
    "loan_cols = df.filter(regex='^loan').columns.tolist()\n",
    "for col in loan_cols:\n",
    "    changed_columns.append(col)"
   ]
  },
  {
   "cell_type": "code",
   "execution_count": 14,
   "metadata": {},
   "outputs": [
    {
     "name": "stdout",
     "output_type": "stream",
     "text": [
      "['Current' 'Fully Paid' 'Charged Off' 'Late (31-120 days)'\n",
      " 'In Grace Period' 'Late (16-30 days)' 'Default']\n"
     ]
    }
   ],
   "source": [
    "print(df_test[\"loan_status\"].unique())\n",
    "df_test = pd.get_dummies(df_test, columns=[\"loan_status\"], prefix=[\"loan\"])\n",
    "loan_cols_t = df_test.filter(regex='^loan').columns.tolist()\n"
   ]
  },
  {
   "attachments": {},
   "cell_type": "markdown",
   "metadata": {},
   "source": [
    "#### purpose"
   ]
  },
  {
   "cell_type": "code",
   "execution_count": 15,
   "metadata": {},
   "outputs": [
    {
     "name": "stdout",
     "output_type": "stream",
     "text": [
      "['debt_consolidation' 'car' 'credit_card' 'other' 'major_purchase'\n",
      " 'home_improvement' 'small_business' 'medical' 'vacation' 'moving' 'house'\n",
      " 'renewable_energy' 'wedding']\n"
     ]
    }
   ],
   "source": [
    "print(df[\"purpose\"].unique())\n",
    "df = pd.get_dummies(df, columns=[\"purpose\"], prefix=\"purpose\")\n",
    "#one-hot\n",
    "purpose_cols = df.filter(regex='^purpose').columns.tolist()\n",
    "for col in purpose_cols:\n",
    "    changed_columns.append(col)"
   ]
  },
  {
   "cell_type": "code",
   "execution_count": 16,
   "metadata": {},
   "outputs": [
    {
     "name": "stdout",
     "output_type": "stream",
     "text": [
      "['home_improvement' 'debt_consolidation' 'other' 'medical'\n",
      " 'major_purchase' 'house' 'credit_card' 'moving' 'vacation'\n",
      " 'small_business' 'renewable_energy' 'car' 'wedding']\n"
     ]
    }
   ],
   "source": [
    "print(df_test[\"purpose\"].unique())\n",
    "df_test = pd.get_dummies(df_test, columns=[\"purpose\"], prefix=\"purpose\")\n",
    "#one-hot\n",
    "purpose_cols_t = df_test.filter(regex='^purpose').columns.tolist()"
   ]
  },
  {
   "attachments": {},
   "cell_type": "markdown",
   "metadata": {},
   "source": [
    "#### Addr_state"
   ]
  },
  {
   "cell_type": "code",
   "execution_count": 17,
   "metadata": {},
   "outputs": [
    {
     "name": "stdout",
     "output_type": "stream",
     "text": [
      "['IL' 'OK' 'AZ' 'CA' 'FL' 'TX' 'PA' 'MA' 'NC' 'NV' 'SC' 'GA' 'NY' 'OR'\n",
      " 'AL' 'VT' 'MD' 'KY' 'CO' 'IN' 'LA' 'MN' 'MI' 'WA' 'NJ' 'VA' 'WI' 'OH'\n",
      " 'TN' 'CT' 'DC' 'HI' 'MO' 'DE' 'AR' 'KS' 'ME' 'MS' 'NM' 'AK' 'UT' 'WV'\n",
      " 'MT' 'NH' 'SD' 'ID' 'NE' 'WY' 'ND' 'RI']\n"
     ]
    }
   ],
   "source": [
    "print(df[\"addr_state\"].unique())\n",
    "df = pd.get_dummies(df, columns=[\"addr_state\"], prefix=\"addr\")\n",
    "#one-hot\n",
    "addr_cols = df.filter(regex='^addr').columns.tolist()\n",
    "for col in addr_cols:\n",
    "    changed_columns.append(col)"
   ]
  },
  {
   "cell_type": "code",
   "execution_count": 18,
   "metadata": {},
   "outputs": [
    {
     "name": "stdout",
     "output_type": "stream",
     "text": [
      "['TX' 'OK' 'FL' 'MA' 'CO' 'PA' 'VA' 'NC' 'NJ' 'NY' 'CA' 'MS' 'IL' 'MD'\n",
      " 'DE' 'DC' 'NM' 'MI' 'AR' 'MO' 'WI' 'NV' 'WA' 'SC' 'IN' 'UT' 'CT' 'AZ'\n",
      " 'NH' 'RI' 'AL' 'MN' 'LA' 'OR' 'KS' 'OH' 'KY' 'TN' 'GA' 'ND' 'WY' 'ME'\n",
      " 'MT' 'WV' 'AK' 'NE' 'SD' 'HI' 'ID' 'VT']\n"
     ]
    }
   ],
   "source": [
    "print(df_test[\"addr_state\"].unique())\n",
    "df_test = pd.get_dummies(df_test, columns=[\"addr_state\"], prefix=\"addr\")\n",
    "addr_cols_t = df_test.filter(regex='^addr').columns.tolist()"
   ]
  },
  {
   "attachments": {},
   "cell_type": "markdown",
   "metadata": {},
   "source": [
    "#### verification_status"
   ]
  },
  {
   "cell_type": "code",
   "execution_count": 19,
   "metadata": {},
   "outputs": [
    {
     "name": "stdout",
     "output_type": "stream",
     "text": [
      "['Not Verified' 'Source Verified' 'Verified']\n"
     ]
    }
   ],
   "source": [
    "print(df[\"verification_status\"].unique())\n",
    "df = pd.get_dummies(df, columns=[\"verification_status\"], prefix=\"verif\")\n",
    "verif_cols = df.filter(regex='^verif').columns.tolist()\n",
    "for col in verif_cols:\n",
    "    changed_columns.append(col)"
   ]
  },
  {
   "attachments": {},
   "cell_type": "markdown",
   "metadata": {},
   "source": [
    "#### Stats of the one-hot encoded variables"
   ]
  },
  {
   "cell_type": "code",
   "execution_count": 20,
   "metadata": {},
   "outputs": [
    {
     "name": "stdout",
     "output_type": "stream",
     "text": [
      "['Not Verified' 'Source Verified' 'Verified']\n"
     ]
    }
   ],
   "source": [
    "print(df_test[\"verification_status\"].unique())\n",
    "df_test = pd.get_dummies(df_test, columns=[\"verification_status\"], prefix=\"verif\")\n",
    "verif_cols_t = df_test.filter(regex='^verif').columns.tolist()"
   ]
  },
  {
   "cell_type": "code",
   "execution_count": 21,
   "metadata": {},
   "outputs": [
    {
     "data": {
      "text/html": [
       "<div>\n",
       "<style scoped>\n",
       "    .dataframe tbody tr th:only-of-type {\n",
       "        vertical-align: middle;\n",
       "    }\n",
       "\n",
       "    .dataframe tbody tr th {\n",
       "        vertical-align: top;\n",
       "    }\n",
       "\n",
       "    .dataframe thead th {\n",
       "        text-align: right;\n",
       "    }\n",
       "</style>\n",
       "<table border=\"1\" class=\"dataframe\">\n",
       "  <thead>\n",
       "    <tr style=\"text-align: right;\">\n",
       "      <th></th>\n",
       "      <th>term</th>\n",
       "      <th>emp_length</th>\n",
       "      <th>loan_amnt</th>\n",
       "    </tr>\n",
       "  </thead>\n",
       "  <tbody>\n",
       "    <tr>\n",
       "      <th>count</th>\n",
       "      <td>10000.000000</td>\n",
       "      <td>10000.000000</td>\n",
       "      <td>10000.000000</td>\n",
       "    </tr>\n",
       "    <tr>\n",
       "      <th>mean</th>\n",
       "      <td>43.360800</td>\n",
       "      <td>5.967600</td>\n",
       "      <td>15631.152500</td>\n",
       "    </tr>\n",
       "    <tr>\n",
       "      <th>std</th>\n",
       "      <td>11.067523</td>\n",
       "      <td>3.692386</td>\n",
       "      <td>9314.246117</td>\n",
       "    </tr>\n",
       "    <tr>\n",
       "      <th>min</th>\n",
       "      <td>36.000000</td>\n",
       "      <td>0.000000</td>\n",
       "      <td>1000.000000</td>\n",
       "    </tr>\n",
       "    <tr>\n",
       "      <th>25%</th>\n",
       "      <td>36.000000</td>\n",
       "      <td>2.000000</td>\n",
       "      <td>8350.000000</td>\n",
       "    </tr>\n",
       "    <tr>\n",
       "      <th>50%</th>\n",
       "      <td>36.000000</td>\n",
       "      <td>6.000000</td>\n",
       "      <td>14000.000000</td>\n",
       "    </tr>\n",
       "    <tr>\n",
       "      <th>75%</th>\n",
       "      <td>60.000000</td>\n",
       "      <td>10.000000</td>\n",
       "      <td>21000.000000</td>\n",
       "    </tr>\n",
       "    <tr>\n",
       "      <th>max</th>\n",
       "      <td>60.000000</td>\n",
       "      <td>10.000000</td>\n",
       "      <td>40000.000000</td>\n",
       "    </tr>\n",
       "  </tbody>\n",
       "</table>\n",
       "</div>"
      ],
      "text/plain": [
       "               term    emp_length     loan_amnt\n",
       "count  10000.000000  10000.000000  10000.000000\n",
       "mean      43.360800      5.967600  15631.152500\n",
       "std       11.067523      3.692386   9314.246117\n",
       "min       36.000000      0.000000   1000.000000\n",
       "25%       36.000000      2.000000   8350.000000\n",
       "50%       36.000000      6.000000  14000.000000\n",
       "75%       60.000000     10.000000  21000.000000\n",
       "max       60.000000     10.000000  40000.000000"
      ]
     },
     "execution_count": 21,
     "metadata": {},
     "output_type": "execute_result"
    }
   ],
   "source": [
    "stats = df[changed_columns].describe()\n",
    "stats"
   ]
  },
  {
   "attachments": {},
   "cell_type": "markdown",
   "metadata": {},
   "source": [
    "### Binary encoding"
   ]
  },
  {
   "cell_type": "code",
   "execution_count": 22,
   "metadata": {},
   "outputs": [],
   "source": [
    "le = LabelEncoder()"
   ]
  },
  {
   "attachments": {},
   "cell_type": "markdown",
   "metadata": {},
   "source": [
    "#### pymnt_plan"
   ]
  },
  {
   "cell_type": "code",
   "execution_count": 23,
   "metadata": {},
   "outputs": [
    {
     "name": "stdout",
     "output_type": "stream",
     "text": [
      "['n' 'y']\n",
      "[0 1]\n"
     ]
    }
   ],
   "source": [
    "df['pymnt_plan'] = le.fit_transform(df['pymnt_plan'])\n",
    "print(le.classes_)\n",
    "print(df[\"pymnt_plan\"].unique())\n",
    "\n",
    "#turn n/y to binary\n",
    "# n=0, y=1"
   ]
  },
  {
   "cell_type": "code",
   "execution_count": 24,
   "metadata": {},
   "outputs": [
    {
     "name": "stdout",
     "output_type": "stream",
     "text": [
      "['n' 'y']\n",
      "[0 1]\n"
     ]
    }
   ],
   "source": [
    "df_test['pymnt_plan'] = le.fit_transform(df_test['pymnt_plan'])\n",
    "print(le.classes_)\n",
    "print(df[\"pymnt_plan\"].unique())"
   ]
  },
  {
   "attachments": {},
   "cell_type": "markdown",
   "metadata": {},
   "source": [
    "#### initial_list_status"
   ]
  },
  {
   "cell_type": "code",
   "execution_count": 25,
   "metadata": {},
   "outputs": [
    {
     "name": "stdout",
     "output_type": "stream",
     "text": [
      "['f' 'w']\n",
      "[1 0]\n"
     ]
    }
   ],
   "source": [
    "df['initial_list_status'] = le.fit_transform(df['initial_list_status'])\n",
    "print(le.classes_)\n",
    "print(df[\"initial_list_status\"].unique())\n",
    "#w/f to binary\n",
    "#f=0, w=1"
   ]
  },
  {
   "cell_type": "code",
   "execution_count": 26,
   "metadata": {},
   "outputs": [
    {
     "name": "stdout",
     "output_type": "stream",
     "text": [
      "['f' 'w']\n",
      "[1 0]\n"
     ]
    }
   ],
   "source": [
    "df_test['initial_list_status'] = le.fit_transform(df_test['initial_list_status'])\n",
    "print(le.classes_)\n",
    "print(df_test[\"initial_list_status\"].unique())\n",
    "#w/f to binary\n",
    "#f=0, w=1"
   ]
  },
  {
   "attachments": {},
   "cell_type": "markdown",
   "metadata": {},
   "source": [
    "#### application_type"
   ]
  },
  {
   "cell_type": "code",
   "execution_count": 27,
   "metadata": {},
   "outputs": [
    {
     "name": "stdout",
     "output_type": "stream",
     "text": [
      "['Individual' 'Joint App']\n",
      "[1 0]\n"
     ]
    }
   ],
   "source": [
    "df['application_type'] = le.fit_transform(df['application_type'])\n",
    "print(le.classes_)\n",
    "print(df[\"initial_list_status\"].unique())\n",
    "#individual/joint to binary\n",
    "#individual=0, joint = 1"
   ]
  },
  {
   "cell_type": "code",
   "execution_count": 28,
   "metadata": {},
   "outputs": [
    {
     "name": "stdout",
     "output_type": "stream",
     "text": [
      "['Individual' 'Joint App']\n",
      "[1 0]\n"
     ]
    }
   ],
   "source": [
    "df_test['application_type'] = le.fit_transform(df_test['application_type'])\n",
    "print(le.classes_)\n",
    "print(df_test[\"initial_list_status\"].unique())\n",
    "#individual/joint to binary\n",
    "#individual=0, joint = 1"
   ]
  },
  {
   "attachments": {},
   "cell_type": "markdown",
   "metadata": {},
   "source": [
    "#### debt_settlement_flag"
   ]
  },
  {
   "cell_type": "code",
   "execution_count": 29,
   "metadata": {},
   "outputs": [
    {
     "name": "stdout",
     "output_type": "stream",
     "text": [
      "['N' 'Y']\n",
      "[0 1]\n"
     ]
    }
   ],
   "source": [
    "df['debt_settlement_flag'] = le.fit_transform(df['debt_settlement_flag'])\n",
    "print(le.classes_)\n",
    "print(df[\"debt_settlement_flag\"].unique())\n",
    "#n/y to binary\n",
    "#n=0, y=1"
   ]
  },
  {
   "cell_type": "code",
   "execution_count": 30,
   "metadata": {},
   "outputs": [
    {
     "name": "stdout",
     "output_type": "stream",
     "text": [
      "['N' 'Y']\n",
      "[0 1]\n"
     ]
    }
   ],
   "source": [
    "df_test['debt_settlement_flag'] = le.fit_transform(df_test['debt_settlement_flag'])\n",
    "print(le.classes_)\n",
    "print(df_test[\"debt_settlement_flag\"].unique())\n",
    "#n/y to binary\n",
    "#n=0, y=1"
   ]
  },
  {
   "attachments": {},
   "cell_type": "markdown",
   "metadata": {},
   "source": [
    "#### hardship_flag"
   ]
  },
  {
   "cell_type": "code",
   "execution_count": 31,
   "metadata": {},
   "outputs": [
    {
     "name": "stdout",
     "output_type": "stream",
     "text": [
      "['N' 'Y']\n",
      "[0 1]\n"
     ]
    }
   ],
   "source": [
    "df['hardship_flag'] = le.fit_transform(df['hardship_flag'])\n",
    "print(le.classes_)\n",
    "print(df[\"hardship_flag\"].unique())\n",
    "#n/y to binary\n",
    "#n=0, y=1"
   ]
  },
  {
   "cell_type": "code",
   "execution_count": 32,
   "metadata": {},
   "outputs": [
    {
     "name": "stdout",
     "output_type": "stream",
     "text": [
      "['N' 'Y']\n",
      "[0 1]\n"
     ]
    }
   ],
   "source": [
    "df_test['hardship_flag'] = le.fit_transform(df_test['hardship_flag'])\n",
    "print(le.classes_)\n",
    "print(df_test[\"hardship_flag\"].unique())\n",
    "#n/y to binary\n",
    "#n=0, y=1"
   ]
  },
  {
   "attachments": {},
   "cell_type": "markdown",
   "metadata": {},
   "source": [
    "#### disbursement_method"
   ]
  },
  {
   "cell_type": "code",
   "execution_count": 33,
   "metadata": {},
   "outputs": [
    {
     "name": "stdout",
     "output_type": "stream",
     "text": [
      "['Cash' 'DirectPay']\n",
      "[0 1]\n"
     ]
    }
   ],
   "source": [
    "df['disbursement_method'] = le.fit_transform(df['disbursement_method'])\n",
    "print(le.classes_)\n",
    "print(df[\"disbursement_method\"].unique())\n",
    "#cash/direct pay to binary\n",
    "#cash=0, direct=1"
   ]
  },
  {
   "cell_type": "code",
   "execution_count": 34,
   "metadata": {},
   "outputs": [
    {
     "name": "stdout",
     "output_type": "stream",
     "text": [
      "['Cash' 'DirectPay']\n",
      "[0 1]\n"
     ]
    }
   ],
   "source": [
    "df_test['disbursement_method'] = le.fit_transform(df_test['disbursement_method'])\n",
    "print(le.classes_)\n",
    "print(df_test[\"disbursement_method\"].unique())\n",
    "#cash/direct pay to binary\n",
    "#cash=0, direct=1"
   ]
  },
  {
   "attachments": {},
   "cell_type": "markdown",
   "metadata": {},
   "source": [
    "#### Stats of the binary encoded variables"
   ]
  },
  {
   "cell_type": "code",
   "execution_count": 35,
   "metadata": {},
   "outputs": [
    {
     "data": {
      "text/html": [
       "<div>\n",
       "<style scoped>\n",
       "    .dataframe tbody tr th:only-of-type {\n",
       "        vertical-align: middle;\n",
       "    }\n",
       "\n",
       "    .dataframe tbody tr th {\n",
       "        vertical-align: top;\n",
       "    }\n",
       "\n",
       "    .dataframe thead th {\n",
       "        text-align: right;\n",
       "    }\n",
       "</style>\n",
       "<table border=\"1\" class=\"dataframe\">\n",
       "  <thead>\n",
       "    <tr style=\"text-align: right;\">\n",
       "      <th></th>\n",
       "      <th>pymnt_plan</th>\n",
       "      <th>initial_list_status</th>\n",
       "      <th>application_type</th>\n",
       "      <th>debt_settlement_flag</th>\n",
       "      <th>hardship_flag</th>\n",
       "      <th>disbursement_method</th>\n",
       "    </tr>\n",
       "  </thead>\n",
       "  <tbody>\n",
       "    <tr>\n",
       "      <th>count</th>\n",
       "      <td>10000.000000</td>\n",
       "      <td>10000.000000</td>\n",
       "      <td>10000.000000</td>\n",
       "      <td>10000.000000</td>\n",
       "      <td>10000.000000</td>\n",
       "      <td>10000.000000</td>\n",
       "    </tr>\n",
       "    <tr>\n",
       "      <th>mean</th>\n",
       "      <td>0.000500</td>\n",
       "      <td>0.703700</td>\n",
       "      <td>0.054200</td>\n",
       "      <td>0.018000</td>\n",
       "      <td>0.000600</td>\n",
       "      <td>0.037000</td>\n",
       "    </tr>\n",
       "    <tr>\n",
       "      <th>std</th>\n",
       "      <td>0.022356</td>\n",
       "      <td>0.456648</td>\n",
       "      <td>0.226423</td>\n",
       "      <td>0.132958</td>\n",
       "      <td>0.024489</td>\n",
       "      <td>0.188771</td>\n",
       "    </tr>\n",
       "    <tr>\n",
       "      <th>min</th>\n",
       "      <td>0.000000</td>\n",
       "      <td>0.000000</td>\n",
       "      <td>0.000000</td>\n",
       "      <td>0.000000</td>\n",
       "      <td>0.000000</td>\n",
       "      <td>0.000000</td>\n",
       "    </tr>\n",
       "    <tr>\n",
       "      <th>25%</th>\n",
       "      <td>0.000000</td>\n",
       "      <td>0.000000</td>\n",
       "      <td>0.000000</td>\n",
       "      <td>0.000000</td>\n",
       "      <td>0.000000</td>\n",
       "      <td>0.000000</td>\n",
       "    </tr>\n",
       "    <tr>\n",
       "      <th>50%</th>\n",
       "      <td>0.000000</td>\n",
       "      <td>1.000000</td>\n",
       "      <td>0.000000</td>\n",
       "      <td>0.000000</td>\n",
       "      <td>0.000000</td>\n",
       "      <td>0.000000</td>\n",
       "    </tr>\n",
       "    <tr>\n",
       "      <th>75%</th>\n",
       "      <td>0.000000</td>\n",
       "      <td>1.000000</td>\n",
       "      <td>0.000000</td>\n",
       "      <td>0.000000</td>\n",
       "      <td>0.000000</td>\n",
       "      <td>0.000000</td>\n",
       "    </tr>\n",
       "    <tr>\n",
       "      <th>max</th>\n",
       "      <td>1.000000</td>\n",
       "      <td>1.000000</td>\n",
       "      <td>1.000000</td>\n",
       "      <td>1.000000</td>\n",
       "      <td>1.000000</td>\n",
       "      <td>1.000000</td>\n",
       "    </tr>\n",
       "  </tbody>\n",
       "</table>\n",
       "</div>"
      ],
      "text/plain": [
       "         pymnt_plan  initial_list_status  application_type   \n",
       "count  10000.000000         10000.000000      10000.000000  \\\n",
       "mean       0.000500             0.703700          0.054200   \n",
       "std        0.022356             0.456648          0.226423   \n",
       "min        0.000000             0.000000          0.000000   \n",
       "25%        0.000000             0.000000          0.000000   \n",
       "50%        0.000000             1.000000          0.000000   \n",
       "75%        0.000000             1.000000          0.000000   \n",
       "max        1.000000             1.000000          1.000000   \n",
       "\n",
       "       debt_settlement_flag  hardship_flag  disbursement_method  \n",
       "count          10000.000000   10000.000000         10000.000000  \n",
       "mean               0.018000       0.000600             0.037000  \n",
       "std                0.132958       0.024489             0.188771  \n",
       "min                0.000000       0.000000             0.000000  \n",
       "25%                0.000000       0.000000             0.000000  \n",
       "50%                0.000000       0.000000             0.000000  \n",
       "75%                0.000000       0.000000             0.000000  \n",
       "max                1.000000       1.000000             1.000000  "
      ]
     },
     "execution_count": 35,
     "metadata": {},
     "output_type": "execute_result"
    }
   ],
   "source": [
    "binary_columns = df[['pymnt_plan', 'initial_list_status', 'application_type', 'debt_settlement_flag', 'hardship_flag', 'disbursement_method' ]]\n",
    "\n",
    "stats2 = binary_columns.describe()\n",
    "stats2"
   ]
  },
  {
   "attachments": {},
   "cell_type": "markdown",
   "metadata": {},
   "source": [
    "### target class with label encoder, which preserves the order of the categories> 0=A, 6=G"
   ]
  },
  {
   "cell_type": "code",
   "execution_count": 36,
   "metadata": {},
   "outputs": [],
   "source": [
    "df[\"grade\"] = le.fit_transform(df[\"grade\"])"
   ]
  },
  {
   "cell_type": "code",
   "execution_count": 37,
   "metadata": {},
   "outputs": [
    {
     "data": {
      "text/plain": [
       "grade\n",
       "2    2989\n",
       "1    2881\n",
       "0    1821\n",
       "3    1449\n",
       "4     621\n",
       "5     182\n",
       "6      57\n",
       "Name: count, dtype: int64"
      ]
     },
     "execution_count": 37,
     "metadata": {},
     "output_type": "execute_result"
    }
   ],
   "source": [
    "freq = df['grade'].value_counts()\n",
    "freq"
   ]
  },
  {
   "attachments": {},
   "cell_type": "markdown",
   "metadata": {},
   "source": [
    "The data is unbalanced, so we will look at the following metrics: f1 macro, f1 micro, accuracy - those are not biased towards larger groups\n",
    "accuracy is also measured, but its not the main metric."
   ]
  },
  {
   "attachments": {},
   "cell_type": "markdown",
   "metadata": {},
   "source": [
    "### Save the new encoding"
   ]
  },
  {
   "cell_type": "code",
   "execution_count": 38,
   "metadata": {},
   "outputs": [],
   "source": [
    "df_test.to_csv('Test1.csv', index=False)\n",
    "df.to_csv('Learn1.csv', index=False)"
   ]
  },
  {
   "cell_type": "code",
   "execution_count": 39,
   "metadata": {},
   "outputs": [
    {
     "name": "stdout",
     "output_type": "stream",
     "text": [
      "The dataframes do not have the same columns.\n",
      "Columns in df but not in df_test: {'grade', 'home_OTHER'}\n",
      "Columns in df_test but not in df: {'home_NONE', 'loan_Default'}\n"
     ]
    }
   ],
   "source": [
    "if df.columns.equals(df_test.columns):\n",
    "    print(\"The dataframes have the same columns.\")\n",
    "else:\n",
    "    print(\"The dataframes do not have the same columns.\")\n",
    "\n",
    "set1 = set(df.columns)\n",
    "set2 = set(df_test.columns)\n",
    "\n",
    "print(\"Columns in df but not in df_test:\", set1 - set2)\n",
    "print(\"Columns in df_test but not in df:\", set2 - set1)"
   ]
  },
  {
   "cell_type": "code",
   "execution_count": 40,
   "metadata": {},
   "outputs": [
    {
     "data": {
      "text/plain": [
       "['policy_code']"
      ]
     },
     "execution_count": 40,
     "metadata": {},
     "output_type": "execute_result"
    }
   ],
   "source": [
    "singles = [col for col in df.columns if df[col].nunique() == 1]\n",
    "singles"
   ]
  },
  {
   "attachments": {},
   "cell_type": "markdown",
   "metadata": {},
   "source": [
    "### load learn and test dataset with new encoding"
   ]
  },
  {
   "cell_type": "code",
   "execution_count": 41,
   "metadata": {},
   "outputs": [],
   "source": [
    "lrn = pd.read_csv('Learn1.csv')\n",
    "tes = pd.read_csv('Test1.csv')\n",
    "\n",
    "#x is the training set, y is the target\n",
    "y = lrn['grade']\n",
    "X = lrn.drop(['ID', 'grade', 'home_OTHER', 'policy_code' ], axis=1)"
   ]
  },
  {
   "attachments": {},
   "cell_type": "markdown",
   "metadata": {},
   "source": [
    "# Experimentation"
   ]
  },
  {
   "attachments": {},
   "cell_type": "markdown",
   "metadata": {},
   "source": [
    "## Find best Hyperparameters"
   ]
  },
  {
   "attachments": {},
   "cell_type": "markdown",
   "metadata": {},
   "source": [
    "### For Logistic Regression, find which solvers converge for x scaled with stdscaler, minmax and unscaled"
   ]
  },
  {
   "cell_type": "markdown",
   "metadata": {},
   "source": [
    "import warnings\n",
    "from sklearn.exceptions import ConvergenceWarning\n",
    "warnings.filterwarnings('ignore')\n",
    "\n",
    "\n",
    "scaler_mm = MinMaxScaler()\n",
    "scaler_ss = StandardScaler()\n",
    "\n",
    "# create a list of the solvers to try\n",
    "solvers = ['newton-cg', 'lbfgs', 'liblinear', 'sag', 'saga']\n",
    "\n",
    "# loop over each scaler and solver combination\n",
    "for scaler, scaler_name in [(None, \"unscaled\"), (scaler_mm, \"MinMaxScaler\"), (scaler_ss, \"StandardScaler\")]:\n",
    "    if scaler is not None:\n",
    "        X_scaled = scaler.fit_transform(X)\n",
    "    else:\n",
    "        X_scaled = X\n",
    "    for solver in solvers:\n",
    "        # suppress ConvergenceWarning\n",
    "        with warnings.catch_warnings():\n",
    "            warnings.filterwarnings(\"ignore\", category=ConvergenceWarning)\n",
    "            # create the logistic regression model with OvR approach\n",
    "            model = LogisticRegression(multi_class='ovr', solver=solver, max_iter=1000)\n",
    "            # fit the model to the data\n",
    "            model.fit(X_scaled, y)\n",
    "            # print whether the model converged or not\n",
    "            print(f\"Solver {solver} ({scaler_name}): Converged? {model.n_iter_ < model.max_iter}\")\n"
   ]
  },
  {
   "attachments": {},
   "cell_type": "markdown",
   "metadata": {},
   "source": [
    "Solver -cg (unscaled): Converged? [False False False False False False  True]\n",
    "Solver lbfgs (unscaled): Converged? [False False False False False False False]\n",
    "Solver liblinear (unscaled): Converged? [ True  True  True  True  True  True  True]\n",
    "Solver sag (unscaled): Converged? [False False False False False False False]\n",
    "Solver saga (unscaled): Converged? [False False False False False False False]\n",
    "Solver newton-cg (MinMaxScaler): Converged? [ True  True  True  True  True  True  True]\n",
    "Solver lbfgs (MinMaxScaler): Converged? [ True  True  True  True  True  True  True]\n",
    "Solver liblinear (MinMaxScaler): Converged? [ True  True  True  True  True  True  True]\n",
    "Solver sag (MinMaxScaler): Converged? [ True  True  True  True  True  True  True]\n",
    "Solver saga (MinMaxScaler): Converged? [ True  True  True  True  True  True  True]\n",
    "Solver newton-cg (StandardScaler): Converged? [ True  True  True  True  True  True  True]\n",
    "Solver lbfgs (StandardScaler): Converged? [ True  True  True  True  True  True  True]\n",
    "Solver liblinear (StandardScaler): Converged? [ True  True  True  True  True  True  True]\n",
    "Solver sag (StandardScaler): Converged? [False False False False  True False False]\n",
    "Solver saga (StandardScaler): Converged? [False False False False False False False]"
   ]
  },
  {
   "attachments": {},
   "cell_type": "markdown",
   "metadata": {},
   "source": [
    "### Hyperparameters search"
   ]
  },
  {
   "cell_type": "code",
   "execution_count": 42,
   "metadata": {},
   "outputs": [],
   "source": [
    "preproc = lambda x: x.split(\"__\",1)[1]\n",
    "\n",
    "def plot_grid_search(scores, hyperparameters, scale=None):\n",
    "    data = pd.DataFrame(hyperparameters)\n",
    "    \n",
    "    # fix feature names\n",
    "    if scale is not None:\n",
    "        data.columns = [preproc(col) for col in data.columns.values] \n",
    "        \n",
    "    data['mean_test_score'] = scores\n",
    "    \n",
    "    # fix categorical values\n",
    "    categorical = data.select_dtypes(exclude='number').columns.values\n",
    "    for c in categorical:\n",
    "        oe = OrdinalEncoder()\n",
    "        data[[c]] = oe.fit_transform(data[[c]])\n",
    "\n",
    "    fig = px.parallel_coordinates(data, color=data.columns.values[-1], color_continuous_scale=px.colors.sequential.Viridis\n",
    "                                 )\n",
    "    fig.show()\n",
    "\n",
    "def grid_search(model, X, y, hyperparams, scoring, plot=True, metric=None, scale=None):\n",
    "    if scale is not None:\n",
    "        model = make_pipeline(scale, model)\n",
    "    else:\n",
    "        hyperparams = {preproc(k): v for k, v in hyperparams.items()}\n",
    "    search = GridSearchCV(model, param_grid=hyperparams, n_jobs=-1)\n",
    "    search.fit(X,y)\n",
    "    scores = search.cv_results_['mean_test_score']\n",
    "    hyperparameters = search.cv_results_['params']\n",
    "    if plot:\n",
    "        plot_grid_search(scores, hyperparameters, scale)\n",
    "    return search.best_params_"
   ]
  },
  {
   "cell_type": "code",
   "execution_count": 43,
   "metadata": {},
   "outputs": [],
   "source": [
    "params_svm = {\n",
    "    'svc__kernel': ['linear', 'poly', 'rbf'],\n",
    "    'svc__C': [0.01, 0.1, 1, 10, 100],\n",
    "    'svc__gamma': [0.001, 0.01, 0.1, 1, 10],\n",
    "    }\n",
    "\n",
    "params_lr = {\n",
    "    'logisticregression__penalty': ['l1', 'l2'],\n",
    "    'logisticregression__C': [0.01, 0.1, 1, 10, 100],\n",
    "    'logisticregression__solver': ['newton-cg', 'lbfgs', 'liblinear', 'sag', 'saga']\n",
    "    }\n",
    "\n",
    "params_dt = {\n",
    "    'decisiontreeclassifier__criterion': ['gini', 'entropy'],\n",
    "    'decisiontreeclassifier__max_depth': [None, 5, 10, 15],\n",
    "    'decisiontreeclassifier__min_samples_split': [2, 5, 10],\n",
    "    'decisiontreeclassifier__min_samples_leaf': [1, 2, 4],\n",
    "    'decisiontreeclassifier__max_features': ['sqrt', 'log2']\n",
    "    }"
   ]
  },
  {
   "cell_type": "code",
   "execution_count": 45,
   "metadata": {},
   "outputs": [
    {
     "data": {
      "application/vnd.plotly.v1+json": {
       "config": {
        "plotlyServerURL": "https://plot.ly"
       },
       "data": [
        {
         "dimensions": [
          {
           "label": "C",
           "values": [
            0.01,
            0.01,
            0.01,
            0.01,
            0.01,
            0.01,
            0.01,
            0.01,
            0.01,
            0.01,
            0.01,
            0.01,
            0.01,
            0.01,
            0.01,
            0.1,
            0.1,
            0.1,
            0.1,
            0.1,
            0.1,
            0.1,
            0.1,
            0.1,
            0.1,
            0.1,
            0.1,
            0.1,
            0.1,
            0.1,
            1,
            1,
            1,
            1,
            1,
            1,
            1,
            1,
            1,
            1,
            1,
            1,
            1,
            1,
            1,
            10,
            10,
            10,
            10,
            10,
            10,
            10,
            10,
            10,
            10,
            10,
            10,
            10,
            10,
            10,
            100,
            100,
            100,
            100,
            100,
            100,
            100,
            100,
            100,
            100,
            100,
            100,
            100,
            100,
            100
           ]
          },
          {
           "label": "gamma",
           "values": [
            0.001,
            0.001,
            0.001,
            0.01,
            0.01,
            0.01,
            0.1,
            0.1,
            0.1,
            1,
            1,
            1,
            10,
            10,
            10,
            0.001,
            0.001,
            0.001,
            0.01,
            0.01,
            0.01,
            0.1,
            0.1,
            0.1,
            1,
            1,
            1,
            10,
            10,
            10,
            0.001,
            0.001,
            0.001,
            0.01,
            0.01,
            0.01,
            0.1,
            0.1,
            0.1,
            1,
            1,
            1,
            10,
            10,
            10,
            0.001,
            0.001,
            0.001,
            0.01,
            0.01,
            0.01,
            0.1,
            0.1,
            0.1,
            1,
            1,
            1,
            10,
            10,
            10,
            0.001,
            0.001,
            0.001,
            0.01,
            0.01,
            0.01,
            0.1,
            0.1,
            0.1,
            1,
            1,
            1,
            10,
            10,
            10
           ]
          },
          {
           "label": "kernel",
           "values": [
            0,
            1,
            2,
            0,
            1,
            2,
            0,
            1,
            2,
            0,
            1,
            2,
            0,
            1,
            2,
            0,
            1,
            2,
            0,
            1,
            2,
            0,
            1,
            2,
            0,
            1,
            2,
            0,
            1,
            2,
            0,
            1,
            2,
            0,
            1,
            2,
            0,
            1,
            2,
            0,
            1,
            2,
            0,
            1,
            2,
            0,
            1,
            2,
            0,
            1,
            2,
            0,
            1,
            2,
            0,
            1,
            2,
            0,
            1,
            2,
            0,
            1,
            2,
            0,
            1,
            2,
            0,
            1,
            2,
            0,
            1,
            2,
            0,
            1,
            2
           ]
          },
          {
           "label": "mean_test_score",
           "values": [
            0.5276,
            0.29889999999999994,
            0.29889999999999994,
            0.5276,
            0.29889999999999994,
            0.29889999999999994,
            0.5276,
            0.4363,
            0.2992,
            0.5276,
            0.8252,
            0.29889999999999994,
            0.5276,
            0.8179000000000001,
            0.29889999999999994,
            0.7996000000000001,
            0.29889999999999994,
            0.29889999999999994,
            0.7996000000000001,
            0.29889999999999994,
            0.39130000000000004,
            0.7996000000000001,
            0.6584000000000001,
            0.5025999999999999,
            0.7996000000000001,
            0.8179000000000001,
            0.29889999999999994,
            0.7996000000000001,
            0.8179000000000001,
            0.29889999999999994,
            0.8708,
            0.29889999999999994,
            0.3933,
            0.8708,
            0.29889999999999994,
            0.5685,
            0.8708,
            0.8339000000000001,
            0.7687999999999999,
            0.8708,
            0.8179000000000001,
            0.3921,
            0.8708,
            0.8179000000000001,
            0.29889999999999994,
            0.8725000000000002,
            0.29889999999999994,
            0.5804,
            0.8725000000000002,
            0.4363,
            0.8351,
            0.8725000000000002,
            0.8253,
            0.8294,
            0.8725000000000002,
            0.8179000000000001,
            0.40380000000000005,
            0.8725000000000002,
            0.8179000000000001,
            0.299,
            0.8693,
            0.29889999999999994,
            0.8360000000000001,
            0.8693,
            0.6584000000000001,
            0.8765000000000001,
            0.8693,
            0.8179000000000001,
            0.8219,
            0.8693,
            0.8179000000000001,
            0.40380000000000005,
            0.8693,
            0.8179000000000001,
            0.299
           ]
          }
         ],
         "domain": {
          "x": [
           0,
           1
          ],
          "y": [
           0,
           1
          ]
         },
         "line": {
          "color": [
           0.5276,
           0.29889999999999994,
           0.29889999999999994,
           0.5276,
           0.29889999999999994,
           0.29889999999999994,
           0.5276,
           0.4363,
           0.2992,
           0.5276,
           0.8252,
           0.29889999999999994,
           0.5276,
           0.8179000000000001,
           0.29889999999999994,
           0.7996000000000001,
           0.29889999999999994,
           0.29889999999999994,
           0.7996000000000001,
           0.29889999999999994,
           0.39130000000000004,
           0.7996000000000001,
           0.6584000000000001,
           0.5025999999999999,
           0.7996000000000001,
           0.8179000000000001,
           0.29889999999999994,
           0.7996000000000001,
           0.8179000000000001,
           0.29889999999999994,
           0.8708,
           0.29889999999999994,
           0.3933,
           0.8708,
           0.29889999999999994,
           0.5685,
           0.8708,
           0.8339000000000001,
           0.7687999999999999,
           0.8708,
           0.8179000000000001,
           0.3921,
           0.8708,
           0.8179000000000001,
           0.29889999999999994,
           0.8725000000000002,
           0.29889999999999994,
           0.5804,
           0.8725000000000002,
           0.4363,
           0.8351,
           0.8725000000000002,
           0.8253,
           0.8294,
           0.8725000000000002,
           0.8179000000000001,
           0.40380000000000005,
           0.8725000000000002,
           0.8179000000000001,
           0.299,
           0.8693,
           0.29889999999999994,
           0.8360000000000001,
           0.8693,
           0.6584000000000001,
           0.8765000000000001,
           0.8693,
           0.8179000000000001,
           0.8219,
           0.8693,
           0.8179000000000001,
           0.40380000000000005,
           0.8693,
           0.8179000000000001,
           0.299
          ],
          "coloraxis": "coloraxis"
         },
         "name": "",
         "type": "parcoords"
        }
       ],
       "layout": {
        "coloraxis": {
         "colorbar": {
          "title": {
           "text": "mean_test_score"
          }
         },
         "colorscale": [
          [
           0,
           "#440154"
          ],
          [
           0.1111111111111111,
           "#482878"
          ],
          [
           0.2222222222222222,
           "#3e4989"
          ],
          [
           0.3333333333333333,
           "#31688e"
          ],
          [
           0.4444444444444444,
           "#26828e"
          ],
          [
           0.5555555555555556,
           "#1f9e89"
          ],
          [
           0.6666666666666666,
           "#35b779"
          ],
          [
           0.7777777777777778,
           "#6ece58"
          ],
          [
           0.8888888888888888,
           "#b5de2b"
          ],
          [
           1,
           "#fde725"
          ]
         ]
        },
        "legend": {
         "tracegroupgap": 0
        },
        "margin": {
         "t": 60
        },
        "template": {
         "data": {
          "bar": [
           {
            "error_x": {
             "color": "#2a3f5f"
            },
            "error_y": {
             "color": "#2a3f5f"
            },
            "marker": {
             "line": {
              "color": "#E5ECF6",
              "width": 0.5
             },
             "pattern": {
              "fillmode": "overlay",
              "size": 10,
              "solidity": 0.2
             }
            },
            "type": "bar"
           }
          ],
          "barpolar": [
           {
            "marker": {
             "line": {
              "color": "#E5ECF6",
              "width": 0.5
             },
             "pattern": {
              "fillmode": "overlay",
              "size": 10,
              "solidity": 0.2
             }
            },
            "type": "barpolar"
           }
          ],
          "carpet": [
           {
            "aaxis": {
             "endlinecolor": "#2a3f5f",
             "gridcolor": "white",
             "linecolor": "white",
             "minorgridcolor": "white",
             "startlinecolor": "#2a3f5f"
            },
            "baxis": {
             "endlinecolor": "#2a3f5f",
             "gridcolor": "white",
             "linecolor": "white",
             "minorgridcolor": "white",
             "startlinecolor": "#2a3f5f"
            },
            "type": "carpet"
           }
          ],
          "choropleth": [
           {
            "colorbar": {
             "outlinewidth": 0,
             "ticks": ""
            },
            "type": "choropleth"
           }
          ],
          "contour": [
           {
            "colorbar": {
             "outlinewidth": 0,
             "ticks": ""
            },
            "colorscale": [
             [
              0,
              "#0d0887"
             ],
             [
              0.1111111111111111,
              "#46039f"
             ],
             [
              0.2222222222222222,
              "#7201a8"
             ],
             [
              0.3333333333333333,
              "#9c179e"
             ],
             [
              0.4444444444444444,
              "#bd3786"
             ],
             [
              0.5555555555555556,
              "#d8576b"
             ],
             [
              0.6666666666666666,
              "#ed7953"
             ],
             [
              0.7777777777777778,
              "#fb9f3a"
             ],
             [
              0.8888888888888888,
              "#fdca26"
             ],
             [
              1,
              "#f0f921"
             ]
            ],
            "type": "contour"
           }
          ],
          "contourcarpet": [
           {
            "colorbar": {
             "outlinewidth": 0,
             "ticks": ""
            },
            "type": "contourcarpet"
           }
          ],
          "heatmap": [
           {
            "colorbar": {
             "outlinewidth": 0,
             "ticks": ""
            },
            "colorscale": [
             [
              0,
              "#0d0887"
             ],
             [
              0.1111111111111111,
              "#46039f"
             ],
             [
              0.2222222222222222,
              "#7201a8"
             ],
             [
              0.3333333333333333,
              "#9c179e"
             ],
             [
              0.4444444444444444,
              "#bd3786"
             ],
             [
              0.5555555555555556,
              "#d8576b"
             ],
             [
              0.6666666666666666,
              "#ed7953"
             ],
             [
              0.7777777777777778,
              "#fb9f3a"
             ],
             [
              0.8888888888888888,
              "#fdca26"
             ],
             [
              1,
              "#f0f921"
             ]
            ],
            "type": "heatmap"
           }
          ],
          "heatmapgl": [
           {
            "colorbar": {
             "outlinewidth": 0,
             "ticks": ""
            },
            "colorscale": [
             [
              0,
              "#0d0887"
             ],
             [
              0.1111111111111111,
              "#46039f"
             ],
             [
              0.2222222222222222,
              "#7201a8"
             ],
             [
              0.3333333333333333,
              "#9c179e"
             ],
             [
              0.4444444444444444,
              "#bd3786"
             ],
             [
              0.5555555555555556,
              "#d8576b"
             ],
             [
              0.6666666666666666,
              "#ed7953"
             ],
             [
              0.7777777777777778,
              "#fb9f3a"
             ],
             [
              0.8888888888888888,
              "#fdca26"
             ],
             [
              1,
              "#f0f921"
             ]
            ],
            "type": "heatmapgl"
           }
          ],
          "histogram": [
           {
            "marker": {
             "pattern": {
              "fillmode": "overlay",
              "size": 10,
              "solidity": 0.2
             }
            },
            "type": "histogram"
           }
          ],
          "histogram2d": [
           {
            "colorbar": {
             "outlinewidth": 0,
             "ticks": ""
            },
            "colorscale": [
             [
              0,
              "#0d0887"
             ],
             [
              0.1111111111111111,
              "#46039f"
             ],
             [
              0.2222222222222222,
              "#7201a8"
             ],
             [
              0.3333333333333333,
              "#9c179e"
             ],
             [
              0.4444444444444444,
              "#bd3786"
             ],
             [
              0.5555555555555556,
              "#d8576b"
             ],
             [
              0.6666666666666666,
              "#ed7953"
             ],
             [
              0.7777777777777778,
              "#fb9f3a"
             ],
             [
              0.8888888888888888,
              "#fdca26"
             ],
             [
              1,
              "#f0f921"
             ]
            ],
            "type": "histogram2d"
           }
          ],
          "histogram2dcontour": [
           {
            "colorbar": {
             "outlinewidth": 0,
             "ticks": ""
            },
            "colorscale": [
             [
              0,
              "#0d0887"
             ],
             [
              0.1111111111111111,
              "#46039f"
             ],
             [
              0.2222222222222222,
              "#7201a8"
             ],
             [
              0.3333333333333333,
              "#9c179e"
             ],
             [
              0.4444444444444444,
              "#bd3786"
             ],
             [
              0.5555555555555556,
              "#d8576b"
             ],
             [
              0.6666666666666666,
              "#ed7953"
             ],
             [
              0.7777777777777778,
              "#fb9f3a"
             ],
             [
              0.8888888888888888,
              "#fdca26"
             ],
             [
              1,
              "#f0f921"
             ]
            ],
            "type": "histogram2dcontour"
           }
          ],
          "mesh3d": [
           {
            "colorbar": {
             "outlinewidth": 0,
             "ticks": ""
            },
            "type": "mesh3d"
           }
          ],
          "parcoords": [
           {
            "line": {
             "colorbar": {
              "outlinewidth": 0,
              "ticks": ""
             }
            },
            "type": "parcoords"
           }
          ],
          "pie": [
           {
            "automargin": true,
            "type": "pie"
           }
          ],
          "scatter": [
           {
            "fillpattern": {
             "fillmode": "overlay",
             "size": 10,
             "solidity": 0.2
            },
            "type": "scatter"
           }
          ],
          "scatter3d": [
           {
            "line": {
             "colorbar": {
              "outlinewidth": 0,
              "ticks": ""
             }
            },
            "marker": {
             "colorbar": {
              "outlinewidth": 0,
              "ticks": ""
             }
            },
            "type": "scatter3d"
           }
          ],
          "scattercarpet": [
           {
            "marker": {
             "colorbar": {
              "outlinewidth": 0,
              "ticks": ""
             }
            },
            "type": "scattercarpet"
           }
          ],
          "scattergeo": [
           {
            "marker": {
             "colorbar": {
              "outlinewidth": 0,
              "ticks": ""
             }
            },
            "type": "scattergeo"
           }
          ],
          "scattergl": [
           {
            "marker": {
             "colorbar": {
              "outlinewidth": 0,
              "ticks": ""
             }
            },
            "type": "scattergl"
           }
          ],
          "scattermapbox": [
           {
            "marker": {
             "colorbar": {
              "outlinewidth": 0,
              "ticks": ""
             }
            },
            "type": "scattermapbox"
           }
          ],
          "scatterpolar": [
           {
            "marker": {
             "colorbar": {
              "outlinewidth": 0,
              "ticks": ""
             }
            },
            "type": "scatterpolar"
           }
          ],
          "scatterpolargl": [
           {
            "marker": {
             "colorbar": {
              "outlinewidth": 0,
              "ticks": ""
             }
            },
            "type": "scatterpolargl"
           }
          ],
          "scatterternary": [
           {
            "marker": {
             "colorbar": {
              "outlinewidth": 0,
              "ticks": ""
             }
            },
            "type": "scatterternary"
           }
          ],
          "surface": [
           {
            "colorbar": {
             "outlinewidth": 0,
             "ticks": ""
            },
            "colorscale": [
             [
              0,
              "#0d0887"
             ],
             [
              0.1111111111111111,
              "#46039f"
             ],
             [
              0.2222222222222222,
              "#7201a8"
             ],
             [
              0.3333333333333333,
              "#9c179e"
             ],
             [
              0.4444444444444444,
              "#bd3786"
             ],
             [
              0.5555555555555556,
              "#d8576b"
             ],
             [
              0.6666666666666666,
              "#ed7953"
             ],
             [
              0.7777777777777778,
              "#fb9f3a"
             ],
             [
              0.8888888888888888,
              "#fdca26"
             ],
             [
              1,
              "#f0f921"
             ]
            ],
            "type": "surface"
           }
          ],
          "table": [
           {
            "cells": {
             "fill": {
              "color": "#EBF0F8"
             },
             "line": {
              "color": "white"
             }
            },
            "header": {
             "fill": {
              "color": "#C8D4E3"
             },
             "line": {
              "color": "white"
             }
            },
            "type": "table"
           }
          ]
         },
         "layout": {
          "annotationdefaults": {
           "arrowcolor": "#2a3f5f",
           "arrowhead": 0,
           "arrowwidth": 1
          },
          "autotypenumbers": "strict",
          "coloraxis": {
           "colorbar": {
            "outlinewidth": 0,
            "ticks": ""
           }
          },
          "colorscale": {
           "diverging": [
            [
             0,
             "#8e0152"
            ],
            [
             0.1,
             "#c51b7d"
            ],
            [
             0.2,
             "#de77ae"
            ],
            [
             0.3,
             "#f1b6da"
            ],
            [
             0.4,
             "#fde0ef"
            ],
            [
             0.5,
             "#f7f7f7"
            ],
            [
             0.6,
             "#e6f5d0"
            ],
            [
             0.7,
             "#b8e186"
            ],
            [
             0.8,
             "#7fbc41"
            ],
            [
             0.9,
             "#4d9221"
            ],
            [
             1,
             "#276419"
            ]
           ],
           "sequential": [
            [
             0,
             "#0d0887"
            ],
            [
             0.1111111111111111,
             "#46039f"
            ],
            [
             0.2222222222222222,
             "#7201a8"
            ],
            [
             0.3333333333333333,
             "#9c179e"
            ],
            [
             0.4444444444444444,
             "#bd3786"
            ],
            [
             0.5555555555555556,
             "#d8576b"
            ],
            [
             0.6666666666666666,
             "#ed7953"
            ],
            [
             0.7777777777777778,
             "#fb9f3a"
            ],
            [
             0.8888888888888888,
             "#fdca26"
            ],
            [
             1,
             "#f0f921"
            ]
           ],
           "sequentialminus": [
            [
             0,
             "#0d0887"
            ],
            [
             0.1111111111111111,
             "#46039f"
            ],
            [
             0.2222222222222222,
             "#7201a8"
            ],
            [
             0.3333333333333333,
             "#9c179e"
            ],
            [
             0.4444444444444444,
             "#bd3786"
            ],
            [
             0.5555555555555556,
             "#d8576b"
            ],
            [
             0.6666666666666666,
             "#ed7953"
            ],
            [
             0.7777777777777778,
             "#fb9f3a"
            ],
            [
             0.8888888888888888,
             "#fdca26"
            ],
            [
             1,
             "#f0f921"
            ]
           ]
          },
          "colorway": [
           "#636efa",
           "#EF553B",
           "#00cc96",
           "#ab63fa",
           "#FFA15A",
           "#19d3f3",
           "#FF6692",
           "#B6E880",
           "#FF97FF",
           "#FECB52"
          ],
          "font": {
           "color": "#2a3f5f"
          },
          "geo": {
           "bgcolor": "white",
           "lakecolor": "white",
           "landcolor": "#E5ECF6",
           "showlakes": true,
           "showland": true,
           "subunitcolor": "white"
          },
          "hoverlabel": {
           "align": "left"
          },
          "hovermode": "closest",
          "mapbox": {
           "style": "light"
          },
          "paper_bgcolor": "white",
          "plot_bgcolor": "#E5ECF6",
          "polar": {
           "angularaxis": {
            "gridcolor": "white",
            "linecolor": "white",
            "ticks": ""
           },
           "bgcolor": "#E5ECF6",
           "radialaxis": {
            "gridcolor": "white",
            "linecolor": "white",
            "ticks": ""
           }
          },
          "scene": {
           "xaxis": {
            "backgroundcolor": "#E5ECF6",
            "gridcolor": "white",
            "gridwidth": 2,
            "linecolor": "white",
            "showbackground": true,
            "ticks": "",
            "zerolinecolor": "white"
           },
           "yaxis": {
            "backgroundcolor": "#E5ECF6",
            "gridcolor": "white",
            "gridwidth": 2,
            "linecolor": "white",
            "showbackground": true,
            "ticks": "",
            "zerolinecolor": "white"
           },
           "zaxis": {
            "backgroundcolor": "#E5ECF6",
            "gridcolor": "white",
            "gridwidth": 2,
            "linecolor": "white",
            "showbackground": true,
            "ticks": "",
            "zerolinecolor": "white"
           }
          },
          "shapedefaults": {
           "line": {
            "color": "#2a3f5f"
           }
          },
          "ternary": {
           "aaxis": {
            "gridcolor": "white",
            "linecolor": "white",
            "ticks": ""
           },
           "baxis": {
            "gridcolor": "white",
            "linecolor": "white",
            "ticks": ""
           },
           "bgcolor": "#E5ECF6",
           "caxis": {
            "gridcolor": "white",
            "linecolor": "white",
            "ticks": ""
           }
          },
          "title": {
           "x": 0.05
          },
          "xaxis": {
           "automargin": true,
           "gridcolor": "white",
           "linecolor": "white",
           "ticks": "",
           "title": {
            "standoff": 15
           },
           "zerolinecolor": "white",
           "zerolinewidth": 2
          },
          "yaxis": {
           "automargin": true,
           "gridcolor": "white",
           "linecolor": "white",
           "ticks": "",
           "title": {
            "standoff": 15
           },
           "zerolinecolor": "white",
           "zerolinewidth": 2
          }
         }
        }
       }
      }
     },
     "metadata": {},
     "output_type": "display_data"
    },
    {
     "data": {
      "text/plain": [
       "{'svc__C': 100, 'svc__gamma': 0.01, 'svc__kernel': 'rbf'}"
      ]
     },
     "execution_count": 45,
     "metadata": {},
     "output_type": "execute_result"
    }
   ],
   "source": [
    "best_svm = grid_search(SVC(), X, y, hyperparams = params_svm, scoring=f1_score, scale=MinMaxScaler())\n",
    "best_svm"
   ]
  },
  {
   "cell_type": "code",
   "execution_count": 49,
   "metadata": {},
   "outputs": [
    {
     "name": "stderr",
     "output_type": "stream",
     "text": [
      "C:\\Users\\daria\\AppData\\Roaming\\Python\\Python311\\site-packages\\sklearn\\linear_model\\_logistic.py:458: ConvergenceWarning:\n",
      "\n",
      "lbfgs failed to converge (status=1):\n",
      "STOP: TOTAL NO. of ITERATIONS REACHED LIMIT.\n",
      "\n",
      "Increase the number of iterations (max_iter) or scale the data as shown in:\n",
      "    https://scikit-learn.org/stable/modules/preprocessing.html\n",
      "Please also refer to the documentation for alternative solver options:\n",
      "    https://scikit-learn.org/stable/modules/linear_model.html#logistic-regression\n",
      "\n",
      "C:\\Users\\daria\\AppData\\Roaming\\Python\\Python311\\site-packages\\sklearn\\linear_model\\_logistic.py:458: ConvergenceWarning:\n",
      "\n",
      "lbfgs failed to converge (status=1):\n",
      "STOP: TOTAL NO. of ITERATIONS REACHED LIMIT.\n",
      "\n",
      "Increase the number of iterations (max_iter) or scale the data as shown in:\n",
      "    https://scikit-learn.org/stable/modules/preprocessing.html\n",
      "Please also refer to the documentation for alternative solver options:\n",
      "    https://scikit-learn.org/stable/modules/linear_model.html#logistic-regression\n",
      "\n",
      "C:\\Users\\daria\\AppData\\Roaming\\Python\\Python311\\site-packages\\sklearn\\linear_model\\_logistic.py:458: ConvergenceWarning:\n",
      "\n",
      "lbfgs failed to converge (status=1):\n",
      "STOP: TOTAL NO. of ITERATIONS REACHED LIMIT.\n",
      "\n",
      "Increase the number of iterations (max_iter) or scale the data as shown in:\n",
      "    https://scikit-learn.org/stable/modules/preprocessing.html\n",
      "Please also refer to the documentation for alternative solver options:\n",
      "    https://scikit-learn.org/stable/modules/linear_model.html#logistic-regression\n",
      "\n",
      "C:\\Users\\daria\\AppData\\Roaming\\Python\\Python311\\site-packages\\sklearn\\linear_model\\_logistic.py:458: ConvergenceWarning:\n",
      "\n",
      "lbfgs failed to converge (status=1):\n",
      "STOP: TOTAL NO. of ITERATIONS REACHED LIMIT.\n",
      "\n",
      "Increase the number of iterations (max_iter) or scale the data as shown in:\n",
      "    https://scikit-learn.org/stable/modules/preprocessing.html\n",
      "Please also refer to the documentation for alternative solver options:\n",
      "    https://scikit-learn.org/stable/modules/linear_model.html#logistic-regression\n",
      "\n",
      "C:\\Users\\daria\\AppData\\Roaming\\Python\\Python311\\site-packages\\sklearn\\linear_model\\_logistic.py:458: ConvergenceWarning:\n",
      "\n",
      "lbfgs failed to converge (status=1):\n",
      "STOP: TOTAL NO. of ITERATIONS REACHED LIMIT.\n",
      "\n",
      "Increase the number of iterations (max_iter) or scale the data as shown in:\n",
      "    https://scikit-learn.org/stable/modules/preprocessing.html\n",
      "Please also refer to the documentation for alternative solver options:\n",
      "    https://scikit-learn.org/stable/modules/linear_model.html#logistic-regression\n",
      "\n",
      "C:\\Users\\daria\\AppData\\Roaming\\Python\\Python311\\site-packages\\sklearn\\linear_model\\_sag.py:350: ConvergenceWarning:\n",
      "\n",
      "The max_iter was reached which means the coef_ did not converge\n",
      "\n",
      "C:\\Users\\daria\\AppData\\Roaming\\Python\\Python311\\site-packages\\sklearn\\linear_model\\_sag.py:350: ConvergenceWarning:\n",
      "\n",
      "The max_iter was reached which means the coef_ did not converge\n",
      "\n",
      "C:\\Users\\daria\\AppData\\Roaming\\Python\\Python311\\site-packages\\sklearn\\linear_model\\_sag.py:350: ConvergenceWarning:\n",
      "\n",
      "The max_iter was reached which means the coef_ did not converge\n",
      "\n",
      "C:\\Users\\daria\\AppData\\Roaming\\Python\\Python311\\site-packages\\sklearn\\linear_model\\_sag.py:350: ConvergenceWarning:\n",
      "\n",
      "The max_iter was reached which means the coef_ did not converge\n",
      "\n",
      "C:\\Users\\daria\\AppData\\Roaming\\Python\\Python311\\site-packages\\sklearn\\linear_model\\_sag.py:350: ConvergenceWarning:\n",
      "\n",
      "The max_iter was reached which means the coef_ did not converge\n",
      "\n",
      "C:\\Users\\daria\\AppData\\Roaming\\Python\\Python311\\site-packages\\sklearn\\linear_model\\_logistic.py:458: ConvergenceWarning:\n",
      "\n",
      "lbfgs failed to converge (status=1):\n",
      "STOP: TOTAL NO. of ITERATIONS REACHED LIMIT.\n",
      "\n",
      "Increase the number of iterations (max_iter) or scale the data as shown in:\n",
      "    https://scikit-learn.org/stable/modules/preprocessing.html\n",
      "Please also refer to the documentation for alternative solver options:\n",
      "    https://scikit-learn.org/stable/modules/linear_model.html#logistic-regression\n",
      "\n",
      "C:\\Users\\daria\\AppData\\Roaming\\Python\\Python311\\site-packages\\sklearn\\linear_model\\_logistic.py:458: ConvergenceWarning:\n",
      "\n",
      "lbfgs failed to converge (status=1):\n",
      "STOP: TOTAL NO. of ITERATIONS REACHED LIMIT.\n",
      "\n",
      "Increase the number of iterations (max_iter) or scale the data as shown in:\n",
      "    https://scikit-learn.org/stable/modules/preprocessing.html\n",
      "Please also refer to the documentation for alternative solver options:\n",
      "    https://scikit-learn.org/stable/modules/linear_model.html#logistic-regression\n",
      "\n",
      "C:\\Users\\daria\\AppData\\Roaming\\Python\\Python311\\site-packages\\sklearn\\linear_model\\_logistic.py:458: ConvergenceWarning:\n",
      "\n",
      "lbfgs failed to converge (status=1):\n",
      "STOP: TOTAL NO. of ITERATIONS REACHED LIMIT.\n",
      "\n",
      "Increase the number of iterations (max_iter) or scale the data as shown in:\n",
      "    https://scikit-learn.org/stable/modules/preprocessing.html\n",
      "Please also refer to the documentation for alternative solver options:\n",
      "    https://scikit-learn.org/stable/modules/linear_model.html#logistic-regression\n",
      "\n",
      "C:\\Users\\daria\\AppData\\Roaming\\Python\\Python311\\site-packages\\sklearn\\linear_model\\_logistic.py:458: ConvergenceWarning:\n",
      "\n",
      "lbfgs failed to converge (status=1):\n",
      "STOP: TOTAL NO. of ITERATIONS REACHED LIMIT.\n",
      "\n",
      "Increase the number of iterations (max_iter) or scale the data as shown in:\n",
      "    https://scikit-learn.org/stable/modules/preprocessing.html\n",
      "Please also refer to the documentation for alternative solver options:\n",
      "    https://scikit-learn.org/stable/modules/linear_model.html#logistic-regression\n",
      "\n",
      "C:\\Users\\daria\\AppData\\Roaming\\Python\\Python311\\site-packages\\sklearn\\linear_model\\_logistic.py:458: ConvergenceWarning:\n",
      "\n",
      "lbfgs failed to converge (status=1):\n",
      "STOP: TOTAL NO. of ITERATIONS REACHED LIMIT.\n",
      "\n",
      "Increase the number of iterations (max_iter) or scale the data as shown in:\n",
      "    https://scikit-learn.org/stable/modules/preprocessing.html\n",
      "Please also refer to the documentation for alternative solver options:\n",
      "    https://scikit-learn.org/stable/modules/linear_model.html#logistic-regression\n",
      "\n",
      "C:\\Users\\daria\\AppData\\Roaming\\Python\\Python311\\site-packages\\sklearn\\linear_model\\_sag.py:350: ConvergenceWarning:\n",
      "\n",
      "The max_iter was reached which means the coef_ did not converge\n",
      "\n",
      "C:\\Users\\daria\\AppData\\Roaming\\Python\\Python311\\site-packages\\sklearn\\linear_model\\_sag.py:350: ConvergenceWarning:\n",
      "\n",
      "The max_iter was reached which means the coef_ did not converge\n",
      "\n",
      "C:\\Users\\daria\\AppData\\Roaming\\Python\\Python311\\site-packages\\sklearn\\linear_model\\_sag.py:350: ConvergenceWarning:\n",
      "\n",
      "The max_iter was reached which means the coef_ did not converge\n",
      "\n",
      "C:\\Users\\daria\\AppData\\Roaming\\Python\\Python311\\site-packages\\sklearn\\linear_model\\_sag.py:350: ConvergenceWarning:\n",
      "\n",
      "The max_iter was reached which means the coef_ did not converge\n",
      "\n",
      "C:\\Users\\daria\\AppData\\Roaming\\Python\\Python311\\site-packages\\sklearn\\linear_model\\_sag.py:350: ConvergenceWarning:\n",
      "\n",
      "The max_iter was reached which means the coef_ did not converge\n",
      "\n",
      "C:\\Users\\daria\\AppData\\Roaming\\Python\\Python311\\site-packages\\sklearn\\linear_model\\_logistic.py:458: ConvergenceWarning:\n",
      "\n",
      "lbfgs failed to converge (status=1):\n",
      "STOP: TOTAL NO. of ITERATIONS REACHED LIMIT.\n",
      "\n",
      "Increase the number of iterations (max_iter) or scale the data as shown in:\n",
      "    https://scikit-learn.org/stable/modules/preprocessing.html\n",
      "Please also refer to the documentation for alternative solver options:\n",
      "    https://scikit-learn.org/stable/modules/linear_model.html#logistic-regression\n",
      "\n",
      "C:\\Users\\daria\\AppData\\Roaming\\Python\\Python311\\site-packages\\sklearn\\linear_model\\_logistic.py:458: ConvergenceWarning:\n",
      "\n",
      "lbfgs failed to converge (status=1):\n",
      "STOP: TOTAL NO. of ITERATIONS REACHED LIMIT.\n",
      "\n",
      "Increase the number of iterations (max_iter) or scale the data as shown in:\n",
      "    https://scikit-learn.org/stable/modules/preprocessing.html\n",
      "Please also refer to the documentation for alternative solver options:\n",
      "    https://scikit-learn.org/stable/modules/linear_model.html#logistic-regression\n",
      "\n",
      "C:\\Users\\daria\\AppData\\Roaming\\Python\\Python311\\site-packages\\sklearn\\linear_model\\_logistic.py:458: ConvergenceWarning:\n",
      "\n",
      "lbfgs failed to converge (status=1):\n",
      "STOP: TOTAL NO. of ITERATIONS REACHED LIMIT.\n",
      "\n",
      "Increase the number of iterations (max_iter) or scale the data as shown in:\n",
      "    https://scikit-learn.org/stable/modules/preprocessing.html\n",
      "Please also refer to the documentation for alternative solver options:\n",
      "    https://scikit-learn.org/stable/modules/linear_model.html#logistic-regression\n",
      "\n",
      "C:\\Users\\daria\\AppData\\Roaming\\Python\\Python311\\site-packages\\sklearn\\linear_model\\_logistic.py:458: ConvergenceWarning:\n",
      "\n",
      "lbfgs failed to converge (status=1):\n",
      "STOP: TOTAL NO. of ITERATIONS REACHED LIMIT.\n",
      "\n",
      "Increase the number of iterations (max_iter) or scale the data as shown in:\n",
      "    https://scikit-learn.org/stable/modules/preprocessing.html\n",
      "Please also refer to the documentation for alternative solver options:\n",
      "    https://scikit-learn.org/stable/modules/linear_model.html#logistic-regression\n",
      "\n",
      "C:\\Users\\daria\\AppData\\Roaming\\Python\\Python311\\site-packages\\sklearn\\linear_model\\_logistic.py:458: ConvergenceWarning:\n",
      "\n",
      "lbfgs failed to converge (status=1):\n",
      "STOP: TOTAL NO. of ITERATIONS REACHED LIMIT.\n",
      "\n",
      "Increase the number of iterations (max_iter) or scale the data as shown in:\n",
      "    https://scikit-learn.org/stable/modules/preprocessing.html\n",
      "Please also refer to the documentation for alternative solver options:\n",
      "    https://scikit-learn.org/stable/modules/linear_model.html#logistic-regression\n",
      "\n",
      "C:\\Users\\daria\\AppData\\Roaming\\Python\\Python311\\site-packages\\sklearn\\linear_model\\_sag.py:350: ConvergenceWarning:\n",
      "\n",
      "The max_iter was reached which means the coef_ did not converge\n",
      "\n",
      "C:\\Users\\daria\\AppData\\Roaming\\Python\\Python311\\site-packages\\sklearn\\linear_model\\_sag.py:350: ConvergenceWarning:\n",
      "\n",
      "The max_iter was reached which means the coef_ did not converge\n",
      "\n",
      "C:\\Users\\daria\\AppData\\Roaming\\Python\\Python311\\site-packages\\sklearn\\linear_model\\_sag.py:350: ConvergenceWarning:\n",
      "\n",
      "The max_iter was reached which means the coef_ did not converge\n",
      "\n",
      "C:\\Users\\daria\\AppData\\Roaming\\Python\\Python311\\site-packages\\sklearn\\linear_model\\_sag.py:350: ConvergenceWarning:\n",
      "\n",
      "The max_iter was reached which means the coef_ did not converge\n",
      "\n",
      "C:\\Users\\daria\\AppData\\Roaming\\Python\\Python311\\site-packages\\sklearn\\linear_model\\_sag.py:350: ConvergenceWarning:\n",
      "\n",
      "The max_iter was reached which means the coef_ did not converge\n",
      "\n",
      "C:\\Users\\daria\\AppData\\Roaming\\Python\\Python311\\site-packages\\sklearn\\linear_model\\_sag.py:350: ConvergenceWarning:\n",
      "\n",
      "The max_iter was reached which means the coef_ did not converge\n",
      "\n",
      "C:\\Users\\daria\\AppData\\Roaming\\Python\\Python311\\site-packages\\sklearn\\linear_model\\_sag.py:350: ConvergenceWarning:\n",
      "\n",
      "The max_iter was reached which means the coef_ did not converge\n",
      "\n",
      "C:\\Users\\daria\\AppData\\Roaming\\Python\\Python311\\site-packages\\sklearn\\linear_model\\_sag.py:350: ConvergenceWarning:\n",
      "\n",
      "The max_iter was reached which means the coef_ did not converge\n",
      "\n",
      "C:\\Users\\daria\\AppData\\Roaming\\Python\\Python311\\site-packages\\sklearn\\linear_model\\_sag.py:350: ConvergenceWarning:\n",
      "\n",
      "The max_iter was reached which means the coef_ did not converge\n",
      "\n",
      "C:\\Users\\daria\\AppData\\Roaming\\Python\\Python311\\site-packages\\sklearn\\linear_model\\_sag.py:350: ConvergenceWarning:\n",
      "\n",
      "The max_iter was reached which means the coef_ did not converge\n",
      "\n",
      "C:\\Users\\daria\\AppData\\Roaming\\Python\\Python311\\site-packages\\sklearn\\linear_model\\_logistic.py:458: ConvergenceWarning:\n",
      "\n",
      "lbfgs failed to converge (status=1):\n",
      "STOP: TOTAL NO. of ITERATIONS REACHED LIMIT.\n",
      "\n",
      "Increase the number of iterations (max_iter) or scale the data as shown in:\n",
      "    https://scikit-learn.org/stable/modules/preprocessing.html\n",
      "Please also refer to the documentation for alternative solver options:\n",
      "    https://scikit-learn.org/stable/modules/linear_model.html#logistic-regression\n",
      "\n",
      "C:\\Users\\daria\\AppData\\Roaming\\Python\\Python311\\site-packages\\sklearn\\linear_model\\_logistic.py:458: ConvergenceWarning:\n",
      "\n",
      "lbfgs failed to converge (status=1):\n",
      "STOP: TOTAL NO. of ITERATIONS REACHED LIMIT.\n",
      "\n",
      "Increase the number of iterations (max_iter) or scale the data as shown in:\n",
      "    https://scikit-learn.org/stable/modules/preprocessing.html\n",
      "Please also refer to the documentation for alternative solver options:\n",
      "    https://scikit-learn.org/stable/modules/linear_model.html#logistic-regression\n",
      "\n",
      "C:\\Users\\daria\\AppData\\Roaming\\Python\\Python311\\site-packages\\sklearn\\linear_model\\_logistic.py:458: ConvergenceWarning:\n",
      "\n",
      "lbfgs failed to converge (status=1):\n",
      "STOP: TOTAL NO. of ITERATIONS REACHED LIMIT.\n",
      "\n",
      "Increase the number of iterations (max_iter) or scale the data as shown in:\n",
      "    https://scikit-learn.org/stable/modules/preprocessing.html\n",
      "Please also refer to the documentation for alternative solver options:\n",
      "    https://scikit-learn.org/stable/modules/linear_model.html#logistic-regression\n",
      "\n",
      "C:\\Users\\daria\\AppData\\Roaming\\Python\\Python311\\site-packages\\sklearn\\linear_model\\_logistic.py:458: ConvergenceWarning:\n",
      "\n",
      "lbfgs failed to converge (status=1):\n",
      "STOP: TOTAL NO. of ITERATIONS REACHED LIMIT.\n",
      "\n",
      "Increase the number of iterations (max_iter) or scale the data as shown in:\n",
      "    https://scikit-learn.org/stable/modules/preprocessing.html\n",
      "Please also refer to the documentation for alternative solver options:\n",
      "    https://scikit-learn.org/stable/modules/linear_model.html#logistic-regression\n",
      "\n",
      "C:\\Users\\daria\\AppData\\Roaming\\Python\\Python311\\site-packages\\sklearn\\linear_model\\_logistic.py:458: ConvergenceWarning:\n",
      "\n",
      "lbfgs failed to converge (status=1):\n",
      "STOP: TOTAL NO. of ITERATIONS REACHED LIMIT.\n",
      "\n",
      "Increase the number of iterations (max_iter) or scale the data as shown in:\n",
      "    https://scikit-learn.org/stable/modules/preprocessing.html\n",
      "Please also refer to the documentation for alternative solver options:\n",
      "    https://scikit-learn.org/stable/modules/linear_model.html#logistic-regression\n",
      "\n",
      "C:\\Users\\daria\\AppData\\Roaming\\Python\\Python311\\site-packages\\sklearn\\linear_model\\_sag.py:350: ConvergenceWarning:\n",
      "\n",
      "The max_iter was reached which means the coef_ did not converge\n",
      "\n",
      "C:\\Users\\daria\\AppData\\Roaming\\Python\\Python311\\site-packages\\sklearn\\linear_model\\_sag.py:350: ConvergenceWarning:\n",
      "\n",
      "The max_iter was reached which means the coef_ did not converge\n",
      "\n",
      "C:\\Users\\daria\\AppData\\Roaming\\Python\\Python311\\site-packages\\sklearn\\linear_model\\_sag.py:350: ConvergenceWarning:\n",
      "\n",
      "The max_iter was reached which means the coef_ did not converge\n",
      "\n",
      "C:\\Users\\daria\\AppData\\Roaming\\Python\\Python311\\site-packages\\sklearn\\linear_model\\_sag.py:350: ConvergenceWarning:\n",
      "\n",
      "The max_iter was reached which means the coef_ did not converge\n",
      "\n",
      "C:\\Users\\daria\\AppData\\Roaming\\Python\\Python311\\site-packages\\sklearn\\linear_model\\_sag.py:350: ConvergenceWarning:\n",
      "\n",
      "The max_iter was reached which means the coef_ did not converge\n",
      "\n",
      "C:\\Users\\daria\\AppData\\Roaming\\Python\\Python311\\site-packages\\sklearn\\linear_model\\_sag.py:350: ConvergenceWarning:\n",
      "\n",
      "The max_iter was reached which means the coef_ did not converge\n",
      "\n",
      "C:\\Users\\daria\\AppData\\Roaming\\Python\\Python311\\site-packages\\sklearn\\linear_model\\_sag.py:350: ConvergenceWarning:\n",
      "\n",
      "The max_iter was reached which means the coef_ did not converge\n",
      "\n",
      "C:\\Users\\daria\\AppData\\Roaming\\Python\\Python311\\site-packages\\sklearn\\linear_model\\_sag.py:350: ConvergenceWarning:\n",
      "\n",
      "The max_iter was reached which means the coef_ did not converge\n",
      "\n",
      "C:\\Users\\daria\\AppData\\Roaming\\Python\\Python311\\site-packages\\sklearn\\linear_model\\_sag.py:350: ConvergenceWarning:\n",
      "\n",
      "The max_iter was reached which means the coef_ did not converge\n",
      "\n",
      "C:\\Users\\daria\\AppData\\Roaming\\Python\\Python311\\site-packages\\sklearn\\linear_model\\_sag.py:350: ConvergenceWarning:\n",
      "\n",
      "The max_iter was reached which means the coef_ did not converge\n",
      "\n",
      "C:\\Users\\daria\\AppData\\Roaming\\Python\\Python311\\site-packages\\sklearn\\linear_model\\_sag.py:350: ConvergenceWarning:\n",
      "\n",
      "The max_iter was reached which means the coef_ did not converge\n",
      "\n",
      "C:\\Users\\daria\\AppData\\Roaming\\Python\\Python311\\site-packages\\sklearn\\linear_model\\_sag.py:350: ConvergenceWarning:\n",
      "\n",
      "The max_iter was reached which means the coef_ did not converge\n",
      "\n",
      "C:\\Users\\daria\\AppData\\Roaming\\Python\\Python311\\site-packages\\sklearn\\linear_model\\_sag.py:350: ConvergenceWarning:\n",
      "\n",
      "The max_iter was reached which means the coef_ did not converge\n",
      "\n",
      "C:\\Users\\daria\\AppData\\Roaming\\Python\\Python311\\site-packages\\sklearn\\linear_model\\_sag.py:350: ConvergenceWarning:\n",
      "\n",
      "The max_iter was reached which means the coef_ did not converge\n",
      "\n",
      "C:\\Users\\daria\\AppData\\Roaming\\Python\\Python311\\site-packages\\sklearn\\linear_model\\_sag.py:350: ConvergenceWarning:\n",
      "\n",
      "The max_iter was reached which means the coef_ did not converge\n",
      "\n",
      "C:\\Users\\daria\\AppData\\Roaming\\Python\\Python311\\site-packages\\sklearn\\linear_model\\_logistic.py:458: ConvergenceWarning:\n",
      "\n",
      "lbfgs failed to converge (status=1):\n",
      "STOP: TOTAL NO. of ITERATIONS REACHED LIMIT.\n",
      "\n",
      "Increase the number of iterations (max_iter) or scale the data as shown in:\n",
      "    https://scikit-learn.org/stable/modules/preprocessing.html\n",
      "Please also refer to the documentation for alternative solver options:\n",
      "    https://scikit-learn.org/stable/modules/linear_model.html#logistic-regression\n",
      "\n",
      "C:\\Users\\daria\\AppData\\Roaming\\Python\\Python311\\site-packages\\sklearn\\linear_model\\_logistic.py:458: ConvergenceWarning:\n",
      "\n",
      "lbfgs failed to converge (status=1):\n",
      "STOP: TOTAL NO. of ITERATIONS REACHED LIMIT.\n",
      "\n",
      "Increase the number of iterations (max_iter) or scale the data as shown in:\n",
      "    https://scikit-learn.org/stable/modules/preprocessing.html\n",
      "Please also refer to the documentation for alternative solver options:\n",
      "    https://scikit-learn.org/stable/modules/linear_model.html#logistic-regression\n",
      "\n",
      "C:\\Users\\daria\\AppData\\Roaming\\Python\\Python311\\site-packages\\sklearn\\linear_model\\_logistic.py:458: ConvergenceWarning:\n",
      "\n",
      "lbfgs failed to converge (status=1):\n",
      "STOP: TOTAL NO. of ITERATIONS REACHED LIMIT.\n",
      "\n",
      "Increase the number of iterations (max_iter) or scale the data as shown in:\n",
      "    https://scikit-learn.org/stable/modules/preprocessing.html\n",
      "Please also refer to the documentation for alternative solver options:\n",
      "    https://scikit-learn.org/stable/modules/linear_model.html#logistic-regression\n",
      "\n",
      "C:\\Users\\daria\\AppData\\Roaming\\Python\\Python311\\site-packages\\sklearn\\linear_model\\_logistic.py:458: ConvergenceWarning:\n",
      "\n",
      "lbfgs failed to converge (status=1):\n",
      "STOP: TOTAL NO. of ITERATIONS REACHED LIMIT.\n",
      "\n",
      "Increase the number of iterations (max_iter) or scale the data as shown in:\n",
      "    https://scikit-learn.org/stable/modules/preprocessing.html\n",
      "Please also refer to the documentation for alternative solver options:\n",
      "    https://scikit-learn.org/stable/modules/linear_model.html#logistic-regression\n",
      "\n",
      "C:\\Users\\daria\\AppData\\Roaming\\Python\\Python311\\site-packages\\sklearn\\linear_model\\_logistic.py:458: ConvergenceWarning:\n",
      "\n",
      "lbfgs failed to converge (status=1):\n",
      "STOP: TOTAL NO. of ITERATIONS REACHED LIMIT.\n",
      "\n",
      "Increase the number of iterations (max_iter) or scale the data as shown in:\n",
      "    https://scikit-learn.org/stable/modules/preprocessing.html\n",
      "Please also refer to the documentation for alternative solver options:\n",
      "    https://scikit-learn.org/stable/modules/linear_model.html#logistic-regression\n",
      "\n",
      "C:\\Users\\daria\\AppData\\Roaming\\Python\\Python311\\site-packages\\sklearn\\linear_model\\_sag.py:350: ConvergenceWarning:\n",
      "\n",
      "The max_iter was reached which means the coef_ did not converge\n",
      "\n",
      "C:\\Users\\daria\\AppData\\Roaming\\Python\\Python311\\site-packages\\sklearn\\linear_model\\_sag.py:350: ConvergenceWarning:\n",
      "\n",
      "The max_iter was reached which means the coef_ did not converge\n",
      "\n",
      "C:\\Users\\daria\\AppData\\Roaming\\Python\\Python311\\site-packages\\sklearn\\linear_model\\_sag.py:350: ConvergenceWarning:\n",
      "\n",
      "The max_iter was reached which means the coef_ did not converge\n",
      "\n",
      "C:\\Users\\daria\\AppData\\Roaming\\Python\\Python311\\site-packages\\sklearn\\linear_model\\_sag.py:350: ConvergenceWarning:\n",
      "\n",
      "The max_iter was reached which means the coef_ did not converge\n",
      "\n",
      "C:\\Users\\daria\\AppData\\Roaming\\Python\\Python311\\site-packages\\sklearn\\linear_model\\_sag.py:350: ConvergenceWarning:\n",
      "\n",
      "The max_iter was reached which means the coef_ did not converge\n",
      "\n",
      "C:\\Users\\daria\\AppData\\Roaming\\Python\\Python311\\site-packages\\sklearn\\linear_model\\_sag.py:350: ConvergenceWarning:\n",
      "\n",
      "The max_iter was reached which means the coef_ did not converge\n",
      "\n",
      "C:\\Users\\daria\\AppData\\Roaming\\Python\\Python311\\site-packages\\sklearn\\linear_model\\_sag.py:350: ConvergenceWarning:\n",
      "\n",
      "The max_iter was reached which means the coef_ did not converge\n",
      "\n",
      "C:\\Users\\daria\\AppData\\Roaming\\Python\\Python311\\site-packages\\sklearn\\linear_model\\_sag.py:350: ConvergenceWarning:\n",
      "\n",
      "The max_iter was reached which means the coef_ did not converge\n",
      "\n",
      "C:\\Users\\daria\\AppData\\Roaming\\Python\\Python311\\site-packages\\sklearn\\linear_model\\_sag.py:350: ConvergenceWarning:\n",
      "\n",
      "The max_iter was reached which means the coef_ did not converge\n",
      "\n",
      "C:\\Users\\daria\\AppData\\Roaming\\Python\\Python311\\site-packages\\sklearn\\linear_model\\_sag.py:350: ConvergenceWarning:\n",
      "\n",
      "The max_iter was reached which means the coef_ did not converge\n",
      "\n",
      "C:\\Users\\daria\\AppData\\Roaming\\Python\\Python311\\site-packages\\sklearn\\model_selection\\_validation.py:378: FitFailedWarning:\n",
      "\n",
      "\n",
      "75 fits failed out of a total of 250.\n",
      "The score on these train-test partitions for these parameters will be set to nan.\n",
      "If these failures are not expected, you can try to debug them by setting error_score='raise'.\n",
      "\n",
      "Below are more details about the failures:\n",
      "--------------------------------------------------------------------------------\n",
      "25 fits failed with the following error:\n",
      "Traceback (most recent call last):\n",
      "  File \"C:\\Users\\daria\\AppData\\Roaming\\Python\\Python311\\site-packages\\sklearn\\model_selection\\_validation.py\", line 686, in _fit_and_score\n",
      "    estimator.fit(X_train, y_train, **fit_params)\n",
      "  File \"C:\\Users\\daria\\AppData\\Roaming\\Python\\Python311\\site-packages\\sklearn\\pipeline.py\", line 405, in fit\n",
      "    self._final_estimator.fit(Xt, y, **fit_params_last_step)\n",
      "  File \"C:\\Users\\daria\\AppData\\Roaming\\Python\\Python311\\site-packages\\sklearn\\linear_model\\_logistic.py\", line 1162, in fit\n",
      "    solver = _check_solver(self.solver, self.penalty, self.dual)\n",
      "             ^^^^^^^^^^^^^^^^^^^^^^^^^^^^^^^^^^^^^^^^^^^^^^^^^^^\n",
      "  File \"C:\\Users\\daria\\AppData\\Roaming\\Python\\Python311\\site-packages\\sklearn\\linear_model\\_logistic.py\", line 54, in _check_solver\n",
      "    raise ValueError(\n",
      "ValueError: Solver newton-cg supports only 'l2' or 'none' penalties, got l1 penalty.\n",
      "\n",
      "--------------------------------------------------------------------------------\n",
      "25 fits failed with the following error:\n",
      "Traceback (most recent call last):\n",
      "  File \"C:\\Users\\daria\\AppData\\Roaming\\Python\\Python311\\site-packages\\sklearn\\model_selection\\_validation.py\", line 686, in _fit_and_score\n",
      "    estimator.fit(X_train, y_train, **fit_params)\n",
      "  File \"C:\\Users\\daria\\AppData\\Roaming\\Python\\Python311\\site-packages\\sklearn\\pipeline.py\", line 405, in fit\n",
      "    self._final_estimator.fit(Xt, y, **fit_params_last_step)\n",
      "  File \"C:\\Users\\daria\\AppData\\Roaming\\Python\\Python311\\site-packages\\sklearn\\linear_model\\_logistic.py\", line 1162, in fit\n",
      "    solver = _check_solver(self.solver, self.penalty, self.dual)\n",
      "             ^^^^^^^^^^^^^^^^^^^^^^^^^^^^^^^^^^^^^^^^^^^^^^^^^^^\n",
      "  File \"C:\\Users\\daria\\AppData\\Roaming\\Python\\Python311\\site-packages\\sklearn\\linear_model\\_logistic.py\", line 54, in _check_solver\n",
      "    raise ValueError(\n",
      "ValueError: Solver lbfgs supports only 'l2' or 'none' penalties, got l1 penalty.\n",
      "\n",
      "--------------------------------------------------------------------------------\n",
      "25 fits failed with the following error:\n",
      "Traceback (most recent call last):\n",
      "  File \"C:\\Users\\daria\\AppData\\Roaming\\Python\\Python311\\site-packages\\sklearn\\model_selection\\_validation.py\", line 686, in _fit_and_score\n",
      "    estimator.fit(X_train, y_train, **fit_params)\n",
      "  File \"C:\\Users\\daria\\AppData\\Roaming\\Python\\Python311\\site-packages\\sklearn\\pipeline.py\", line 405, in fit\n",
      "    self._final_estimator.fit(Xt, y, **fit_params_last_step)\n",
      "  File \"C:\\Users\\daria\\AppData\\Roaming\\Python\\Python311\\site-packages\\sklearn\\linear_model\\_logistic.py\", line 1162, in fit\n",
      "    solver = _check_solver(self.solver, self.penalty, self.dual)\n",
      "             ^^^^^^^^^^^^^^^^^^^^^^^^^^^^^^^^^^^^^^^^^^^^^^^^^^^\n",
      "  File \"C:\\Users\\daria\\AppData\\Roaming\\Python\\Python311\\site-packages\\sklearn\\linear_model\\_logistic.py\", line 54, in _check_solver\n",
      "    raise ValueError(\n",
      "ValueError: Solver sag supports only 'l2' or 'none' penalties, got l1 penalty.\n",
      "\n",
      "\n",
      "C:\\Users\\daria\\AppData\\Roaming\\Python\\Python311\\site-packages\\sklearn\\model_selection\\_search.py:952: UserWarning:\n",
      "\n",
      "One or more of the test scores are non-finite: [   nan    nan 0.6391    nan 0.6724 0.5035 0.5031 0.4902 0.5035 0.5035\n",
      "    nan    nan 0.6937    nan 0.8453 0.6301 0.6281 0.5742 0.6302 0.6301\n",
      "    nan    nan 0.6844    nan 0.8743 0.7917 0.7816 0.6453 0.7916 0.7908\n",
      "    nan    nan 0.6763    nan 0.866  0.8606 0.8368 0.6736 0.8608 0.8553\n",
      "    nan    nan 0.6736    nan 0.8641 0.869  0.838  0.6745 0.8676 0.8631]\n",
      "\n",
      "C:\\Users\\daria\\AppData\\Roaming\\Python\\Python311\\site-packages\\sklearn\\linear_model\\_sag.py:350: ConvergenceWarning:\n",
      "\n",
      "The max_iter was reached which means the coef_ did not converge\n",
      "\n"
     ]
    },
    {
     "data": {
      "application/vnd.plotly.v1+json": {
       "config": {
        "plotlyServerURL": "https://plot.ly"
       },
       "data": [
        {
         "dimensions": [
          {
           "label": "C",
           "values": [
            0.01,
            0.01,
            0.01,
            0.01,
            0.01,
            0.01,
            0.01,
            0.01,
            0.01,
            0.01,
            0.1,
            0.1,
            0.1,
            0.1,
            0.1,
            0.1,
            0.1,
            0.1,
            0.1,
            0.1,
            1,
            1,
            1,
            1,
            1,
            1,
            1,
            1,
            1,
            1,
            10,
            10,
            10,
            10,
            10,
            10,
            10,
            10,
            10,
            10,
            100,
            100,
            100,
            100,
            100,
            100,
            100,
            100,
            100,
            100
           ]
          },
          {
           "label": "penalty",
           "values": [
            0,
            0,
            0,
            0,
            0,
            1,
            1,
            1,
            1,
            1,
            0,
            0,
            0,
            0,
            0,
            1,
            1,
            1,
            1,
            1,
            0,
            0,
            0,
            0,
            0,
            1,
            1,
            1,
            1,
            1,
            0,
            0,
            0,
            0,
            0,
            1,
            1,
            1,
            1,
            1,
            0,
            0,
            0,
            0,
            0,
            1,
            1,
            1,
            1,
            1
           ]
          },
          {
           "label": "solver",
           "values": [
            2,
            0,
            1,
            3,
            4,
            2,
            0,
            1,
            3,
            4,
            2,
            0,
            1,
            3,
            4,
            2,
            0,
            1,
            3,
            4,
            2,
            0,
            1,
            3,
            4,
            2,
            0,
            1,
            3,
            4,
            2,
            0,
            1,
            3,
            4,
            2,
            0,
            1,
            3,
            4,
            2,
            0,
            1,
            3,
            4,
            2,
            0,
            1,
            3,
            4
           ]
          },
          {
           "label": "mean_test_score",
           "values": [
            null,
            null,
            0.6391,
            null,
            0.6724,
            0.5035000000000001,
            0.5031,
            0.4902,
            0.5035000000000001,
            0.5035000000000001,
            null,
            null,
            0.6937,
            null,
            0.8452999999999999,
            0.6301,
            0.6281000000000001,
            0.5741999999999999,
            0.6302,
            0.6301,
            null,
            null,
            0.6844000000000001,
            null,
            0.8743000000000001,
            0.7917000000000001,
            0.7816,
            0.6453,
            0.7916,
            0.7908000000000001,
            null,
            null,
            0.6763,
            null,
            0.866,
            0.8606,
            0.8368,
            0.6736000000000001,
            0.8608,
            0.8553000000000001,
            null,
            null,
            0.6736,
            null,
            0.8641,
            0.8690000000000001,
            0.8380000000000001,
            0.6745000000000001,
            0.8676,
            0.8631
           ]
          }
         ],
         "domain": {
          "x": [
           0,
           1
          ],
          "y": [
           0,
           1
          ]
         },
         "line": {
          "color": [
           null,
           null,
           0.6391,
           null,
           0.6724,
           0.5035000000000001,
           0.5031,
           0.4902,
           0.5035000000000001,
           0.5035000000000001,
           null,
           null,
           0.6937,
           null,
           0.8452999999999999,
           0.6301,
           0.6281000000000001,
           0.5741999999999999,
           0.6302,
           0.6301,
           null,
           null,
           0.6844000000000001,
           null,
           0.8743000000000001,
           0.7917000000000001,
           0.7816,
           0.6453,
           0.7916,
           0.7908000000000001,
           null,
           null,
           0.6763,
           null,
           0.866,
           0.8606,
           0.8368,
           0.6736000000000001,
           0.8608,
           0.8553000000000001,
           null,
           null,
           0.6736,
           null,
           0.8641,
           0.8690000000000001,
           0.8380000000000001,
           0.6745000000000001,
           0.8676,
           0.8631
          ],
          "coloraxis": "coloraxis"
         },
         "name": "",
         "type": "parcoords"
        }
       ],
       "layout": {
        "coloraxis": {
         "colorbar": {
          "title": {
           "text": "mean_test_score"
          }
         },
         "colorscale": [
          [
           0,
           "#440154"
          ],
          [
           0.1111111111111111,
           "#482878"
          ],
          [
           0.2222222222222222,
           "#3e4989"
          ],
          [
           0.3333333333333333,
           "#31688e"
          ],
          [
           0.4444444444444444,
           "#26828e"
          ],
          [
           0.5555555555555556,
           "#1f9e89"
          ],
          [
           0.6666666666666666,
           "#35b779"
          ],
          [
           0.7777777777777778,
           "#6ece58"
          ],
          [
           0.8888888888888888,
           "#b5de2b"
          ],
          [
           1,
           "#fde725"
          ]
         ]
        },
        "legend": {
         "tracegroupgap": 0
        },
        "margin": {
         "t": 60
        },
        "template": {
         "data": {
          "bar": [
           {
            "error_x": {
             "color": "#2a3f5f"
            },
            "error_y": {
             "color": "#2a3f5f"
            },
            "marker": {
             "line": {
              "color": "#E5ECF6",
              "width": 0.5
             },
             "pattern": {
              "fillmode": "overlay",
              "size": 10,
              "solidity": 0.2
             }
            },
            "type": "bar"
           }
          ],
          "barpolar": [
           {
            "marker": {
             "line": {
              "color": "#E5ECF6",
              "width": 0.5
             },
             "pattern": {
              "fillmode": "overlay",
              "size": 10,
              "solidity": 0.2
             }
            },
            "type": "barpolar"
           }
          ],
          "carpet": [
           {
            "aaxis": {
             "endlinecolor": "#2a3f5f",
             "gridcolor": "white",
             "linecolor": "white",
             "minorgridcolor": "white",
             "startlinecolor": "#2a3f5f"
            },
            "baxis": {
             "endlinecolor": "#2a3f5f",
             "gridcolor": "white",
             "linecolor": "white",
             "minorgridcolor": "white",
             "startlinecolor": "#2a3f5f"
            },
            "type": "carpet"
           }
          ],
          "choropleth": [
           {
            "colorbar": {
             "outlinewidth": 0,
             "ticks": ""
            },
            "type": "choropleth"
           }
          ],
          "contour": [
           {
            "colorbar": {
             "outlinewidth": 0,
             "ticks": ""
            },
            "colorscale": [
             [
              0,
              "#0d0887"
             ],
             [
              0.1111111111111111,
              "#46039f"
             ],
             [
              0.2222222222222222,
              "#7201a8"
             ],
             [
              0.3333333333333333,
              "#9c179e"
             ],
             [
              0.4444444444444444,
              "#bd3786"
             ],
             [
              0.5555555555555556,
              "#d8576b"
             ],
             [
              0.6666666666666666,
              "#ed7953"
             ],
             [
              0.7777777777777778,
              "#fb9f3a"
             ],
             [
              0.8888888888888888,
              "#fdca26"
             ],
             [
              1,
              "#f0f921"
             ]
            ],
            "type": "contour"
           }
          ],
          "contourcarpet": [
           {
            "colorbar": {
             "outlinewidth": 0,
             "ticks": ""
            },
            "type": "contourcarpet"
           }
          ],
          "heatmap": [
           {
            "colorbar": {
             "outlinewidth": 0,
             "ticks": ""
            },
            "colorscale": [
             [
              0,
              "#0d0887"
             ],
             [
              0.1111111111111111,
              "#46039f"
             ],
             [
              0.2222222222222222,
              "#7201a8"
             ],
             [
              0.3333333333333333,
              "#9c179e"
             ],
             [
              0.4444444444444444,
              "#bd3786"
             ],
             [
              0.5555555555555556,
              "#d8576b"
             ],
             [
              0.6666666666666666,
              "#ed7953"
             ],
             [
              0.7777777777777778,
              "#fb9f3a"
             ],
             [
              0.8888888888888888,
              "#fdca26"
             ],
             [
              1,
              "#f0f921"
             ]
            ],
            "type": "heatmap"
           }
          ],
          "heatmapgl": [
           {
            "colorbar": {
             "outlinewidth": 0,
             "ticks": ""
            },
            "colorscale": [
             [
              0,
              "#0d0887"
             ],
             [
              0.1111111111111111,
              "#46039f"
             ],
             [
              0.2222222222222222,
              "#7201a8"
             ],
             [
              0.3333333333333333,
              "#9c179e"
             ],
             [
              0.4444444444444444,
              "#bd3786"
             ],
             [
              0.5555555555555556,
              "#d8576b"
             ],
             [
              0.6666666666666666,
              "#ed7953"
             ],
             [
              0.7777777777777778,
              "#fb9f3a"
             ],
             [
              0.8888888888888888,
              "#fdca26"
             ],
             [
              1,
              "#f0f921"
             ]
            ],
            "type": "heatmapgl"
           }
          ],
          "histogram": [
           {
            "marker": {
             "pattern": {
              "fillmode": "overlay",
              "size": 10,
              "solidity": 0.2
             }
            },
            "type": "histogram"
           }
          ],
          "histogram2d": [
           {
            "colorbar": {
             "outlinewidth": 0,
             "ticks": ""
            },
            "colorscale": [
             [
              0,
              "#0d0887"
             ],
             [
              0.1111111111111111,
              "#46039f"
             ],
             [
              0.2222222222222222,
              "#7201a8"
             ],
             [
              0.3333333333333333,
              "#9c179e"
             ],
             [
              0.4444444444444444,
              "#bd3786"
             ],
             [
              0.5555555555555556,
              "#d8576b"
             ],
             [
              0.6666666666666666,
              "#ed7953"
             ],
             [
              0.7777777777777778,
              "#fb9f3a"
             ],
             [
              0.8888888888888888,
              "#fdca26"
             ],
             [
              1,
              "#f0f921"
             ]
            ],
            "type": "histogram2d"
           }
          ],
          "histogram2dcontour": [
           {
            "colorbar": {
             "outlinewidth": 0,
             "ticks": ""
            },
            "colorscale": [
             [
              0,
              "#0d0887"
             ],
             [
              0.1111111111111111,
              "#46039f"
             ],
             [
              0.2222222222222222,
              "#7201a8"
             ],
             [
              0.3333333333333333,
              "#9c179e"
             ],
             [
              0.4444444444444444,
              "#bd3786"
             ],
             [
              0.5555555555555556,
              "#d8576b"
             ],
             [
              0.6666666666666666,
              "#ed7953"
             ],
             [
              0.7777777777777778,
              "#fb9f3a"
             ],
             [
              0.8888888888888888,
              "#fdca26"
             ],
             [
              1,
              "#f0f921"
             ]
            ],
            "type": "histogram2dcontour"
           }
          ],
          "mesh3d": [
           {
            "colorbar": {
             "outlinewidth": 0,
             "ticks": ""
            },
            "type": "mesh3d"
           }
          ],
          "parcoords": [
           {
            "line": {
             "colorbar": {
              "outlinewidth": 0,
              "ticks": ""
             }
            },
            "type": "parcoords"
           }
          ],
          "pie": [
           {
            "automargin": true,
            "type": "pie"
           }
          ],
          "scatter": [
           {
            "fillpattern": {
             "fillmode": "overlay",
             "size": 10,
             "solidity": 0.2
            },
            "type": "scatter"
           }
          ],
          "scatter3d": [
           {
            "line": {
             "colorbar": {
              "outlinewidth": 0,
              "ticks": ""
             }
            },
            "marker": {
             "colorbar": {
              "outlinewidth": 0,
              "ticks": ""
             }
            },
            "type": "scatter3d"
           }
          ],
          "scattercarpet": [
           {
            "marker": {
             "colorbar": {
              "outlinewidth": 0,
              "ticks": ""
             }
            },
            "type": "scattercarpet"
           }
          ],
          "scattergeo": [
           {
            "marker": {
             "colorbar": {
              "outlinewidth": 0,
              "ticks": ""
             }
            },
            "type": "scattergeo"
           }
          ],
          "scattergl": [
           {
            "marker": {
             "colorbar": {
              "outlinewidth": 0,
              "ticks": ""
             }
            },
            "type": "scattergl"
           }
          ],
          "scattermapbox": [
           {
            "marker": {
             "colorbar": {
              "outlinewidth": 0,
              "ticks": ""
             }
            },
            "type": "scattermapbox"
           }
          ],
          "scatterpolar": [
           {
            "marker": {
             "colorbar": {
              "outlinewidth": 0,
              "ticks": ""
             }
            },
            "type": "scatterpolar"
           }
          ],
          "scatterpolargl": [
           {
            "marker": {
             "colorbar": {
              "outlinewidth": 0,
              "ticks": ""
             }
            },
            "type": "scatterpolargl"
           }
          ],
          "scatterternary": [
           {
            "marker": {
             "colorbar": {
              "outlinewidth": 0,
              "ticks": ""
             }
            },
            "type": "scatterternary"
           }
          ],
          "surface": [
           {
            "colorbar": {
             "outlinewidth": 0,
             "ticks": ""
            },
            "colorscale": [
             [
              0,
              "#0d0887"
             ],
             [
              0.1111111111111111,
              "#46039f"
             ],
             [
              0.2222222222222222,
              "#7201a8"
             ],
             [
              0.3333333333333333,
              "#9c179e"
             ],
             [
              0.4444444444444444,
              "#bd3786"
             ],
             [
              0.5555555555555556,
              "#d8576b"
             ],
             [
              0.6666666666666666,
              "#ed7953"
             ],
             [
              0.7777777777777778,
              "#fb9f3a"
             ],
             [
              0.8888888888888888,
              "#fdca26"
             ],
             [
              1,
              "#f0f921"
             ]
            ],
            "type": "surface"
           }
          ],
          "table": [
           {
            "cells": {
             "fill": {
              "color": "#EBF0F8"
             },
             "line": {
              "color": "white"
             }
            },
            "header": {
             "fill": {
              "color": "#C8D4E3"
             },
             "line": {
              "color": "white"
             }
            },
            "type": "table"
           }
          ]
         },
         "layout": {
          "annotationdefaults": {
           "arrowcolor": "#2a3f5f",
           "arrowhead": 0,
           "arrowwidth": 1
          },
          "autotypenumbers": "strict",
          "coloraxis": {
           "colorbar": {
            "outlinewidth": 0,
            "ticks": ""
           }
          },
          "colorscale": {
           "diverging": [
            [
             0,
             "#8e0152"
            ],
            [
             0.1,
             "#c51b7d"
            ],
            [
             0.2,
             "#de77ae"
            ],
            [
             0.3,
             "#f1b6da"
            ],
            [
             0.4,
             "#fde0ef"
            ],
            [
             0.5,
             "#f7f7f7"
            ],
            [
             0.6,
             "#e6f5d0"
            ],
            [
             0.7,
             "#b8e186"
            ],
            [
             0.8,
             "#7fbc41"
            ],
            [
             0.9,
             "#4d9221"
            ],
            [
             1,
             "#276419"
            ]
           ],
           "sequential": [
            [
             0,
             "#0d0887"
            ],
            [
             0.1111111111111111,
             "#46039f"
            ],
            [
             0.2222222222222222,
             "#7201a8"
            ],
            [
             0.3333333333333333,
             "#9c179e"
            ],
            [
             0.4444444444444444,
             "#bd3786"
            ],
            [
             0.5555555555555556,
             "#d8576b"
            ],
            [
             0.6666666666666666,
             "#ed7953"
            ],
            [
             0.7777777777777778,
             "#fb9f3a"
            ],
            [
             0.8888888888888888,
             "#fdca26"
            ],
            [
             1,
             "#f0f921"
            ]
           ],
           "sequentialminus": [
            [
             0,
             "#0d0887"
            ],
            [
             0.1111111111111111,
             "#46039f"
            ],
            [
             0.2222222222222222,
             "#7201a8"
            ],
            [
             0.3333333333333333,
             "#9c179e"
            ],
            [
             0.4444444444444444,
             "#bd3786"
            ],
            [
             0.5555555555555556,
             "#d8576b"
            ],
            [
             0.6666666666666666,
             "#ed7953"
            ],
            [
             0.7777777777777778,
             "#fb9f3a"
            ],
            [
             0.8888888888888888,
             "#fdca26"
            ],
            [
             1,
             "#f0f921"
            ]
           ]
          },
          "colorway": [
           "#636efa",
           "#EF553B",
           "#00cc96",
           "#ab63fa",
           "#FFA15A",
           "#19d3f3",
           "#FF6692",
           "#B6E880",
           "#FF97FF",
           "#FECB52"
          ],
          "font": {
           "color": "#2a3f5f"
          },
          "geo": {
           "bgcolor": "white",
           "lakecolor": "white",
           "landcolor": "#E5ECF6",
           "showlakes": true,
           "showland": true,
           "subunitcolor": "white"
          },
          "hoverlabel": {
           "align": "left"
          },
          "hovermode": "closest",
          "mapbox": {
           "style": "light"
          },
          "paper_bgcolor": "white",
          "plot_bgcolor": "#E5ECF6",
          "polar": {
           "angularaxis": {
            "gridcolor": "white",
            "linecolor": "white",
            "ticks": ""
           },
           "bgcolor": "#E5ECF6",
           "radialaxis": {
            "gridcolor": "white",
            "linecolor": "white",
            "ticks": ""
           }
          },
          "scene": {
           "xaxis": {
            "backgroundcolor": "#E5ECF6",
            "gridcolor": "white",
            "gridwidth": 2,
            "linecolor": "white",
            "showbackground": true,
            "ticks": "",
            "zerolinecolor": "white"
           },
           "yaxis": {
            "backgroundcolor": "#E5ECF6",
            "gridcolor": "white",
            "gridwidth": 2,
            "linecolor": "white",
            "showbackground": true,
            "ticks": "",
            "zerolinecolor": "white"
           },
           "zaxis": {
            "backgroundcolor": "#E5ECF6",
            "gridcolor": "white",
            "gridwidth": 2,
            "linecolor": "white",
            "showbackground": true,
            "ticks": "",
            "zerolinecolor": "white"
           }
          },
          "shapedefaults": {
           "line": {
            "color": "#2a3f5f"
           }
          },
          "ternary": {
           "aaxis": {
            "gridcolor": "white",
            "linecolor": "white",
            "ticks": ""
           },
           "baxis": {
            "gridcolor": "white",
            "linecolor": "white",
            "ticks": ""
           },
           "bgcolor": "#E5ECF6",
           "caxis": {
            "gridcolor": "white",
            "linecolor": "white",
            "ticks": ""
           }
          },
          "title": {
           "x": 0.05
          },
          "xaxis": {
           "automargin": true,
           "gridcolor": "white",
           "linecolor": "white",
           "ticks": "",
           "title": {
            "standoff": 15
           },
           "zerolinecolor": "white",
           "zerolinewidth": 2
          },
          "yaxis": {
           "automargin": true,
           "gridcolor": "white",
           "linecolor": "white",
           "ticks": "",
           "title": {
            "standoff": 15
           },
           "zerolinecolor": "white",
           "zerolinewidth": 2
          }
         }
        }
       }
      }
     },
     "metadata": {},
     "output_type": "display_data"
    },
    {
     "data": {
      "text/plain": [
       "{'logisticregression__C': 1,\n",
       " 'logisticregression__penalty': 'l1',\n",
       " 'logisticregression__solver': 'saga'}"
      ]
     },
     "execution_count": 49,
     "metadata": {},
     "output_type": "execute_result"
    }
   ],
   "source": [
    "best_lr = grid_search(LogisticRegression(), X, y, hyperparams = params_lr, scoring=f1_score, scale=MinMaxScaler())\n",
    "best_lr"
   ]
  },
  {
   "cell_type": "code",
   "execution_count": 1,
   "metadata": {},
   "outputs": [
    {
     "ename": "NameError",
     "evalue": "name 'grid_search' is not defined",
     "output_type": "error",
     "traceback": [
      "\u001b[1;31m---------------------------------------------------------------------------\u001b[0m",
      "\u001b[1;31mNameError\u001b[0m                                 Traceback (most recent call last)",
      "Cell \u001b[1;32mIn[1], line 1\u001b[0m\n\u001b[1;32m----> 1\u001b[0m best_dt \u001b[39m=\u001b[39m grid_search(DecisionTreeClassifier(), X, y, hyperparams \u001b[39m=\u001b[39m params_dt, scoring\u001b[39m=\u001b[39mf1_score,  n_jobs\u001b[39m=\u001b[39m\u001b[39m-\u001b[39m\u001b[39m1\u001b[39m)\n\u001b[0;32m      2\u001b[0m best_dt\n",
      "\u001b[1;31mNameError\u001b[0m: name 'grid_search' is not defined"
     ]
    }
   ],
   "source": [
    "best_dt = grid_search(DecisionTreeClassifier(), X, y, hyperparams = params_dt, scoring=f1_score,  n_jobs=-1)\n",
    "best_dt"
   ]
  },
  {
   "attachments": {},
   "cell_type": "markdown",
   "metadata": {},
   "source": [
    "## Hold-Out vs Cross-validation"
   ]
  },
  {
   "attachments": {},
   "cell_type": "markdown",
   "metadata": {},
   "source": [
    "### Hold-out with and without scaling"
   ]
  },
  {
   "cell_type": "code",
   "execution_count": 51,
   "metadata": {},
   "outputs": [],
   "source": [
    "import time\n",
    "\n",
    "def hold_out(model_label, model, X, y, scale=None, n=10):\n",
    "\n",
    "    # if a scaling method is given, perform scaling\n",
    "    if scale is not None:\n",
    "        model = make_pipeline(scale, model)\n",
    "\n",
    "    # dataframe for results for each split\n",
    "    results = pd.DataFrame(columns=['Split', 'Algorithm', 'Scaling', 'F1_macro', 'F1_micro', 'Accuracy', 'Training time'])\n",
    "    #results = []\n",
    "\n",
    "    # perform the hold out method n times with n different seeds\n",
    "    for i in range(n):\n",
    "\n",
    "        # split the data into training and testing set\n",
    "        X_train, X_test, y_train, y_test = train_test_split(X, y, test_size=0.25, random_state=i)\n",
    "\n",
    "        # train the model on the train set\n",
    "        start = time.time()\n",
    "        model.fit(X_train, y_train)\n",
    "        end = time.time()\n",
    "        tr_time = end - start\n",
    "\n",
    "        # predict values for the test set\n",
    "        y_predicted = model.predict(X_test)\n",
    "        \n",
    "        # calculate metrics\n",
    "        \n",
    "        f1_macro = f1_score(y_test, y_predicted, average = 'macro')\n",
    "        f1_micro = f1_score(y_test, y_predicted, average = 'micro')\n",
    "        acc = accuracy_score(y_test, y_predicted)\n",
    "\n",
    "        result =  {'Split': i,\n",
    "                    'Algorithm': model_label, \n",
    "                    'Scaling': 'None' if scale is None else type(scale).__name__,\n",
    "                    'F1_macro': f1_macro,\n",
    "                    'F1_micro': f1_micro,\n",
    "                    'Accuracy': acc,\n",
    "                    'Training time': tr_time}\n",
    "        \n",
    "        results.loc[len(results)] = result # type: ignore\n",
    "\n",
    "    return results"
   ]
  },
  {
   "cell_type": "code",
   "execution_count": 52,
   "metadata": {},
   "outputs": [
    {
     "name": "stderr",
     "output_type": "stream",
     "text": [
      "C:\\Users\\daria\\AppData\\Roaming\\Python\\Python311\\site-packages\\sklearn\\linear_model\\_sag.py:350: ConvergenceWarning:\n",
      "\n",
      "The max_iter was reached which means the coef_ did not converge\n",
      "\n",
      "C:\\Users\\daria\\AppData\\Roaming\\Python\\Python311\\site-packages\\sklearn\\linear_model\\_sag.py:350: ConvergenceWarning:\n",
      "\n",
      "The max_iter was reached which means the coef_ did not converge\n",
      "\n",
      "C:\\Users\\daria\\AppData\\Roaming\\Python\\Python311\\site-packages\\sklearn\\linear_model\\_sag.py:350: ConvergenceWarning:\n",
      "\n",
      "The max_iter was reached which means the coef_ did not converge\n",
      "\n",
      "C:\\Users\\daria\\AppData\\Roaming\\Python\\Python311\\site-packages\\sklearn\\linear_model\\_sag.py:350: ConvergenceWarning:\n",
      "\n",
      "The max_iter was reached which means the coef_ did not converge\n",
      "\n",
      "C:\\Users\\daria\\AppData\\Roaming\\Python\\Python311\\site-packages\\sklearn\\linear_model\\_sag.py:350: ConvergenceWarning:\n",
      "\n",
      "The max_iter was reached which means the coef_ did not converge\n",
      "\n",
      "C:\\Users\\daria\\AppData\\Roaming\\Python\\Python311\\site-packages\\sklearn\\linear_model\\_sag.py:350: ConvergenceWarning:\n",
      "\n",
      "The max_iter was reached which means the coef_ did not converge\n",
      "\n",
      "C:\\Users\\daria\\AppData\\Roaming\\Python\\Python311\\site-packages\\sklearn\\linear_model\\_sag.py:350: ConvergenceWarning:\n",
      "\n",
      "The max_iter was reached which means the coef_ did not converge\n",
      "\n",
      "C:\\Users\\daria\\AppData\\Roaming\\Python\\Python311\\site-packages\\sklearn\\linear_model\\_sag.py:350: ConvergenceWarning:\n",
      "\n",
      "The max_iter was reached which means the coef_ did not converge\n",
      "\n",
      "C:\\Users\\daria\\AppData\\Roaming\\Python\\Python311\\site-packages\\sklearn\\linear_model\\_sag.py:350: ConvergenceWarning:\n",
      "\n",
      "The max_iter was reached which means the coef_ did not converge\n",
      "\n",
      "C:\\Users\\daria\\AppData\\Roaming\\Python\\Python311\\site-packages\\sklearn\\linear_model\\_sag.py:350: ConvergenceWarning:\n",
      "\n",
      "The max_iter was reached which means the coef_ did not converge\n",
      "\n",
      "C:\\Users\\daria\\AppData\\Roaming\\Python\\Python311\\site-packages\\sklearn\\linear_model\\_sag.py:350: ConvergenceWarning:\n",
      "\n",
      "The max_iter was reached which means the coef_ did not converge\n",
      "\n",
      "C:\\Users\\daria\\AppData\\Roaming\\Python\\Python311\\site-packages\\sklearn\\linear_model\\_sag.py:350: ConvergenceWarning:\n",
      "\n",
      "The max_iter was reached which means the coef_ did not converge\n",
      "\n",
      "C:\\Users\\daria\\AppData\\Roaming\\Python\\Python311\\site-packages\\sklearn\\linear_model\\_sag.py:350: ConvergenceWarning:\n",
      "\n",
      "The max_iter was reached which means the coef_ did not converge\n",
      "\n",
      "C:\\Users\\daria\\AppData\\Roaming\\Python\\Python311\\site-packages\\sklearn\\linear_model\\_sag.py:350: ConvergenceWarning:\n",
      "\n",
      "The max_iter was reached which means the coef_ did not converge\n",
      "\n",
      "C:\\Users\\daria\\AppData\\Roaming\\Python\\Python311\\site-packages\\sklearn\\linear_model\\_sag.py:350: ConvergenceWarning:\n",
      "\n",
      "The max_iter was reached which means the coef_ did not converge\n",
      "\n",
      "C:\\Users\\daria\\AppData\\Roaming\\Python\\Python311\\site-packages\\sklearn\\linear_model\\_sag.py:350: ConvergenceWarning:\n",
      "\n",
      "The max_iter was reached which means the coef_ did not converge\n",
      "\n",
      "C:\\Users\\daria\\AppData\\Roaming\\Python\\Python311\\site-packages\\sklearn\\linear_model\\_sag.py:350: ConvergenceWarning:\n",
      "\n",
      "The max_iter was reached which means the coef_ did not converge\n",
      "\n",
      "C:\\Users\\daria\\AppData\\Roaming\\Python\\Python311\\site-packages\\sklearn\\linear_model\\_sag.py:350: ConvergenceWarning:\n",
      "\n",
      "The max_iter was reached which means the coef_ did not converge\n",
      "\n",
      "C:\\Users\\daria\\AppData\\Roaming\\Python\\Python311\\site-packages\\sklearn\\linear_model\\_sag.py:350: ConvergenceWarning:\n",
      "\n",
      "The max_iter was reached which means the coef_ did not converge\n",
      "\n",
      "C:\\Users\\daria\\AppData\\Roaming\\Python\\Python311\\site-packages\\sklearn\\linear_model\\_sag.py:350: ConvergenceWarning:\n",
      "\n",
      "The max_iter was reached which means the coef_ did not converge\n",
      "\n",
      "C:\\Users\\daria\\AppData\\Roaming\\Python\\Python311\\site-packages\\sklearn\\linear_model\\_sag.py:350: ConvergenceWarning:\n",
      "\n",
      "The max_iter was reached which means the coef_ did not converge\n",
      "\n",
      "C:\\Users\\daria\\AppData\\Roaming\\Python\\Python311\\site-packages\\sklearn\\linear_model\\_sag.py:350: ConvergenceWarning:\n",
      "\n",
      "The max_iter was reached which means the coef_ did not converge\n",
      "\n",
      "C:\\Users\\daria\\AppData\\Roaming\\Python\\Python311\\site-packages\\sklearn\\linear_model\\_sag.py:350: ConvergenceWarning:\n",
      "\n",
      "The max_iter was reached which means the coef_ did not converge\n",
      "\n",
      "C:\\Users\\daria\\AppData\\Roaming\\Python\\Python311\\site-packages\\sklearn\\linear_model\\_sag.py:350: ConvergenceWarning:\n",
      "\n",
      "The max_iter was reached which means the coef_ did not converge\n",
      "\n",
      "C:\\Users\\daria\\AppData\\Roaming\\Python\\Python311\\site-packages\\sklearn\\linear_model\\_sag.py:350: ConvergenceWarning:\n",
      "\n",
      "The max_iter was reached which means the coef_ did not converge\n",
      "\n",
      "C:\\Users\\daria\\AppData\\Roaming\\Python\\Python311\\site-packages\\sklearn\\linear_model\\_sag.py:350: ConvergenceWarning:\n",
      "\n",
      "The max_iter was reached which means the coef_ did not converge\n",
      "\n",
      "C:\\Users\\daria\\AppData\\Roaming\\Python\\Python311\\site-packages\\sklearn\\linear_model\\_sag.py:350: ConvergenceWarning:\n",
      "\n",
      "The max_iter was reached which means the coef_ did not converge\n",
      "\n",
      "C:\\Users\\daria\\AppData\\Roaming\\Python\\Python311\\site-packages\\sklearn\\linear_model\\_sag.py:350: ConvergenceWarning:\n",
      "\n",
      "The max_iter was reached which means the coef_ did not converge\n",
      "\n",
      "C:\\Users\\daria\\AppData\\Roaming\\Python\\Python311\\site-packages\\sklearn\\linear_model\\_sag.py:350: ConvergenceWarning:\n",
      "\n",
      "The max_iter was reached which means the coef_ did not converge\n",
      "\n",
      "C:\\Users\\daria\\AppData\\Roaming\\Python\\Python311\\site-packages\\sklearn\\linear_model\\_sag.py:350: ConvergenceWarning:\n",
      "\n",
      "The max_iter was reached which means the coef_ did not converge\n",
      "\n"
     ]
    },
    {
     "data": {
      "text/html": [
       "<div>\n",
       "<style scoped>\n",
       "    .dataframe tbody tr th:only-of-type {\n",
       "        vertical-align: middle;\n",
       "    }\n",
       "\n",
       "    .dataframe tbody tr th {\n",
       "        vertical-align: top;\n",
       "    }\n",
       "\n",
       "    .dataframe thead th {\n",
       "        text-align: right;\n",
       "    }\n",
       "</style>\n",
       "<table border=\"1\" class=\"dataframe\">\n",
       "  <thead>\n",
       "    <tr style=\"text-align: right;\">\n",
       "      <th></th>\n",
       "      <th>Split</th>\n",
       "      <th>Algorithm</th>\n",
       "      <th>Scaling</th>\n",
       "      <th>F1_macro</th>\n",
       "      <th>F1_micro</th>\n",
       "      <th>Accuracy</th>\n",
       "      <th>Training time</th>\n",
       "    </tr>\n",
       "  </thead>\n",
       "  <tbody>\n",
       "    <tr>\n",
       "      <th>0</th>\n",
       "      <td>0</td>\n",
       "      <td>SVM</td>\n",
       "      <td>None</td>\n",
       "      <td>0.154732</td>\n",
       "      <td>0.3592</td>\n",
       "      <td>0.3592</td>\n",
       "      <td>6.719461</td>\n",
       "    </tr>\n",
       "    <tr>\n",
       "      <th>1</th>\n",
       "      <td>1</td>\n",
       "      <td>SVM</td>\n",
       "      <td>None</td>\n",
       "      <td>0.149916</td>\n",
       "      <td>0.3388</td>\n",
       "      <td>0.3388</td>\n",
       "      <td>6.666932</td>\n",
       "    </tr>\n",
       "    <tr>\n",
       "      <th>2</th>\n",
       "      <td>2</td>\n",
       "      <td>SVM</td>\n",
       "      <td>None</td>\n",
       "      <td>0.143876</td>\n",
       "      <td>0.3328</td>\n",
       "      <td>0.3328</td>\n",
       "      <td>6.474506</td>\n",
       "    </tr>\n",
       "    <tr>\n",
       "      <th>3</th>\n",
       "      <td>3</td>\n",
       "      <td>SVM</td>\n",
       "      <td>None</td>\n",
       "      <td>0.151043</td>\n",
       "      <td>0.3408</td>\n",
       "      <td>0.3408</td>\n",
       "      <td>6.479105</td>\n",
       "    </tr>\n",
       "    <tr>\n",
       "      <th>4</th>\n",
       "      <td>4</td>\n",
       "      <td>SVM</td>\n",
       "      <td>None</td>\n",
       "      <td>0.161598</td>\n",
       "      <td>0.3608</td>\n",
       "      <td>0.3608</td>\n",
       "      <td>6.605556</td>\n",
       "    </tr>\n",
       "    <tr>\n",
       "      <th>...</th>\n",
       "      <td>...</td>\n",
       "      <td>...</td>\n",
       "      <td>...</td>\n",
       "      <td>...</td>\n",
       "      <td>...</td>\n",
       "      <td>...</td>\n",
       "      <td>...</td>\n",
       "    </tr>\n",
       "    <tr>\n",
       "      <th>5</th>\n",
       "      <td>5</td>\n",
       "      <td>Decision Tree</td>\n",
       "      <td>MinMaxScaler</td>\n",
       "      <td>0.914835</td>\n",
       "      <td>0.9836</td>\n",
       "      <td>0.9836</td>\n",
       "      <td>0.216423</td>\n",
       "    </tr>\n",
       "    <tr>\n",
       "      <th>6</th>\n",
       "      <td>6</td>\n",
       "      <td>Decision Tree</td>\n",
       "      <td>MinMaxScaler</td>\n",
       "      <td>0.944384</td>\n",
       "      <td>0.9812</td>\n",
       "      <td>0.9812</td>\n",
       "      <td>0.220410</td>\n",
       "    </tr>\n",
       "    <tr>\n",
       "      <th>7</th>\n",
       "      <td>7</td>\n",
       "      <td>Decision Tree</td>\n",
       "      <td>MinMaxScaler</td>\n",
       "      <td>0.949570</td>\n",
       "      <td>0.9832</td>\n",
       "      <td>0.9832</td>\n",
       "      <td>0.217418</td>\n",
       "    </tr>\n",
       "    <tr>\n",
       "      <th>8</th>\n",
       "      <td>8</td>\n",
       "      <td>Decision Tree</td>\n",
       "      <td>MinMaxScaler</td>\n",
       "      <td>0.937688</td>\n",
       "      <td>0.9856</td>\n",
       "      <td>0.9856</td>\n",
       "      <td>0.226362</td>\n",
       "    </tr>\n",
       "    <tr>\n",
       "      <th>9</th>\n",
       "      <td>9</td>\n",
       "      <td>Decision Tree</td>\n",
       "      <td>MinMaxScaler</td>\n",
       "      <td>0.931100</td>\n",
       "      <td>0.9824</td>\n",
       "      <td>0.9824</td>\n",
       "      <td>0.221407</td>\n",
       "    </tr>\n",
       "  </tbody>\n",
       "</table>\n",
       "<p>90 rows × 7 columns</p>\n",
       "</div>"
      ],
      "text/plain": [
       "   Split      Algorithm       Scaling  F1_macro  F1_micro  Accuracy   \n",
       "0      0            SVM          None  0.154732    0.3592    0.3592  \\\n",
       "1      1            SVM          None  0.149916    0.3388    0.3388   \n",
       "2      2            SVM          None  0.143876    0.3328    0.3328   \n",
       "3      3            SVM          None  0.151043    0.3408    0.3408   \n",
       "4      4            SVM          None  0.161598    0.3608    0.3608   \n",
       "..   ...            ...           ...       ...       ...       ...   \n",
       "5      5  Decision Tree  MinMaxScaler  0.914835    0.9836    0.9836   \n",
       "6      6  Decision Tree  MinMaxScaler  0.944384    0.9812    0.9812   \n",
       "7      7  Decision Tree  MinMaxScaler  0.949570    0.9832    0.9832   \n",
       "8      8  Decision Tree  MinMaxScaler  0.937688    0.9856    0.9856   \n",
       "9      9  Decision Tree  MinMaxScaler  0.931100    0.9824    0.9824   \n",
       "\n",
       "    Training time  \n",
       "0        6.719461  \n",
       "1        6.666932  \n",
       "2        6.474506  \n",
       "3        6.479105  \n",
       "4        6.605556  \n",
       "..            ...  \n",
       "5        0.216423  \n",
       "6        0.220410  \n",
       "7        0.217418  \n",
       "8        0.226362  \n",
       "9        0.221407  \n",
       "\n",
       "[90 rows x 7 columns]"
      ]
     },
     "execution_count": 52,
     "metadata": {},
     "output_type": "execute_result"
    }
   ],
   "source": [
    "from sklearn.preprocessing import MinMaxScaler\n",
    "\n",
    "res = pd.DataFrame(columns=['Split', 'Algorithm', 'Scaling', 'F1_macro', 'F1_micro', 'Accuracy', 'Training time'])\n",
    "\n",
    "res =  pd.concat([res, hold_out(\"SVM\", SVC(), X, y)])\n",
    "res =  pd.concat([res, hold_out(\"SVM\", SVC(), X, y, scale=StandardScaler())])\n",
    "res =  pd.concat([res, hold_out(\"SVM\", SVC(), X, y, scale=MinMaxScaler())])\n",
    "\n",
    "res = pd.concat([res, hold_out(\"Logistic Regression\", LogisticRegression(solver='saga'), X, y)])\n",
    "res = pd.concat([res, hold_out(\"Logistic Regression\", LogisticRegression(solver='saga'), X, y, scale=StandardScaler())])\n",
    "res = pd.concat([res, hold_out(\"Logistic Regression\", LogisticRegression(solver='saga'), X, y, scale=MinMaxScaler())])\n",
    "\n",
    "res = pd.concat([res, hold_out(\"Decision Tree\", DecisionTreeClassifier(), X, y)])\n",
    "res = pd.concat([res, hold_out(\"Decision Tree\", DecisionTreeClassifier(), X, y, scale=StandardScaler())])\n",
    "res = pd.concat([res, hold_out(\"Decision Tree\", DecisionTreeClassifier(), X, y, scale=MinMaxScaler())])\n",
    "\n",
    "res"
   ]
  },
  {
   "cell_type": "code",
   "execution_count": 53,
   "metadata": {},
   "outputs": [
    {
     "data": {
      "text/html": [
       "<div>\n",
       "<style scoped>\n",
       "    .dataframe tbody tr th:only-of-type {\n",
       "        vertical-align: middle;\n",
       "    }\n",
       "\n",
       "    .dataframe tbody tr th {\n",
       "        vertical-align: top;\n",
       "    }\n",
       "\n",
       "    .dataframe thead tr th {\n",
       "        text-align: left;\n",
       "    }\n",
       "\n",
       "    .dataframe thead tr:last-of-type th {\n",
       "        text-align: right;\n",
       "    }\n",
       "</style>\n",
       "<table border=\"1\" class=\"dataframe\">\n",
       "  <thead>\n",
       "    <tr>\n",
       "      <th></th>\n",
       "      <th></th>\n",
       "      <th colspan=\"4\" halign=\"left\">F1_macro</th>\n",
       "    </tr>\n",
       "    <tr>\n",
       "      <th></th>\n",
       "      <th></th>\n",
       "      <th>min</th>\n",
       "      <th>mean</th>\n",
       "      <th>max</th>\n",
       "      <th>std</th>\n",
       "    </tr>\n",
       "    <tr>\n",
       "      <th>Algorithm</th>\n",
       "      <th>Scaling</th>\n",
       "      <th></th>\n",
       "      <th></th>\n",
       "      <th></th>\n",
       "      <th></th>\n",
       "    </tr>\n",
       "  </thead>\n",
       "  <tbody>\n",
       "    <tr>\n",
       "      <th rowspan=\"3\" valign=\"top\">Decision Tree</th>\n",
       "      <th>MinMaxScaler</th>\n",
       "      <td>0.914835</td>\n",
       "      <td>0.939861</td>\n",
       "      <td>0.952107</td>\n",
       "      <td>0.011328</td>\n",
       "    </tr>\n",
       "    <tr>\n",
       "      <th>None</th>\n",
       "      <td>0.918772</td>\n",
       "      <td>0.941746</td>\n",
       "      <td>0.956296</td>\n",
       "      <td>0.009762</td>\n",
       "    </tr>\n",
       "    <tr>\n",
       "      <th>StandardScaler</th>\n",
       "      <td>0.919047</td>\n",
       "      <td>0.939906</td>\n",
       "      <td>0.967105</td>\n",
       "      <td>0.014570</td>\n",
       "    </tr>\n",
       "    <tr>\n",
       "      <th rowspan=\"3\" valign=\"top\">Logistic Regression</th>\n",
       "      <th>MinMaxScaler</th>\n",
       "      <td>0.526551</td>\n",
       "      <td>0.539225</td>\n",
       "      <td>0.559593</td>\n",
       "      <td>0.012274</td>\n",
       "    </tr>\n",
       "    <tr>\n",
       "      <th>None</th>\n",
       "      <td>0.175735</td>\n",
       "      <td>0.182939</td>\n",
       "      <td>0.189882</td>\n",
       "      <td>0.004167</td>\n",
       "    </tr>\n",
       "    <tr>\n",
       "      <th>StandardScaler</th>\n",
       "      <td>0.512916</td>\n",
       "      <td>0.527640</td>\n",
       "      <td>0.551798</td>\n",
       "      <td>0.013709</td>\n",
       "    </tr>\n",
       "    <tr>\n",
       "      <th rowspan=\"3\" valign=\"top\">SVM</th>\n",
       "      <th>MinMaxScaler</th>\n",
       "      <td>0.494426</td>\n",
       "      <td>0.502290</td>\n",
       "      <td>0.511631</td>\n",
       "      <td>0.006385</td>\n",
       "    </tr>\n",
       "    <tr>\n",
       "      <th>None</th>\n",
       "      <td>0.143876</td>\n",
       "      <td>0.154516</td>\n",
       "      <td>0.161598</td>\n",
       "      <td>0.005281</td>\n",
       "    </tr>\n",
       "    <tr>\n",
       "      <th>StandardScaler</th>\n",
       "      <td>0.480925</td>\n",
       "      <td>0.487549</td>\n",
       "      <td>0.510121</td>\n",
       "      <td>0.009138</td>\n",
       "    </tr>\n",
       "  </tbody>\n",
       "</table>\n",
       "</div>"
      ],
      "text/plain": [
       "                                    F1_macro                              \n",
       "                                         min      mean       max       std\n",
       "Algorithm           Scaling                                               \n",
       "Decision Tree       MinMaxScaler    0.914835  0.939861  0.952107  0.011328\n",
       "                    None            0.918772  0.941746  0.956296  0.009762\n",
       "                    StandardScaler  0.919047  0.939906  0.967105  0.014570\n",
       "Logistic Regression MinMaxScaler    0.526551  0.539225  0.559593  0.012274\n",
       "                    None            0.175735  0.182939  0.189882  0.004167\n",
       "                    StandardScaler  0.512916  0.527640  0.551798  0.013709\n",
       "SVM                 MinMaxScaler    0.494426  0.502290  0.511631  0.006385\n",
       "                    None            0.143876  0.154516  0.161598  0.005281\n",
       "                    StandardScaler  0.480925  0.487549  0.510121  0.009138"
      ]
     },
     "execution_count": 53,
     "metadata": {},
     "output_type": "execute_result"
    }
   ],
   "source": [
    "res.groupby(['Algorithm', 'Scaling']).agg({'F1_macro': [ 'min', 'mean', 'max', 'std']})"
   ]
  },
  {
   "cell_type": "code",
   "execution_count": 54,
   "metadata": {},
   "outputs": [
    {
     "data": {
      "text/html": [
       "<div>\n",
       "<style scoped>\n",
       "    .dataframe tbody tr th:only-of-type {\n",
       "        vertical-align: middle;\n",
       "    }\n",
       "\n",
       "    .dataframe tbody tr th {\n",
       "        vertical-align: top;\n",
       "    }\n",
       "\n",
       "    .dataframe thead tr th {\n",
       "        text-align: left;\n",
       "    }\n",
       "\n",
       "    .dataframe thead tr:last-of-type th {\n",
       "        text-align: right;\n",
       "    }\n",
       "</style>\n",
       "<table border=\"1\" class=\"dataframe\">\n",
       "  <thead>\n",
       "    <tr>\n",
       "      <th></th>\n",
       "      <th></th>\n",
       "      <th colspan=\"4\" halign=\"left\">F1_micro</th>\n",
       "    </tr>\n",
       "    <tr>\n",
       "      <th></th>\n",
       "      <th></th>\n",
       "      <th>min</th>\n",
       "      <th>mean</th>\n",
       "      <th>max</th>\n",
       "      <th>std</th>\n",
       "    </tr>\n",
       "    <tr>\n",
       "      <th>Algorithm</th>\n",
       "      <th>Scaling</th>\n",
       "      <th></th>\n",
       "      <th></th>\n",
       "      <th></th>\n",
       "      <th></th>\n",
       "    </tr>\n",
       "  </thead>\n",
       "  <tbody>\n",
       "    <tr>\n",
       "      <th rowspan=\"3\" valign=\"top\">Decision Tree</th>\n",
       "      <th>MinMaxScaler</th>\n",
       "      <td>0.9812</td>\n",
       "      <td>0.98352</td>\n",
       "      <td>0.9900</td>\n",
       "      <td>0.002598</td>\n",
       "    </tr>\n",
       "    <tr>\n",
       "      <th>None</th>\n",
       "      <td>0.9804</td>\n",
       "      <td>0.98356</td>\n",
       "      <td>0.9864</td>\n",
       "      <td>0.002095</td>\n",
       "    </tr>\n",
       "    <tr>\n",
       "      <th>StandardScaler</th>\n",
       "      <td>0.9796</td>\n",
       "      <td>0.98328</td>\n",
       "      <td>0.9888</td>\n",
       "      <td>0.003292</td>\n",
       "    </tr>\n",
       "    <tr>\n",
       "      <th rowspan=\"3\" valign=\"top\">Logistic Regression</th>\n",
       "      <th>MinMaxScaler</th>\n",
       "      <td>0.7684</td>\n",
       "      <td>0.78228</td>\n",
       "      <td>0.7952</td>\n",
       "      <td>0.008863</td>\n",
       "    </tr>\n",
       "    <tr>\n",
       "      <th>None</th>\n",
       "      <td>0.3684</td>\n",
       "      <td>0.37720</td>\n",
       "      <td>0.3864</td>\n",
       "      <td>0.006466</td>\n",
       "    </tr>\n",
       "    <tr>\n",
       "      <th>StandardScaler</th>\n",
       "      <td>0.7696</td>\n",
       "      <td>0.78216</td>\n",
       "      <td>0.7992</td>\n",
       "      <td>0.010167</td>\n",
       "    </tr>\n",
       "    <tr>\n",
       "      <th rowspan=\"3\" valign=\"top\">SVM</th>\n",
       "      <th>MinMaxScaler</th>\n",
       "      <td>0.7500</td>\n",
       "      <td>0.76204</td>\n",
       "      <td>0.7736</td>\n",
       "      <td>0.006673</td>\n",
       "    </tr>\n",
       "    <tr>\n",
       "      <th>None</th>\n",
       "      <td>0.3328</td>\n",
       "      <td>0.34932</td>\n",
       "      <td>0.3608</td>\n",
       "      <td>0.009158</td>\n",
       "    </tr>\n",
       "    <tr>\n",
       "      <th>StandardScaler</th>\n",
       "      <td>0.7252</td>\n",
       "      <td>0.73400</td>\n",
       "      <td>0.7556</td>\n",
       "      <td>0.009859</td>\n",
       "    </tr>\n",
       "  </tbody>\n",
       "</table>\n",
       "</div>"
      ],
      "text/plain": [
       "                                   F1_micro                           \n",
       "                                        min     mean     max       std\n",
       "Algorithm           Scaling                                           \n",
       "Decision Tree       MinMaxScaler     0.9812  0.98352  0.9900  0.002598\n",
       "                    None             0.9804  0.98356  0.9864  0.002095\n",
       "                    StandardScaler   0.9796  0.98328  0.9888  0.003292\n",
       "Logistic Regression MinMaxScaler     0.7684  0.78228  0.7952  0.008863\n",
       "                    None             0.3684  0.37720  0.3864  0.006466\n",
       "                    StandardScaler   0.7696  0.78216  0.7992  0.010167\n",
       "SVM                 MinMaxScaler     0.7500  0.76204  0.7736  0.006673\n",
       "                    None             0.3328  0.34932  0.3608  0.009158\n",
       "                    StandardScaler   0.7252  0.73400  0.7556  0.009859"
      ]
     },
     "execution_count": 54,
     "metadata": {},
     "output_type": "execute_result"
    }
   ],
   "source": [
    "res.groupby(['Algorithm', 'Scaling']).agg({'F1_micro': [ 'min', 'mean', 'max', 'std']})"
   ]
  },
  {
   "cell_type": "code",
   "execution_count": 55,
   "metadata": {},
   "outputs": [
    {
     "data": {
      "text/html": [
       "<div>\n",
       "<style scoped>\n",
       "    .dataframe tbody tr th:only-of-type {\n",
       "        vertical-align: middle;\n",
       "    }\n",
       "\n",
       "    .dataframe tbody tr th {\n",
       "        vertical-align: top;\n",
       "    }\n",
       "\n",
       "    .dataframe thead tr th {\n",
       "        text-align: left;\n",
       "    }\n",
       "\n",
       "    .dataframe thead tr:last-of-type th {\n",
       "        text-align: right;\n",
       "    }\n",
       "</style>\n",
       "<table border=\"1\" class=\"dataframe\">\n",
       "  <thead>\n",
       "    <tr>\n",
       "      <th></th>\n",
       "      <th></th>\n",
       "      <th colspan=\"4\" halign=\"left\">Accuracy</th>\n",
       "    </tr>\n",
       "    <tr>\n",
       "      <th></th>\n",
       "      <th></th>\n",
       "      <th>min</th>\n",
       "      <th>mean</th>\n",
       "      <th>max</th>\n",
       "      <th>std</th>\n",
       "    </tr>\n",
       "    <tr>\n",
       "      <th>Algorithm</th>\n",
       "      <th>Scaling</th>\n",
       "      <th></th>\n",
       "      <th></th>\n",
       "      <th></th>\n",
       "      <th></th>\n",
       "    </tr>\n",
       "  </thead>\n",
       "  <tbody>\n",
       "    <tr>\n",
       "      <th rowspan=\"3\" valign=\"top\">Decision Tree</th>\n",
       "      <th>MinMaxScaler</th>\n",
       "      <td>0.9812</td>\n",
       "      <td>0.98352</td>\n",
       "      <td>0.9900</td>\n",
       "      <td>0.002598</td>\n",
       "    </tr>\n",
       "    <tr>\n",
       "      <th>None</th>\n",
       "      <td>0.9804</td>\n",
       "      <td>0.98356</td>\n",
       "      <td>0.9864</td>\n",
       "      <td>0.002095</td>\n",
       "    </tr>\n",
       "    <tr>\n",
       "      <th>StandardScaler</th>\n",
       "      <td>0.9796</td>\n",
       "      <td>0.98328</td>\n",
       "      <td>0.9888</td>\n",
       "      <td>0.003292</td>\n",
       "    </tr>\n",
       "    <tr>\n",
       "      <th rowspan=\"3\" valign=\"top\">Logistic Regression</th>\n",
       "      <th>MinMaxScaler</th>\n",
       "      <td>0.7684</td>\n",
       "      <td>0.78228</td>\n",
       "      <td>0.7952</td>\n",
       "      <td>0.008863</td>\n",
       "    </tr>\n",
       "    <tr>\n",
       "      <th>None</th>\n",
       "      <td>0.3684</td>\n",
       "      <td>0.37720</td>\n",
       "      <td>0.3864</td>\n",
       "      <td>0.006466</td>\n",
       "    </tr>\n",
       "    <tr>\n",
       "      <th>StandardScaler</th>\n",
       "      <td>0.7696</td>\n",
       "      <td>0.78216</td>\n",
       "      <td>0.7992</td>\n",
       "      <td>0.010167</td>\n",
       "    </tr>\n",
       "    <tr>\n",
       "      <th rowspan=\"3\" valign=\"top\">SVM</th>\n",
       "      <th>MinMaxScaler</th>\n",
       "      <td>0.7500</td>\n",
       "      <td>0.76204</td>\n",
       "      <td>0.7736</td>\n",
       "      <td>0.006673</td>\n",
       "    </tr>\n",
       "    <tr>\n",
       "      <th>None</th>\n",
       "      <td>0.3328</td>\n",
       "      <td>0.34932</td>\n",
       "      <td>0.3608</td>\n",
       "      <td>0.009158</td>\n",
       "    </tr>\n",
       "    <tr>\n",
       "      <th>StandardScaler</th>\n",
       "      <td>0.7252</td>\n",
       "      <td>0.73400</td>\n",
       "      <td>0.7556</td>\n",
       "      <td>0.009859</td>\n",
       "    </tr>\n",
       "  </tbody>\n",
       "</table>\n",
       "</div>"
      ],
      "text/plain": [
       "                                   Accuracy                           \n",
       "                                        min     mean     max       std\n",
       "Algorithm           Scaling                                           \n",
       "Decision Tree       MinMaxScaler     0.9812  0.98352  0.9900  0.002598\n",
       "                    None             0.9804  0.98356  0.9864  0.002095\n",
       "                    StandardScaler   0.9796  0.98328  0.9888  0.003292\n",
       "Logistic Regression MinMaxScaler     0.7684  0.78228  0.7952  0.008863\n",
       "                    None             0.3684  0.37720  0.3864  0.006466\n",
       "                    StandardScaler   0.7696  0.78216  0.7992  0.010167\n",
       "SVM                 MinMaxScaler     0.7500  0.76204  0.7736  0.006673\n",
       "                    None             0.3328  0.34932  0.3608  0.009158\n",
       "                    StandardScaler   0.7252  0.73400  0.7556  0.009859"
      ]
     },
     "execution_count": 55,
     "metadata": {},
     "output_type": "execute_result"
    }
   ],
   "source": [
    "res.groupby(['Algorithm', 'Scaling']).agg({'Accuracy': [ 'min', 'mean', 'max', 'std']})"
   ]
  },
  {
   "attachments": {},
   "cell_type": "markdown",
   "metadata": {},
   "source": [
    "#### plot the results"
   ]
  },
  {
   "cell_type": "code",
   "execution_count": 56,
   "metadata": {},
   "outputs": [],
   "source": [
    "sns_palette = sns.color_palette(\"Set1\")"
   ]
  },
  {
   "cell_type": "code",
   "execution_count": 60,
   "metadata": {},
   "outputs": [
    {
     "data": {
      "image/png": "[encoded data removed]",
      "text/plain": [
       "<Figure size 640x480 with 1 Axes>"
      ]
     },
     "metadata": {},
     "output_type": "display_data"
    },
    {
     "data": {
      "image/png": "[encoded data removed]",
      "text/plain": [
       "<Figure size 640x480 with 1 Axes>"
      ]
     },
     "metadata": {},
     "output_type": "display_data"
    },
    {
     "data": {
      "image/png": "[encoded data removed]",
      "text/plain": [
       "<Figure size 640x480 with 1 Axes>"
      ]
     },
     "metadata": {},
     "output_type": "display_data"
    },
    {
     "data": {
      "image/png": "[encoded data removed]",
      "text/plain": [
       "<Figure size 640x480 with 1 Axes>"
      ]
     },
     "metadata": {},
     "output_type": "display_data"
    }
   ],
   "source": [
    "sns.boxplot(y=\"Algorithm\", x=\"Accuracy\",\n",
    "            hue=\"Scaling\", palette=sns_palette,\n",
    "            data=res)\n",
    "plt.show()\n",
    "sns.boxplot(y=\"Algorithm\", x=\"F1_macro\",\n",
    "            hue=\"Scaling\", palette=sns_palette,\n",
    "            data=res)\n",
    "plt.show()\n",
    "sns.boxplot(y=\"Algorithm\", x=\"F1_micro\",\n",
    "            hue=\"Scaling\", palette=sns_palette,\n",
    "            data=res)\n",
    "plt.show()\n",
    "sns.boxplot(y=\"Algorithm\", x=\"Training time\",\n",
    "            hue=\"Algorithm\", palette=sns_palette,\n",
    "            data=res)\n",
    "plt.show()"
   ]
  },
  {
   "attachments": {},
   "cell_type": "markdown",
   "metadata": {},
   "source": [
    "### 5 fold Cross-validation with and without scaling"
   ]
  },
  {
   "cell_type": "code",
   "execution_count": 61,
   "metadata": {},
   "outputs": [],
   "source": [
    "def cross_validation(model_label, model, X, y, scale=None):\n",
    "\n",
    "    # if a scaling method is given, perform scaling\n",
    "    if scale is not None:\n",
    "        model = make_pipeline(scale, model)\n",
    "\n",
    "    # dataframe for results for each fold\n",
    "    results = pd.DataFrame(columns=['Fold', 'Algorithm', 'Scaling', 'F1_macro', 'F1_micro', 'Accuracy', 'Training time'])\n",
    "\n",
    "\n",
    "    cval = cross_validate(model, X, y, scoring={'F1_macro':'f1_macro',\n",
    "                                                'F1_micro':'f1_micro',\n",
    "                                                'accuracy': 'accuracy' \n",
    "                                               }, \n",
    "                         n_jobs=-1)\n",
    "    \n",
    "    for i in range(len(cval['test_accuracy'])):\n",
    "     # fetch calculated metrics\n",
    "        f1_macro = cval['test_F1_macro'][i]\n",
    "        f1_micro = cval['test_F1_micro'][i]\n",
    "        acc = cval['test_accuracy'][i]\n",
    "        tr_time = cval['fit_time'][i]\n",
    "\n",
    "        result =   {'Fold': i+1,\n",
    "                    'Algorithm': model_label, \n",
    "                   'Scaling': 'None' if scale is None else type(scale).__name__,\n",
    "                    'F1_macro': f1_macro,\n",
    "                    'F1_micro': f1_micro,\n",
    "                   'Accuracy': acc,\n",
    "                    'Training time': tr_time}\n",
    "        results.loc[len(results)] = result # type: ignore\n",
    "    \n",
    "    return results"
   ]
  },
  {
   "cell_type": "code",
   "execution_count": 62,
   "metadata": {},
   "outputs": [
    {
     "data": {
      "text/html": [
       "<div>\n",
       "<style scoped>\n",
       "    .dataframe tbody tr th:only-of-type {\n",
       "        vertical-align: middle;\n",
       "    }\n",
       "\n",
       "    .dataframe tbody tr th {\n",
       "        vertical-align: top;\n",
       "    }\n",
       "\n",
       "    .dataframe thead th {\n",
       "        text-align: right;\n",
       "    }\n",
       "</style>\n",
       "<table border=\"1\" class=\"dataframe\">\n",
       "  <thead>\n",
       "    <tr style=\"text-align: right;\">\n",
       "      <th></th>\n",
       "      <th>Fold</th>\n",
       "      <th>Algorithm</th>\n",
       "      <th>Scaling</th>\n",
       "      <th>F1_macro</th>\n",
       "      <th>F1_micro</th>\n",
       "      <th>Accuracy</th>\n",
       "      <th>Training time</th>\n",
       "    </tr>\n",
       "  </thead>\n",
       "  <tbody>\n",
       "    <tr>\n",
       "      <th>0</th>\n",
       "      <td>1</td>\n",
       "      <td>SVM</td>\n",
       "      <td>None</td>\n",
       "      <td>0.161085</td>\n",
       "      <td>0.3540</td>\n",
       "      <td>0.3540</td>\n",
       "      <td>23.896051</td>\n",
       "    </tr>\n",
       "    <tr>\n",
       "      <th>1</th>\n",
       "      <td>2</td>\n",
       "      <td>SVM</td>\n",
       "      <td>None</td>\n",
       "      <td>0.153528</td>\n",
       "      <td>0.3470</td>\n",
       "      <td>0.3470</td>\n",
       "      <td>23.990794</td>\n",
       "    </tr>\n",
       "    <tr>\n",
       "      <th>2</th>\n",
       "      <td>3</td>\n",
       "      <td>SVM</td>\n",
       "      <td>None</td>\n",
       "      <td>0.149090</td>\n",
       "      <td>0.3400</td>\n",
       "      <td>0.3400</td>\n",
       "      <td>23.855161</td>\n",
       "    </tr>\n",
       "    <tr>\n",
       "      <th>3</th>\n",
       "      <td>4</td>\n",
       "      <td>SVM</td>\n",
       "      <td>None</td>\n",
       "      <td>0.149026</td>\n",
       "      <td>0.3300</td>\n",
       "      <td>0.3300</td>\n",
       "      <td>23.917992</td>\n",
       "    </tr>\n",
       "    <tr>\n",
       "      <th>4</th>\n",
       "      <td>5</td>\n",
       "      <td>SVM</td>\n",
       "      <td>None</td>\n",
       "      <td>0.158781</td>\n",
       "      <td>0.3680</td>\n",
       "      <td>0.3680</td>\n",
       "      <td>23.868127</td>\n",
       "    </tr>\n",
       "    <tr>\n",
       "      <th>0</th>\n",
       "      <td>1</td>\n",
       "      <td>SVM</td>\n",
       "      <td>StandardScaler</td>\n",
       "      <td>0.494511</td>\n",
       "      <td>0.7475</td>\n",
       "      <td>0.7475</td>\n",
       "      <td>16.773721</td>\n",
       "    </tr>\n",
       "    <tr>\n",
       "      <th>1</th>\n",
       "      <td>2</td>\n",
       "      <td>SVM</td>\n",
       "      <td>StandardScaler</td>\n",
       "      <td>0.490905</td>\n",
       "      <td>0.7370</td>\n",
       "      <td>0.7370</td>\n",
       "      <td>16.697920</td>\n",
       "    </tr>\n",
       "    <tr>\n",
       "      <th>2</th>\n",
       "      <td>3</td>\n",
       "      <td>SVM</td>\n",
       "      <td>StandardScaler</td>\n",
       "      <td>0.497861</td>\n",
       "      <td>0.7385</td>\n",
       "      <td>0.7385</td>\n",
       "      <td>16.882423</td>\n",
       "    </tr>\n",
       "    <tr>\n",
       "      <th>3</th>\n",
       "      <td>4</td>\n",
       "      <td>SVM</td>\n",
       "      <td>StandardScaler</td>\n",
       "      <td>0.492645</td>\n",
       "      <td>0.7435</td>\n",
       "      <td>0.7435</td>\n",
       "      <td>16.872450</td>\n",
       "    </tr>\n",
       "    <tr>\n",
       "      <th>4</th>\n",
       "      <td>5</td>\n",
       "      <td>SVM</td>\n",
       "      <td>StandardScaler</td>\n",
       "      <td>0.489892</td>\n",
       "      <td>0.7415</td>\n",
       "      <td>0.7415</td>\n",
       "      <td>16.908354</td>\n",
       "    </tr>\n",
       "    <tr>\n",
       "      <th>0</th>\n",
       "      <td>1</td>\n",
       "      <td>SVM</td>\n",
       "      <td>MinMaxScaler</td>\n",
       "      <td>0.502459</td>\n",
       "      <td>0.7685</td>\n",
       "      <td>0.7685</td>\n",
       "      <td>13.755649</td>\n",
       "    </tr>\n",
       "    <tr>\n",
       "      <th>1</th>\n",
       "      <td>2</td>\n",
       "      <td>SVM</td>\n",
       "      <td>MinMaxScaler</td>\n",
       "      <td>0.510561</td>\n",
       "      <td>0.7620</td>\n",
       "      <td>0.7620</td>\n",
       "      <td>13.855381</td>\n",
       "    </tr>\n",
       "    <tr>\n",
       "      <th>2</th>\n",
       "      <td>3</td>\n",
       "      <td>SVM</td>\n",
       "      <td>MinMaxScaler</td>\n",
       "      <td>0.510089</td>\n",
       "      <td>0.7660</td>\n",
       "      <td>0.7660</td>\n",
       "      <td>14.012996</td>\n",
       "    </tr>\n",
       "    <tr>\n",
       "      <th>3</th>\n",
       "      <td>4</td>\n",
       "      <td>SVM</td>\n",
       "      <td>MinMaxScaler</td>\n",
       "      <td>0.513679</td>\n",
       "      <td>0.7715</td>\n",
       "      <td>0.7715</td>\n",
       "      <td>13.769613</td>\n",
       "    </tr>\n",
       "    <tr>\n",
       "      <th>4</th>\n",
       "      <td>5</td>\n",
       "      <td>SVM</td>\n",
       "      <td>MinMaxScaler</td>\n",
       "      <td>0.516353</td>\n",
       "      <td>0.7760</td>\n",
       "      <td>0.7760</td>\n",
       "      <td>14.020974</td>\n",
       "    </tr>\n",
       "    <tr>\n",
       "      <th>0</th>\n",
       "      <td>1</td>\n",
       "      <td>Logistic Regression</td>\n",
       "      <td>None</td>\n",
       "      <td>0.185310</td>\n",
       "      <td>0.3785</td>\n",
       "      <td>0.3785</td>\n",
       "      <td>5.929152</td>\n",
       "    </tr>\n",
       "    <tr>\n",
       "      <th>1</th>\n",
       "      <td>2</td>\n",
       "      <td>Logistic Regression</td>\n",
       "      <td>None</td>\n",
       "      <td>0.184190</td>\n",
       "      <td>0.3845</td>\n",
       "      <td>0.3845</td>\n",
       "      <td>5.866308</td>\n",
       "    </tr>\n",
       "    <tr>\n",
       "      <th>2</th>\n",
       "      <td>3</td>\n",
       "      <td>Logistic Regression</td>\n",
       "      <td>None</td>\n",
       "      <td>0.185476</td>\n",
       "      <td>0.3850</td>\n",
       "      <td>0.3850</td>\n",
       "      <td>5.929152</td>\n",
       "    </tr>\n",
       "    <tr>\n",
       "      <th>3</th>\n",
       "      <td>4</td>\n",
       "      <td>Logistic Regression</td>\n",
       "      <td>None</td>\n",
       "      <td>0.172755</td>\n",
       "      <td>0.3545</td>\n",
       "      <td>0.3545</td>\n",
       "      <td>5.852346</td>\n",
       "    </tr>\n",
       "    <tr>\n",
       "      <th>4</th>\n",
       "      <td>5</td>\n",
       "      <td>Logistic Regression</td>\n",
       "      <td>None</td>\n",
       "      <td>0.186429</td>\n",
       "      <td>0.3845</td>\n",
       "      <td>0.3845</td>\n",
       "      <td>5.892240</td>\n",
       "    </tr>\n",
       "    <tr>\n",
       "      <th>0</th>\n",
       "      <td>1</td>\n",
       "      <td>Logistic Regression</td>\n",
       "      <td>StandardScaler</td>\n",
       "      <td>0.526760</td>\n",
       "      <td>0.7820</td>\n",
       "      <td>0.7820</td>\n",
       "      <td>5.806485</td>\n",
       "    </tr>\n",
       "    <tr>\n",
       "      <th>1</th>\n",
       "      <td>2</td>\n",
       "      <td>Logistic Regression</td>\n",
       "      <td>StandardScaler</td>\n",
       "      <td>0.522750</td>\n",
       "      <td>0.7725</td>\n",
       "      <td>0.7725</td>\n",
       "      <td>5.937120</td>\n",
       "    </tr>\n",
       "    <tr>\n",
       "      <th>2</th>\n",
       "      <td>3</td>\n",
       "      <td>Logistic Regression</td>\n",
       "      <td>StandardScaler</td>\n",
       "      <td>0.536240</td>\n",
       "      <td>0.7945</td>\n",
       "      <td>0.7945</td>\n",
       "      <td>5.842373</td>\n",
       "    </tr>\n",
       "    <tr>\n",
       "      <th>3</th>\n",
       "      <td>4</td>\n",
       "      <td>Logistic Regression</td>\n",
       "      <td>StandardScaler</td>\n",
       "      <td>0.531880</td>\n",
       "      <td>0.7870</td>\n",
       "      <td>0.7870</td>\n",
       "      <td>5.829408</td>\n",
       "    </tr>\n",
       "    <tr>\n",
       "      <th>4</th>\n",
       "      <td>5</td>\n",
       "      <td>Logistic Regression</td>\n",
       "      <td>StandardScaler</td>\n",
       "      <td>0.523260</td>\n",
       "      <td>0.7865</td>\n",
       "      <td>0.7865</td>\n",
       "      <td>5.926150</td>\n",
       "    </tr>\n",
       "    <tr>\n",
       "      <th>0</th>\n",
       "      <td>1</td>\n",
       "      <td>Logistic Regression</td>\n",
       "      <td>MinMaxScaler</td>\n",
       "      <td>0.564674</td>\n",
       "      <td>0.7910</td>\n",
       "      <td>0.7910</td>\n",
       "      <td>5.861791</td>\n",
       "    </tr>\n",
       "    <tr>\n",
       "      <th>1</th>\n",
       "      <td>2</td>\n",
       "      <td>Logistic Regression</td>\n",
       "      <td>MinMaxScaler</td>\n",
       "      <td>0.536840</td>\n",
       "      <td>0.7875</td>\n",
       "      <td>0.7875</td>\n",
       "      <td>5.860794</td>\n",
       "    </tr>\n",
       "    <tr>\n",
       "      <th>2</th>\n",
       "      <td>3</td>\n",
       "      <td>Logistic Regression</td>\n",
       "      <td>MinMaxScaler</td>\n",
       "      <td>0.536864</td>\n",
       "      <td>0.7890</td>\n",
       "      <td>0.7890</td>\n",
       "      <td>5.811924</td>\n",
       "    </tr>\n",
       "    <tr>\n",
       "      <th>3</th>\n",
       "      <td>4</td>\n",
       "      <td>Logistic Regression</td>\n",
       "      <td>MinMaxScaler</td>\n",
       "      <td>0.543659</td>\n",
       "      <td>0.7890</td>\n",
       "      <td>0.7890</td>\n",
       "      <td>5.760063</td>\n",
       "    </tr>\n",
       "    <tr>\n",
       "      <th>4</th>\n",
       "      <td>5</td>\n",
       "      <td>Logistic Regression</td>\n",
       "      <td>MinMaxScaler</td>\n",
       "      <td>0.569424</td>\n",
       "      <td>0.7970</td>\n",
       "      <td>0.7970</td>\n",
       "      <td>5.802951</td>\n",
       "    </tr>\n",
       "    <tr>\n",
       "      <th>0</th>\n",
       "      <td>1</td>\n",
       "      <td>Decision Tree</td>\n",
       "      <td>None</td>\n",
       "      <td>0.961808</td>\n",
       "      <td>0.9890</td>\n",
       "      <td>0.9890</td>\n",
       "      <td>0.232378</td>\n",
       "    </tr>\n",
       "    <tr>\n",
       "      <th>1</th>\n",
       "      <td>2</td>\n",
       "      <td>Decision Tree</td>\n",
       "      <td>None</td>\n",
       "      <td>0.940817</td>\n",
       "      <td>0.9825</td>\n",
       "      <td>0.9825</td>\n",
       "      <td>0.259340</td>\n",
       "    </tr>\n",
       "    <tr>\n",
       "      <th>2</th>\n",
       "      <td>3</td>\n",
       "      <td>Decision Tree</td>\n",
       "      <td>None</td>\n",
       "      <td>0.956110</td>\n",
       "      <td>0.9875</td>\n",
       "      <td>0.9875</td>\n",
       "      <td>0.232378</td>\n",
       "    </tr>\n",
       "    <tr>\n",
       "      <th>3</th>\n",
       "      <td>4</td>\n",
       "      <td>Decision Tree</td>\n",
       "      <td>None</td>\n",
       "      <td>0.929314</td>\n",
       "      <td>0.9845</td>\n",
       "      <td>0.9845</td>\n",
       "      <td>0.243349</td>\n",
       "    </tr>\n",
       "    <tr>\n",
       "      <th>4</th>\n",
       "      <td>5</td>\n",
       "      <td>Decision Tree</td>\n",
       "      <td>None</td>\n",
       "      <td>0.952321</td>\n",
       "      <td>0.9880</td>\n",
       "      <td>0.9880</td>\n",
       "      <td>0.249332</td>\n",
       "    </tr>\n",
       "    <tr>\n",
       "      <th>0</th>\n",
       "      <td>1</td>\n",
       "      <td>Decision Tree</td>\n",
       "      <td>StandardScaler</td>\n",
       "      <td>0.965040</td>\n",
       "      <td>0.9880</td>\n",
       "      <td>0.9880</td>\n",
       "      <td>0.350060</td>\n",
       "    </tr>\n",
       "    <tr>\n",
       "      <th>1</th>\n",
       "      <td>2</td>\n",
       "      <td>Decision Tree</td>\n",
       "      <td>StandardScaler</td>\n",
       "      <td>0.944504</td>\n",
       "      <td>0.9845</td>\n",
       "      <td>0.9845</td>\n",
       "      <td>0.380017</td>\n",
       "    </tr>\n",
       "    <tr>\n",
       "      <th>2</th>\n",
       "      <td>3</td>\n",
       "      <td>Decision Tree</td>\n",
       "      <td>StandardScaler</td>\n",
       "      <td>0.954905</td>\n",
       "      <td>0.9865</td>\n",
       "      <td>0.9865</td>\n",
       "      <td>0.343078</td>\n",
       "    </tr>\n",
       "    <tr>\n",
       "      <th>3</th>\n",
       "      <td>4</td>\n",
       "      <td>Decision Tree</td>\n",
       "      <td>StandardScaler</td>\n",
       "      <td>0.934622</td>\n",
       "      <td>0.9860</td>\n",
       "      <td>0.9860</td>\n",
       "      <td>0.368011</td>\n",
       "    </tr>\n",
       "    <tr>\n",
       "      <th>4</th>\n",
       "      <td>5</td>\n",
       "      <td>Decision Tree</td>\n",
       "      <td>StandardScaler</td>\n",
       "      <td>0.930735</td>\n",
       "      <td>0.9860</td>\n",
       "      <td>0.9860</td>\n",
       "      <td>0.346070</td>\n",
       "    </tr>\n",
       "    <tr>\n",
       "      <th>0</th>\n",
       "      <td>1</td>\n",
       "      <td>Decision Tree</td>\n",
       "      <td>MinMaxScaler</td>\n",
       "      <td>0.958601</td>\n",
       "      <td>0.9880</td>\n",
       "      <td>0.9880</td>\n",
       "      <td>0.391983</td>\n",
       "    </tr>\n",
       "    <tr>\n",
       "      <th>1</th>\n",
       "      <td>2</td>\n",
       "      <td>Decision Tree</td>\n",
       "      <td>MinMaxScaler</td>\n",
       "      <td>0.962632</td>\n",
       "      <td>0.9860</td>\n",
       "      <td>0.9860</td>\n",
       "      <td>0.403951</td>\n",
       "    </tr>\n",
       "    <tr>\n",
       "      <th>2</th>\n",
       "      <td>3</td>\n",
       "      <td>Decision Tree</td>\n",
       "      <td>MinMaxScaler</td>\n",
       "      <td>0.940447</td>\n",
       "      <td>0.9855</td>\n",
       "      <td>0.9855</td>\n",
       "      <td>0.382970</td>\n",
       "    </tr>\n",
       "    <tr>\n",
       "      <th>3</th>\n",
       "      <td>4</td>\n",
       "      <td>Decision Tree</td>\n",
       "      <td>MinMaxScaler</td>\n",
       "      <td>0.932566</td>\n",
       "      <td>0.9845</td>\n",
       "      <td>0.9845</td>\n",
       "      <td>0.382970</td>\n",
       "    </tr>\n",
       "    <tr>\n",
       "      <th>4</th>\n",
       "      <td>5</td>\n",
       "      <td>Decision Tree</td>\n",
       "      <td>MinMaxScaler</td>\n",
       "      <td>0.936157</td>\n",
       "      <td>0.9845</td>\n",
       "      <td>0.9845</td>\n",
       "      <td>0.388957</td>\n",
       "    </tr>\n",
       "  </tbody>\n",
       "</table>\n",
       "</div>"
      ],
      "text/plain": [
       "  Fold            Algorithm         Scaling  F1_macro  F1_micro  Accuracy   \n",
       "0    1                  SVM            None  0.161085    0.3540    0.3540  \\\n",
       "1    2                  SVM            None  0.153528    0.3470    0.3470   \n",
       "2    3                  SVM            None  0.149090    0.3400    0.3400   \n",
       "3    4                  SVM            None  0.149026    0.3300    0.3300   \n",
       "4    5                  SVM            None  0.158781    0.3680    0.3680   \n",
       "0    1                  SVM  StandardScaler  0.494511    0.7475    0.7475   \n",
       "1    2                  SVM  StandardScaler  0.490905    0.7370    0.7370   \n",
       "2    3                  SVM  StandardScaler  0.497861    0.7385    0.7385   \n",
       "3    4                  SVM  StandardScaler  0.492645    0.7435    0.7435   \n",
       "4    5                  SVM  StandardScaler  0.489892    0.7415    0.7415   \n",
       "0    1                  SVM    MinMaxScaler  0.502459    0.7685    0.7685   \n",
       "1    2                  SVM    MinMaxScaler  0.510561    0.7620    0.7620   \n",
       "2    3                  SVM    MinMaxScaler  0.510089    0.7660    0.7660   \n",
       "3    4                  SVM    MinMaxScaler  0.513679    0.7715    0.7715   \n",
       "4    5                  SVM    MinMaxScaler  0.516353    0.7760    0.7760   \n",
       "0    1  Logistic Regression            None  0.185310    0.3785    0.3785   \n",
       "1    2  Logistic Regression            None  0.184190    0.3845    0.3845   \n",
       "2    3  Logistic Regression            None  0.185476    0.3850    0.3850   \n",
       "3    4  Logistic Regression            None  0.172755    0.3545    0.3545   \n",
       "4    5  Logistic Regression            None  0.186429    0.3845    0.3845   \n",
       "0    1  Logistic Regression  StandardScaler  0.526760    0.7820    0.7820   \n",
       "1    2  Logistic Regression  StandardScaler  0.522750    0.7725    0.7725   \n",
       "2    3  Logistic Regression  StandardScaler  0.536240    0.7945    0.7945   \n",
       "3    4  Logistic Regression  StandardScaler  0.531880    0.7870    0.7870   \n",
       "4    5  Logistic Regression  StandardScaler  0.523260    0.7865    0.7865   \n",
       "0    1  Logistic Regression    MinMaxScaler  0.564674    0.7910    0.7910   \n",
       "1    2  Logistic Regression    MinMaxScaler  0.536840    0.7875    0.7875   \n",
       "2    3  Logistic Regression    MinMaxScaler  0.536864    0.7890    0.7890   \n",
       "3    4  Logistic Regression    MinMaxScaler  0.543659    0.7890    0.7890   \n",
       "4    5  Logistic Regression    MinMaxScaler  0.569424    0.7970    0.7970   \n",
       "0    1        Decision Tree            None  0.961808    0.9890    0.9890   \n",
       "1    2        Decision Tree            None  0.940817    0.9825    0.9825   \n",
       "2    3        Decision Tree            None  0.956110    0.9875    0.9875   \n",
       "3    4        Decision Tree            None  0.929314    0.9845    0.9845   \n",
       "4    5        Decision Tree            None  0.952321    0.9880    0.9880   \n",
       "0    1        Decision Tree  StandardScaler  0.965040    0.9880    0.9880   \n",
       "1    2        Decision Tree  StandardScaler  0.944504    0.9845    0.9845   \n",
       "2    3        Decision Tree  StandardScaler  0.954905    0.9865    0.9865   \n",
       "3    4        Decision Tree  StandardScaler  0.934622    0.9860    0.9860   \n",
       "4    5        Decision Tree  StandardScaler  0.930735    0.9860    0.9860   \n",
       "0    1        Decision Tree    MinMaxScaler  0.958601    0.9880    0.9880   \n",
       "1    2        Decision Tree    MinMaxScaler  0.962632    0.9860    0.9860   \n",
       "2    3        Decision Tree    MinMaxScaler  0.940447    0.9855    0.9855   \n",
       "3    4        Decision Tree    MinMaxScaler  0.932566    0.9845    0.9845   \n",
       "4    5        Decision Tree    MinMaxScaler  0.936157    0.9845    0.9845   \n",
       "\n",
       "   Training time  \n",
       "0      23.896051  \n",
       "1      23.990794  \n",
       "2      23.855161  \n",
       "3      23.917992  \n",
       "4      23.868127  \n",
       "0      16.773721  \n",
       "1      16.697920  \n",
       "2      16.882423  \n",
       "3      16.872450  \n",
       "4      16.908354  \n",
       "0      13.755649  \n",
       "1      13.855381  \n",
       "2      14.012996  \n",
       "3      13.769613  \n",
       "4      14.020974  \n",
       "0       5.929152  \n",
       "1       5.866308  \n",
       "2       5.929152  \n",
       "3       5.852346  \n",
       "4       5.892240  \n",
       "0       5.806485  \n",
       "1       5.937120  \n",
       "2       5.842373  \n",
       "3       5.829408  \n",
       "4       5.926150  \n",
       "0       5.861791  \n",
       "1       5.860794  \n",
       "2       5.811924  \n",
       "3       5.760063  \n",
       "4       5.802951  \n",
       "0       0.232378  \n",
       "1       0.259340  \n",
       "2       0.232378  \n",
       "3       0.243349  \n",
       "4       0.249332  \n",
       "0       0.350060  \n",
       "1       0.380017  \n",
       "2       0.343078  \n",
       "3       0.368011  \n",
       "4       0.346070  \n",
       "0       0.391983  \n",
       "1       0.403951  \n",
       "2       0.382970  \n",
       "3       0.382970  \n",
       "4       0.388957  "
      ]
     },
     "execution_count": 62,
     "metadata": {},
     "output_type": "execute_result"
    }
   ],
   "source": [
    "res = pd.DataFrame(columns=['Fold', 'Algorithm', 'Scaling', 'F1_macro', 'F1_micro', 'Accuracy', 'Training time'])\n",
    "\n",
    "res =  pd.concat([res, cross_validation(\"SVM\", SVC(), X, y)])\n",
    "res =  pd.concat([res, cross_validation(\"SVM\", SVC(), X, y, scale=StandardScaler())])\n",
    "res =  pd.concat([res, cross_validation(\"SVM\", SVC(), X, y, scale=MinMaxScaler())])\n",
    "\n",
    "res = pd.concat([res, cross_validation(\"Logistic Regression\", LogisticRegression(solver='saga'), X, y)])\n",
    "res = pd.concat([res, cross_validation(\"Logistic Regression\", LogisticRegression(solver='saga'), X, y, scale=StandardScaler())])\n",
    "res = pd.concat([res, cross_validation(\"Logistic Regression\", LogisticRegression(solver='saga'), X, y, scale=MinMaxScaler())])\n",
    "\n",
    "res = pd.concat([res, cross_validation(\"Decision Tree\", DecisionTreeClassifier(), X, y)])\n",
    "res = pd.concat([res, cross_validation(\"Decision Tree\", DecisionTreeClassifier(), X, y, scale=StandardScaler())])\n",
    "res = pd.concat([res, cross_validation(\"Decision Tree\", DecisionTreeClassifier(), X, y, scale=MinMaxScaler())])\n",
    "res"
   ]
  },
  {
   "cell_type": "code",
   "execution_count": 63,
   "metadata": {},
   "outputs": [
    {
     "data": {
      "text/html": [
       "<div>\n",
       "<style scoped>\n",
       "    .dataframe tbody tr th:only-of-type {\n",
       "        vertical-align: middle;\n",
       "    }\n",
       "\n",
       "    .dataframe tbody tr th {\n",
       "        vertical-align: top;\n",
       "    }\n",
       "\n",
       "    .dataframe thead tr th {\n",
       "        text-align: left;\n",
       "    }\n",
       "\n",
       "    .dataframe thead tr:last-of-type th {\n",
       "        text-align: right;\n",
       "    }\n",
       "</style>\n",
       "<table border=\"1\" class=\"dataframe\">\n",
       "  <thead>\n",
       "    <tr>\n",
       "      <th></th>\n",
       "      <th></th>\n",
       "      <th colspan=\"4\" halign=\"left\">Accuracy</th>\n",
       "    </tr>\n",
       "    <tr>\n",
       "      <th></th>\n",
       "      <th></th>\n",
       "      <th>min</th>\n",
       "      <th>mean</th>\n",
       "      <th>max</th>\n",
       "      <th>std</th>\n",
       "    </tr>\n",
       "    <tr>\n",
       "      <th>Algorithm</th>\n",
       "      <th>Scaling</th>\n",
       "      <th></th>\n",
       "      <th></th>\n",
       "      <th></th>\n",
       "      <th></th>\n",
       "    </tr>\n",
       "  </thead>\n",
       "  <tbody>\n",
       "    <tr>\n",
       "      <th rowspan=\"3\" valign=\"top\">Decision Tree</th>\n",
       "      <th>MinMaxScaler</th>\n",
       "      <td>0.9845</td>\n",
       "      <td>0.9857</td>\n",
       "      <td>0.9880</td>\n",
       "      <td>0.001440</td>\n",
       "    </tr>\n",
       "    <tr>\n",
       "      <th>None</th>\n",
       "      <td>0.9825</td>\n",
       "      <td>0.9863</td>\n",
       "      <td>0.9890</td>\n",
       "      <td>0.002706</td>\n",
       "    </tr>\n",
       "    <tr>\n",
       "      <th>StandardScaler</th>\n",
       "      <td>0.9845</td>\n",
       "      <td>0.9862</td>\n",
       "      <td>0.9880</td>\n",
       "      <td>0.001255</td>\n",
       "    </tr>\n",
       "    <tr>\n",
       "      <th rowspan=\"3\" valign=\"top\">Logistic Regression</th>\n",
       "      <th>MinMaxScaler</th>\n",
       "      <td>0.7875</td>\n",
       "      <td>0.7907</td>\n",
       "      <td>0.7970</td>\n",
       "      <td>0.003735</td>\n",
       "    </tr>\n",
       "    <tr>\n",
       "      <th>None</th>\n",
       "      <td>0.3545</td>\n",
       "      <td>0.3774</td>\n",
       "      <td>0.3850</td>\n",
       "      <td>0.013079</td>\n",
       "    </tr>\n",
       "    <tr>\n",
       "      <th>StandardScaler</th>\n",
       "      <td>0.7725</td>\n",
       "      <td>0.7845</td>\n",
       "      <td>0.7945</td>\n",
       "      <td>0.008070</td>\n",
       "    </tr>\n",
       "    <tr>\n",
       "      <th rowspan=\"3\" valign=\"top\">SVM</th>\n",
       "      <th>MinMaxScaler</th>\n",
       "      <td>0.7620</td>\n",
       "      <td>0.7688</td>\n",
       "      <td>0.7760</td>\n",
       "      <td>0.005322</td>\n",
       "    </tr>\n",
       "    <tr>\n",
       "      <th>None</th>\n",
       "      <td>0.3300</td>\n",
       "      <td>0.3478</td>\n",
       "      <td>0.3680</td>\n",
       "      <td>0.014360</td>\n",
       "    </tr>\n",
       "    <tr>\n",
       "      <th>StandardScaler</th>\n",
       "      <td>0.7370</td>\n",
       "      <td>0.7416</td>\n",
       "      <td>0.7475</td>\n",
       "      <td>0.004159</td>\n",
       "    </tr>\n",
       "  </tbody>\n",
       "</table>\n",
       "</div>"
      ],
      "text/plain": [
       "                                   Accuracy                          \n",
       "                                        min    mean     max       std\n",
       "Algorithm           Scaling                                          \n",
       "Decision Tree       MinMaxScaler     0.9845  0.9857  0.9880  0.001440\n",
       "                    None             0.9825  0.9863  0.9890  0.002706\n",
       "                    StandardScaler   0.9845  0.9862  0.9880  0.001255\n",
       "Logistic Regression MinMaxScaler     0.7875  0.7907  0.7970  0.003735\n",
       "                    None             0.3545  0.3774  0.3850  0.013079\n",
       "                    StandardScaler   0.7725  0.7845  0.7945  0.008070\n",
       "SVM                 MinMaxScaler     0.7620  0.7688  0.7760  0.005322\n",
       "                    None             0.3300  0.3478  0.3680  0.014360\n",
       "                    StandardScaler   0.7370  0.7416  0.7475  0.004159"
      ]
     },
     "execution_count": 63,
     "metadata": {},
     "output_type": "execute_result"
    }
   ],
   "source": [
    "res.groupby(['Algorithm', 'Scaling']).agg({'Accuracy': [ 'min', 'mean', 'max', 'std']})"
   ]
  },
  {
   "cell_type": "code",
   "execution_count": 64,
   "metadata": {},
   "outputs": [
    {
     "data": {
      "text/html": [
       "<div>\n",
       "<style scoped>\n",
       "    .dataframe tbody tr th:only-of-type {\n",
       "        vertical-align: middle;\n",
       "    }\n",
       "\n",
       "    .dataframe tbody tr th {\n",
       "        vertical-align: top;\n",
       "    }\n",
       "\n",
       "    .dataframe thead tr th {\n",
       "        text-align: left;\n",
       "    }\n",
       "\n",
       "    .dataframe thead tr:last-of-type th {\n",
       "        text-align: right;\n",
       "    }\n",
       "</style>\n",
       "<table border=\"1\" class=\"dataframe\">\n",
       "  <thead>\n",
       "    <tr>\n",
       "      <th></th>\n",
       "      <th></th>\n",
       "      <th colspan=\"4\" halign=\"left\">F1_macro</th>\n",
       "    </tr>\n",
       "    <tr>\n",
       "      <th></th>\n",
       "      <th></th>\n",
       "      <th>min</th>\n",
       "      <th>mean</th>\n",
       "      <th>max</th>\n",
       "      <th>std</th>\n",
       "    </tr>\n",
       "    <tr>\n",
       "      <th>Algorithm</th>\n",
       "      <th>Scaling</th>\n",
       "      <th></th>\n",
       "      <th></th>\n",
       "      <th></th>\n",
       "      <th></th>\n",
       "    </tr>\n",
       "  </thead>\n",
       "  <tbody>\n",
       "    <tr>\n",
       "      <th rowspan=\"3\" valign=\"top\">Decision Tree</th>\n",
       "      <th>MinMaxScaler</th>\n",
       "      <td>0.932566</td>\n",
       "      <td>0.946081</td>\n",
       "      <td>0.962632</td>\n",
       "      <td>0.013634</td>\n",
       "    </tr>\n",
       "    <tr>\n",
       "      <th>None</th>\n",
       "      <td>0.929314</td>\n",
       "      <td>0.948074</td>\n",
       "      <td>0.961808</td>\n",
       "      <td>0.012998</td>\n",
       "    </tr>\n",
       "    <tr>\n",
       "      <th>StandardScaler</th>\n",
       "      <td>0.930735</td>\n",
       "      <td>0.945961</td>\n",
       "      <td>0.965040</td>\n",
       "      <td>0.014200</td>\n",
       "    </tr>\n",
       "    <tr>\n",
       "      <th rowspan=\"3\" valign=\"top\">Logistic Regression</th>\n",
       "      <th>MinMaxScaler</th>\n",
       "      <td>0.536840</td>\n",
       "      <td>0.550292</td>\n",
       "      <td>0.569424</td>\n",
       "      <td>0.015638</td>\n",
       "    </tr>\n",
       "    <tr>\n",
       "      <th>None</th>\n",
       "      <td>0.172755</td>\n",
       "      <td>0.182832</td>\n",
       "      <td>0.186429</td>\n",
       "      <td>0.005689</td>\n",
       "    </tr>\n",
       "    <tr>\n",
       "      <th>StandardScaler</th>\n",
       "      <td>0.522750</td>\n",
       "      <td>0.528178</td>\n",
       "      <td>0.536240</td>\n",
       "      <td>0.005796</td>\n",
       "    </tr>\n",
       "    <tr>\n",
       "      <th rowspan=\"3\" valign=\"top\">SVM</th>\n",
       "      <th>MinMaxScaler</th>\n",
       "      <td>0.502459</td>\n",
       "      <td>0.510628</td>\n",
       "      <td>0.516353</td>\n",
       "      <td>0.005223</td>\n",
       "    </tr>\n",
       "    <tr>\n",
       "      <th>None</th>\n",
       "      <td>0.149026</td>\n",
       "      <td>0.154302</td>\n",
       "      <td>0.161085</td>\n",
       "      <td>0.005515</td>\n",
       "    </tr>\n",
       "    <tr>\n",
       "      <th>StandardScaler</th>\n",
       "      <td>0.489892</td>\n",
       "      <td>0.493163</td>\n",
       "      <td>0.497861</td>\n",
       "      <td>0.003160</td>\n",
       "    </tr>\n",
       "  </tbody>\n",
       "</table>\n",
       "</div>"
      ],
      "text/plain": [
       "                                    F1_macro                              \n",
       "                                         min      mean       max       std\n",
       "Algorithm           Scaling                                               \n",
       "Decision Tree       MinMaxScaler    0.932566  0.946081  0.962632  0.013634\n",
       "                    None            0.929314  0.948074  0.961808  0.012998\n",
       "                    StandardScaler  0.930735  0.945961  0.965040  0.014200\n",
       "Logistic Regression MinMaxScaler    0.536840  0.550292  0.569424  0.015638\n",
       "                    None            0.172755  0.182832  0.186429  0.005689\n",
       "                    StandardScaler  0.522750  0.528178  0.536240  0.005796\n",
       "SVM                 MinMaxScaler    0.502459  0.510628  0.516353  0.005223\n",
       "                    None            0.149026  0.154302  0.161085  0.005515\n",
       "                    StandardScaler  0.489892  0.493163  0.497861  0.003160"
      ]
     },
     "execution_count": 64,
     "metadata": {},
     "output_type": "execute_result"
    }
   ],
   "source": [
    "res.groupby(['Algorithm', 'Scaling']).agg({'F1_macro': [ 'min', 'mean', 'max', 'std']})"
   ]
  },
  {
   "cell_type": "code",
   "execution_count": 65,
   "metadata": {},
   "outputs": [
    {
     "data": {
      "text/html": [
       "<div>\n",
       "<style scoped>\n",
       "    .dataframe tbody tr th:only-of-type {\n",
       "        vertical-align: middle;\n",
       "    }\n",
       "\n",
       "    .dataframe tbody tr th {\n",
       "        vertical-align: top;\n",
       "    }\n",
       "\n",
       "    .dataframe thead tr th {\n",
       "        text-align: left;\n",
       "    }\n",
       "\n",
       "    .dataframe thead tr:last-of-type th {\n",
       "        text-align: right;\n",
       "    }\n",
       "</style>\n",
       "<table border=\"1\" class=\"dataframe\">\n",
       "  <thead>\n",
       "    <tr>\n",
       "      <th></th>\n",
       "      <th></th>\n",
       "      <th colspan=\"4\" halign=\"left\">F1_micro</th>\n",
       "    </tr>\n",
       "    <tr>\n",
       "      <th></th>\n",
       "      <th></th>\n",
       "      <th>min</th>\n",
       "      <th>mean</th>\n",
       "      <th>max</th>\n",
       "      <th>std</th>\n",
       "    </tr>\n",
       "    <tr>\n",
       "      <th>Algorithm</th>\n",
       "      <th>Scaling</th>\n",
       "      <th></th>\n",
       "      <th></th>\n",
       "      <th></th>\n",
       "      <th></th>\n",
       "    </tr>\n",
       "  </thead>\n",
       "  <tbody>\n",
       "    <tr>\n",
       "      <th rowspan=\"3\" valign=\"top\">Decision Tree</th>\n",
       "      <th>MinMaxScaler</th>\n",
       "      <td>0.9845</td>\n",
       "      <td>0.9857</td>\n",
       "      <td>0.9880</td>\n",
       "      <td>0.001440</td>\n",
       "    </tr>\n",
       "    <tr>\n",
       "      <th>None</th>\n",
       "      <td>0.9825</td>\n",
       "      <td>0.9863</td>\n",
       "      <td>0.9890</td>\n",
       "      <td>0.002706</td>\n",
       "    </tr>\n",
       "    <tr>\n",
       "      <th>StandardScaler</th>\n",
       "      <td>0.9845</td>\n",
       "      <td>0.9862</td>\n",
       "      <td>0.9880</td>\n",
       "      <td>0.001255</td>\n",
       "    </tr>\n",
       "    <tr>\n",
       "      <th rowspan=\"3\" valign=\"top\">Logistic Regression</th>\n",
       "      <th>MinMaxScaler</th>\n",
       "      <td>0.7875</td>\n",
       "      <td>0.7907</td>\n",
       "      <td>0.7970</td>\n",
       "      <td>0.003735</td>\n",
       "    </tr>\n",
       "    <tr>\n",
       "      <th>None</th>\n",
       "      <td>0.3545</td>\n",
       "      <td>0.3774</td>\n",
       "      <td>0.3850</td>\n",
       "      <td>0.013079</td>\n",
       "    </tr>\n",
       "    <tr>\n",
       "      <th>StandardScaler</th>\n",
       "      <td>0.7725</td>\n",
       "      <td>0.7845</td>\n",
       "      <td>0.7945</td>\n",
       "      <td>0.008070</td>\n",
       "    </tr>\n",
       "    <tr>\n",
       "      <th rowspan=\"3\" valign=\"top\">SVM</th>\n",
       "      <th>MinMaxScaler</th>\n",
       "      <td>0.7620</td>\n",
       "      <td>0.7688</td>\n",
       "      <td>0.7760</td>\n",
       "      <td>0.005322</td>\n",
       "    </tr>\n",
       "    <tr>\n",
       "      <th>None</th>\n",
       "      <td>0.3300</td>\n",
       "      <td>0.3478</td>\n",
       "      <td>0.3680</td>\n",
       "      <td>0.014360</td>\n",
       "    </tr>\n",
       "    <tr>\n",
       "      <th>StandardScaler</th>\n",
       "      <td>0.7370</td>\n",
       "      <td>0.7416</td>\n",
       "      <td>0.7475</td>\n",
       "      <td>0.004159</td>\n",
       "    </tr>\n",
       "  </tbody>\n",
       "</table>\n",
       "</div>"
      ],
      "text/plain": [
       "                                   F1_micro                          \n",
       "                                        min    mean     max       std\n",
       "Algorithm           Scaling                                          \n",
       "Decision Tree       MinMaxScaler     0.9845  0.9857  0.9880  0.001440\n",
       "                    None             0.9825  0.9863  0.9890  0.002706\n",
       "                    StandardScaler   0.9845  0.9862  0.9880  0.001255\n",
       "Logistic Regression MinMaxScaler     0.7875  0.7907  0.7970  0.003735\n",
       "                    None             0.3545  0.3774  0.3850  0.013079\n",
       "                    StandardScaler   0.7725  0.7845  0.7945  0.008070\n",
       "SVM                 MinMaxScaler     0.7620  0.7688  0.7760  0.005322\n",
       "                    None             0.3300  0.3478  0.3680  0.014360\n",
       "                    StandardScaler   0.7370  0.7416  0.7475  0.004159"
      ]
     },
     "execution_count": 65,
     "metadata": {},
     "output_type": "execute_result"
    }
   ],
   "source": [
    "res.groupby(['Algorithm', 'Scaling']).agg({'F1_micro': [ 'min', 'mean', 'max', 'std']})"
   ]
  },
  {
   "attachments": {},
   "cell_type": "markdown",
   "metadata": {},
   "source": [
    "#### plot the results"
   ]
  },
  {
   "cell_type": "code",
   "execution_count": 66,
   "metadata": {},
   "outputs": [
    {
     "data": {
      "image/png": "[encoded data removed]",
      "text/plain": [
       "<Figure size 640x480 with 1 Axes>"
      ]
     },
     "metadata": {},
     "output_type": "display_data"
    },
    {
     "data": {
      "image/png": "[encoded data removed]",
      "text/plain": [
       "<Figure size 640x480 with 1 Axes>"
      ]
     },
     "metadata": {},
     "output_type": "display_data"
    },
    {
     "data": {
      "image/png": "[encoded data removed]",
      "text/plain": [
       "<Figure size 640x480 with 1 Axes>"
      ]
     },
     "metadata": {},
     "output_type": "display_data"
    },
    {
     "data": {
      "image/png": "[encoded data removed]",
      "text/plain": [
       "<Figure size 640x480 with 1 Axes>"
      ]
     },
     "metadata": {},
     "output_type": "display_data"
    }
   ],
   "source": [
    "sns.boxplot(y=\"Algorithm\", x=\"Accuracy\",\n",
    "            hue=\"Scaling\", palette=sns_palette,\n",
    "            data=res)\n",
    "plt.show()\n",
    "sns.boxplot(y=\"Algorithm\", x=\"F1_macro\",\n",
    "            hue=\"Scaling\", palette=sns_palette,\n",
    "            data=res)\n",
    "plt.show()\n",
    "sns.boxplot(y=\"Algorithm\", x=\"F1_micro\",\n",
    "            hue=\"Scaling\", palette=sns_palette,\n",
    "            data=res)\n",
    "plt.show()\n",
    "sns.boxplot(y=\"Algorithm\", x=\"Training time\",\n",
    "            hue=\"Algorithm\", palette=sns_palette,\n",
    "            data=res)\n",
    "plt.show()"
   ]
  },
  {
   "attachments": {},
   "cell_type": "markdown",
   "metadata": {},
   "source": [
    "# Fine tune model for the best 3 algos: decision tree, logistic regression, svm"
   ]
  },
  {
   "cell_type": "code",
   "execution_count": 64,
   "metadata": {},
   "outputs": [],
   "source": [
    "sclr = StandardScaler()\n",
    "X_s = sclr.fit_transform(X)\n"
   ]
  },
  {
   "cell_type": "code",
   "execution_count": 74,
   "metadata": {},
   "outputs": [],
   "source": [
    "from sklearn.preprocessing import MinMaxScaler\n",
    "sclr_minmax = MinMaxScaler()\n",
    "X_mm = sclr_minmax.fit_transform(X)"
   ]
  },
  {
   "attachments": {},
   "cell_type": "markdown",
   "metadata": {},
   "source": [
    "### Decision tree"
   ]
  },
  {
   "cell_type": "code",
   "execution_count": 59,
   "metadata": {},
   "outputs": [],
   "source": [
    "dt = DecisionTreeClassifier()"
   ]
  },
  {
   "attachments": {},
   "cell_type": "markdown",
   "metadata": {},
   "source": [
    "#### Hyperparameters - improves performance a little"
   ]
  },
  {
   "cell_type": "code",
   "execution_count": 60,
   "metadata": {},
   "outputs": [
    {
     "name": "stdout",
     "output_type": "stream",
     "text": [
      "Best parameters for recall_macro: {'criterion': 'entropy', 'max_depth': 10, 'min_samples_leaf': 4, 'min_samples_split': 10}\n",
      "Best score for recall_macro: 0.9580086091215543\n",
      "Best parameters for f1_macro: {'criterion': 'entropy', 'max_depth': 15, 'min_samples_leaf': 4, 'min_samples_split': 5}\n",
      "Best score for f1_macro: 0.9554332391609327\n",
      "Best parameters for accuracy: {'criterion': 'gini', 'max_depth': None, 'min_samples_leaf': 4, 'min_samples_split': 10}\n",
      "Best score for accuracy: 0.9890000000000001\n"
     ]
    },
    {
     "data": {
      "text/plain": [
       "['best_params.pkl']"
      ]
     },
     "execution_count": 60,
     "metadata": {},
     "output_type": "execute_result"
    }
   ],
   "source": [
    "# Define the parameter grid to search\n",
    "# middle number is best option as found through stepwise comparison\n",
    "param_grid = {\n",
    "    'criterion': ['gini', 'entropy'],\n",
    "    'max_depth': [None, 15, 20, 30],\n",
    "    'min_samples_split': [3, 4, 5],\n",
    "    'min_samples_leaf': [5, 6, 7]\n",
    "}\n",
    "\n",
    "scoring = ['f1_macro', 'f1_micro', 'accuracy' ]\n",
    "best_params = {}\n",
    "\n",
    "for metric in scoring:\n",
    "    grid_search = GridSearchCV(dt, param_grid=param_grid, cv=5, scoring=metric, refit=False)\n",
    "    grid_search.fit(X_s, y)\n",
    "    print(f\"Best parameters for {metric}: {grid_search.best_params_}\")\n",
    "    print(f\"Best score for {metric}: {grid_search.best_score_}\")\n",
    "    best_params[metric] = {'params': grid_search.best_params_, 'score': grid_search.best_score_}\n",
    "\n",
    "joblib.dump(best_params, 'best_params.pkl')\n"
   ]
  },
  {
   "cell_type": "code",
   "execution_count": null,
   "metadata": {},
   "outputs": [],
   "source": [
    "X_train_val, X_test, y_train_val, y_test = train_test_split(X, y, test_size=0.2, random_state=42)\n",
    "\n",
    "# Split the training set into training and validation sets\n",
    "X_train, X_val, y_train, y_val = train_test_split(X_train_val, y_train_val, test_size=0.2, random_state=42)\n",
    "\n",
    "# Define the parameter grid for model selection using GridSearchCV\n",
    "param_grid = {\n",
    "    'max_depth': [3, 5, 7],\n",
    "    'min_samples_split': [2, 5, 10],\n",
    "    'min_samples_leaf': [1, 2, 4]\n",
    "}\n",
    "\n",
    "# Perform model selection using GridSearchCV with cross-validation on the training set\n",
    "clf = GridSearchCV(DecisionTreeClassifier(random_state=42), param_grid, cv=5, scoring='f1_macro', n_jobs=-1)\n",
    "clf.fit(X_train, y_train)\n",
    "\n",
    "# Evaluate the best model on the validation set\n",
    "y_pred = clf.predict(X_val)\n",
    "val_f1 = f1_score(y_val, y_pred, average='macro')\n",
    "val_acc = accuracy_score(y_val, y_pred)\n",
    "\n",
    "# Train the best model on the combined training and validation sets\n",
    "best_model = clf.best_estimator_\n",
    "best_model.fit(X_train_val, y_train_val)\n",
    "\n",
    "# Evaluate the final model on the test set\n",
    "y_pred = best_model.predict(X_test)\n",
    "test_f1 = f1_score(y_test, y_pred, average='macro')\n",
    "test_acc = accuracy_score(y_test, y_pred)\n",
    "\n",
    "print(\"Validation F1 score:\", val_f1)\n",
    "print(\"Validation accuracy:\", val_acc)\n",
    "print(\"Test F1 score:\", test_f1)\n",
    "print(\"Test accuracy:\", test_acc)\n"
   ]
  },
  {
   "attachments": {},
   "cell_type": "markdown",
   "metadata": {},
   "source": [
    "#### Recursive Feature Elimination - improves performance"
   ]
  },
  {
   "cell_type": "code",
   "execution_count": 61,
   "metadata": {},
   "outputs": [
    {
     "name": "stdout",
     "output_type": "stream",
     "text": [
      "Recall: 0.9885\n",
      "F1 score: 0.9886167113866589\n",
      "Accuracy: 0.9885\n",
      "Recall with selected features: 0.991\n",
      "F1 score with selected features: 0.9909482044304846\n",
      "Accuracy with selected features: 0.991\n"
     ]
    }
   ],
   "source": [
    "# Split dataset into training and testing sets\n",
    "X_train, X_test, y_train, y_test = train_test_split(X, y, test_size=0.2)\n",
    "\n",
    "# Fit decision tree model on training set\n",
    "dt.fit(X_train, y_train)\n",
    "\n",
    "# Evaluate performance on testing set\n",
    "y_pred = dt.predict(X_test)\n",
    "print('F1_macro:', f1_score(y_test, y_pred, average='macro'))\n",
    "print('F1_micro:', f1_score(y_test, y_pred, average='micro'))\n",
    "print('Accuracy:', accuracy_score(y_test, y_pred))\n",
    "\n",
    "# Use RFE to select optimal features\n",
    "rfe = RFE(estimator=dt, n_features_to_select=5, step=1)\n",
    "rfe.fit(X_train, y_train)\n",
    "\n",
    "# Get selected features\n",
    "selected_features = X.columns[rfe.support_]\n",
    "\n",
    "# Fit decision tree model on selected features\n",
    "dt.fit(X_train[selected_features], y_train)\n",
    "\n",
    "# Evaluate performance on testing set with selected features\n",
    "y_pred = dt.predict(X_test[selected_features])\n",
    "print('F1_macro with selected features:', f1_score(y_test, y_pred, average='macro'))\n",
    "print('F1_micro score with selected features:', f1_score(y_test, y_pred, average='micro'))\n",
    "print('Accuracy with selected features:', accuracy_score(y_test, y_pred))\n",
    "\n",
    "\n"
   ]
  },
  {
   "attachments": {},
   "cell_type": "markdown",
   "metadata": {},
   "source": [
    "#### Tree-based feature selection - improves performance"
   ]
  },
  {
   "cell_type": "code",
   "execution_count": 62,
   "metadata": {},
   "outputs": [
    {
     "name": "stdout",
     "output_type": "stream",
     "text": [
      "Recall before feature selection: 0.982\n",
      "F1 score before feature selection: 0.9819541234203191\n",
      "Accuracy before feature selection: 0.982\n",
      "Recall on the testing set after feature selection: 0.9955\n",
      "F1 score on the testing set after feature selection: 0.9955125408521068\n",
      "Accuracy on the testing set after feature selection: 0.9955\n"
     ]
    }
   ],
   "source": [
    "X_train, X_test, y_train, y_test = train_test_split(X, y, test_size=0.2, random_state=42)\n",
    "\n",
    "X_train = X_train.values\n",
    "X_test = X_test.values\n",
    "\n",
    "dt.fit(X_train, y_train)\n",
    "\n",
    "y_pred = dt.predict(X_test)\n",
    "accuracy = accuracy_score(y_test, y_pred)\n",
    "f1_macro = f1_score(y_test, y_pred, average='macro')\n",
    "f1_mirco = f1_score(y_test, y_pred, average='micro')\n",
    "\n",
    "print('F1 macro before feature selection:', f1_macro)\n",
    "print('F1 micro score before feature selection:', f1_micro)\n",
    "print('Accuracy before feature selection:', accuracy)\n",
    "\n",
    "selector = SelectFromModel(dt, prefit=True, threshold='mean')\n",
    "X_train_new = selector.transform(X_train)\n",
    "\n",
    "# Train a new decision tree classifier using the selected features\n",
    "dt_new = DecisionTreeClassifier(random_state=42)\n",
    "dt_new.fit(X_train_new, y_train)\n",
    "\n",
    "# Apply the same feature selection to the testing set\n",
    "X_test_new = selector.transform(X_test)\n",
    "\n",
    "# Evaluate the performance of the new classifier on the testing set\n",
    "y_pred_new = dt_new.predict(X_test_new)\n",
    "accuracy_new = accuracy_score(y_test, y_pred_new)\n",
    "f1_macro_new = f1_score(y_test, y_pred_new, average='macro')\n",
    "f1_micro_new = f1_score(y_test, y_pred_new, average='micro')\n",
    "\n",
    "print('F1 macro on the testing set after feature selection:', f1_macro_new)\n",
    "print('F1 micro score on the testing set after feature selection:', f1_micro_new)\n",
    "print('Accuracy on the testing set after feature selection:', accuracy_new)\n",
    "\n"
   ]
  },
  {
   "attachments": {},
   "cell_type": "markdown",
   "metadata": {},
   "source": [
    "#### Regularization with L1 - no change"
   ]
  },
  {
   "cell_type": "code",
   "execution_count": 63,
   "metadata": {},
   "outputs": [
    {
     "name": "stdout",
     "output_type": "stream",
     "text": [
      "Recall on the testing set after L1 regularization: 0.9955\n",
      "F1 score on the testing set after L1 regularization: 0.9955125408521068\n",
      "Accuracy on the testing set after L1 regularization: 0.9955\n"
     ]
    }
   ],
   "source": [
    "# Apply L1 regularization to select important features\n",
    "selector = SelectFromModel(dt, prefit=True, threshold='mean', norm_order=1)\n",
    "\n",
    "# Transform the training and testing data to include only the selected features\n",
    "X_train_new = selector.transform(X_train)\n",
    "X_test_new = selector.transform(X_test)\n",
    "\n",
    "# Train a new decision tree classifier using the selected features\n",
    "dt_new = DecisionTreeClassifier(random_state=42)\n",
    "dt_new.fit(X_train_new, y_train)\n",
    "\n",
    "# Evaluate the performance of the new classifier on the testing set\n",
    "y_pred_new = dt_new.predict(X_test_new)\n",
    "accuracy_new = accuracy_score(y_test, y_pred_new)\n",
    "f1_macro_new = f1_score(y_test, y_pred_new, average='macro')\n",
    "f1_micro_new = f1_score(y_test, y_pred_new, average='micro')\n",
    "\n",
    "print('F1 macro on the testing set after L1 regularization:', f1_macro_new)\n",
    "print('F1 micro score on the testing set after L1 regularization:', f1_micro_new)\n",
    "print('Accuracy on the testing set after L1 regularization:', accuracy_new)"
   ]
  },
  {
   "attachments": {},
   "cell_type": "markdown",
   "metadata": {},
   "source": [
    "#### Regularization with L2 - todo compare with above (slightly worse than l1, quite similar to nothing having been done)"
   ]
  },
  {
   "cell_type": "code",
   "execution_count": 64,
   "metadata": {},
   "outputs": [
    {
     "name": "stdout",
     "output_type": "stream",
     "text": [
      "Recall with L2 regularization: 0.9835\n",
      "F1 score with L2 regularization: 0.9835137757133142\n",
      "Accuracy with L2 regularization: 0.9835\n"
     ]
    }
   ],
   "source": [
    "X_train, X_test, y_train, y_test = train_test_split(X, y, test_size=0.2, random_state=42)\n",
    "# Create a decision tree classifier with L2 regularization\n",
    "dt_L2 = DecisionTreeClassifier(random_state=42, min_samples_leaf=2)\n",
    "\n",
    "# Train the classifier on the training data\n",
    "dt_L2.fit(X_train, y_train)\n",
    "\n",
    "# Evaluate the performance of the classifier on the testing data\n",
    "y_pred = dt_L2.predict(X_test)\n",
    "accuracy = accuracy_score(y_test, y_pred)\n",
    "f1_macro = f1_score(y_test, y_pred, average='macro')\n",
    "f1_micro = f1_score(y_test, y_pred, average='micro')\n",
    "\n",
    "print('F1 macro with L2 regularization:', f1_macro)\n",
    "print('F1 micro score with L2 regularization:', f1_micro)\n",
    "print('Accuracy with L2 regularization:', accuracy)"
   ]
  },
  {
   "attachments": {},
   "cell_type": "markdown",
   "metadata": {},
   "source": [
    "#### Principal Component Analysis (PCA) - reduces performance as is rn, play with test size"
   ]
  },
  {
   "cell_type": "code",
   "execution_count": 65,
   "metadata": {},
   "outputs": [
    {
     "name": "stdout",
     "output_type": "stream",
     "text": [
      "Recall without PCA: 0.9845\n",
      "F1 score without PCA: 0.9844577420551784\n",
      "Accuracy without PCA: 0.9845\n",
      "Recall with pca: 0.36\n",
      "F1 with pca: 0.3594233894931471\n",
      "Accuracy with pca: 0.36\n"
     ]
    }
   ],
   "source": [
    "# Split the data into training and testing sets\n",
    "#use normalized x_s\n",
    "X_train, X_test, y_train, y_test = train_test_split(X_s, y, test_size=0.2, random_state=42)\n",
    "\n",
    "dt.fit(X_train, y_train)\n",
    "y_pred_orig = dt.predict(X_test)\n",
    "accuracy_orig = accuracy_score(y_test, y_pred_orig)\n",
    "f1_macro_orig = f1_score(y_test, y_pred_orig, average='macro')\n",
    "f1_micro_orig = f1_score(y_test, y_pred_orig, average='micro')\n",
    "print('F1 macro without PCA:', f1_macro_orig)\n",
    "print('F1 micro score without PCA:', f1_micro_orig)\n",
    "print('Accuracy without PCA:', accuracy_orig)\n",
    "\n",
    "\n",
    "# Apply PCA\n",
    "pca = PCA(n_components=0.7)  # keep enough components to explain n_comp*100% of the variance\n",
    "pca.fit(X_train)\n",
    "X_train_pca = pca.transform(X_train)\n",
    "X_test_pca = pca.transform(X_test)\n",
    "\n",
    "# Train a decision tree classifier on the transformed data\n",
    "dt.fit(X_train_pca, y_train)\n",
    "\n",
    "#evaluate\n",
    "y_pred = dt.predict(X_test_pca)\n",
    "accuracy = accuracy_score(y_test, y_pred)\n",
    "f1_macro = f1_score(y_test, y_pred, average='macro')\n",
    "f1_micro = f1_score(y_test, y_pred, average='micro')\n",
    "print('F1 macro with pca:', f1_macro)\n",
    "print('F1 micro with pca:', f1_micro)\n",
    "print('Accuracy with pca:', accuracy)"
   ]
  },
  {
   "attachments": {},
   "cell_type": "markdown",
   "metadata": {},
   "source": [
    "### Logistic regression"
   ]
  },
  {
   "attachments": {},
   "cell_type": "markdown",
   "metadata": {},
   "source": [
    "#### solvers (TODO: increase iteration nrs for sag, lbfgs)"
   ]
  },
  {
   "cell_type": "code",
   "execution_count": 1,
   "metadata": {},
   "outputs": [
    {
     "ename": "NameError",
     "evalue": "name 'LogisticRegression' is not defined",
     "output_type": "error",
     "traceback": [
      "\u001b[1;31m---------------------------------------------------------------------------\u001b[0m",
      "\u001b[1;31mNameError\u001b[0m                                 Traceback (most recent call last)",
      "Cell \u001b[1;32mIn[1], line 5\u001b[0m\n\u001b[0;32m      2\u001b[0m \u001b[39m# ['sag', 'saga', lbfgs]\u001b[39;00m\n\u001b[0;32m      3\u001b[0m \u001b[39m# Loop over the solvers and compute their performance using cross-validation\u001b[39;00m\n\u001b[0;32m      4\u001b[0m \u001b[39mfor\u001b[39;00m solver \u001b[39min\u001b[39;00m solvers:\n\u001b[1;32m----> 5\u001b[0m     lr \u001b[39m=\u001b[39m LogisticRegression(solver\u001b[39m=\u001b[39msolver, max_iter \u001b[39m=\u001b[39m \u001b[39m20000\u001b[39m) \u001b[39m# type: ignore\u001b[39;00m\n\u001b[0;32m      6\u001b[0m     scoring \u001b[39m=\u001b[39m [\u001b[39m'\u001b[39m\u001b[39mf1_macro\u001b[39m\u001b[39m'\u001b[39m, \u001b[39m'\u001b[39m\u001b[39mf1_micro\u001b[39m\u001b[39m'\u001b[39m \u001b[39m'\u001b[39m\u001b[39maccuracy\u001b[39m\u001b[39m'\u001b[39m]\n\u001b[0;32m      7\u001b[0m     results \u001b[39m=\u001b[39m cross_validate(lr, X_s, y, scoring\u001b[39m=\u001b[39mscoring, cv\u001b[39m=\u001b[39m\u001b[39m5\u001b[39m)\n",
      "\u001b[1;31mNameError\u001b[0m: name 'LogisticRegression' is not defined"
     ]
    }
   ],
   "source": [
    "solvers = ['newton-cg', 'liblinear']\n",
    "# ['sag', 'saga', lbfgs]\n",
    "# Loop over the solvers and compute their performance using cross-validation\n",
    "for solver in solvers:\n",
    "    lr = LogisticRegression(solver=solver, max_iter = 20000) # type: ignore\n",
    "    scoring = ['f1_macro', 'f1_micro' 'accuracy']\n",
    "    results = cross_validate(lr, X_s, y, scoring=scoring, cv=5)\n",
    "\n",
    "    print(f\"Solver: {solver}\")\n",
    "    print(f\"F1 macro: {results['test_f1_macro'].mean():.3f}\")\n",
    "    print(f\"F1 micro: {results['test_f1_micro'].mean():.3f}\")\n",
    "    print(f\"Accuracy: {results['test_accuracy'].mean():.3f}\")\n",
    "   \n",
    "    print(\"\")\n",
    "\n",
    "# only newton-cg, liblinear converged, newton-cg scored better overall"
   ]
  },
  {
   "cell_type": "markdown",
   "metadata": {},
   "source": [
    "#### penalty type"
   ]
  },
  {
   "attachments": {},
   "cell_type": "markdown",
   "metadata": {},
   "source": [
    "##### L1 - slight improvement"
   ]
  },
  {
   "cell_type": "code",
   "execution_count": 67,
   "metadata": {},
   "outputs": [
    {
     "name": "stdout",
     "output_type": "stream",
     "text": [
      "Metrics without regularization:\n",
      "Recall: 0.67\n",
      "F1 score: 0.648236121222819\n",
      "Accuracy: 0.67\n",
      "Metrics with L1 regularization:\n",
      "Recall: 0.678\n",
      "F1 score: 0.6570618997771726\n",
      "Accuracy: 0.678\n"
     ]
    }
   ],
   "source": [
    "X_train, X_test, y_train, y_test = train_test_split(X_s, y, test_size=0.2)\n",
    "\n",
    "# Train and test logistic regression without regularization\n",
    "lr_no_reg = LogisticRegression(solver='liblinear')\n",
    "lr_no_reg.fit(X_train, y_train)\n",
    "y_pred_no_reg = lr_no_reg.predict(X_test)\n",
    "\n",
    "# Evaluate performance without regularization\n",
    "print(\"Metrics without regularization:\")\n",
    "print(\"F1 macro:\", f1_score(y_test, y_pred_no_reg, average='macro'))\n",
    "print(\"F1 micro:\", f1_score(y_test, y_pred_no_reg, average='micro'))\n",
    "print(\"Accuracy:\", accuracy_score(y_test, y_pred_no_reg))\n",
    "\n",
    "# Train and test logistic regression with L1 regularization\n",
    "lr_l1 = LogisticRegression(penalty='l1', solver='liblinear')\n",
    "lr_l1.fit(X_train, y_train)\n",
    "y_pred_l1 = lr_l1.predict(X_test)\n",
    "\n",
    "\n",
    "\n",
    "# Evaluate performance with L1 regularization\n",
    "print(\"Metrics with L1 regularization:\")\n",
    "print(\"F1 macro:\", f1_score(y_test, y_pred_l1, average='macro'))\n",
    "print(\"F1 score:\", f1_score(y_test, y_pred_l1, average='micro'))\n",
    "print(\"Accuracy:\", accuracy_score(y_test, y_pred_l1))"
   ]
  },
  {
   "cell_type": "code",
   "execution_count": 68,
   "metadata": {},
   "outputs": [],
   "source": [
    "##maybe look at newton too"
   ]
  },
  {
   "attachments": {},
   "cell_type": "markdown",
   "metadata": {},
   "source": [
    "##### L2 - no change"
   ]
  },
  {
   "cell_type": "code",
   "execution_count": 69,
   "metadata": {},
   "outputs": [
    {
     "name": "stdout",
     "output_type": "stream",
     "text": [
      "Metrics without regularization:\n",
      "Recall: 0.6725\n",
      "F1 score: 0.6520561492292826\n",
      "Accuracy: 0.6725\n",
      "Metrics with L2 regularization:\n",
      "Recall: 0.6725\n",
      "F1 score: 0.6520561492292826\n",
      "Accuracy: 0.6725\n"
     ]
    }
   ],
   "source": [
    "X_train, X_test, y_train, y_test = train_test_split(X_s, y, test_size=0.2)\n",
    "# Train and test logistic regression without regularization\n",
    "lr_no_reg = LogisticRegression(solver='liblinear')\n",
    "lr_no_reg.fit(X_train, y_train)\n",
    "y_pred_no_reg = lr_no_reg.predict(X_test)\n",
    "\n",
    "# Evaluate performance without regularization\n",
    "print(\"Metrics without regularization:\")\n",
    "print(\"F1 macro:\", f1_score(y_test, y_pred_no_reg, average='macro'))\n",
    "print(\"F1 score:\", f1_score(y_test, y_pred_no_reg, average='micro'))\n",
    "print(\"Accuracy:\", accuracy_score(y_test, y_pred_no_reg))\n",
    "\n",
    "# Train and test logistic regression with L2 regularization\n",
    "lr_l2 = LogisticRegression(penalty='l2', solver='liblinear')\n",
    "lr_l2.fit(X_train, y_train)\n",
    "y_pred_l2 = lr_l2.predict(X_test)\n",
    "\n",
    "# Evaluate performance with L2 regularization\n",
    "print(\"Metrics with L2 regularization:\")\n",
    "print(\"F1 macro:\", f1_score(y_test, y_pred_l2, average='macro'))\n",
    "print(\"F1 micro score:\", f1_score(y_test, y_pred_l2, average='micro'))\n",
    "print(\"Accuracy:\", accuracy_score(y_test, y_pred_l2))"
   ]
  },
  {
   "attachments": {},
   "cell_type": "markdown",
   "metadata": {},
   "source": [
    "#### Class Weight- slightly worse"
   ]
  },
  {
   "cell_type": "code",
   "execution_count": 70,
   "metadata": {},
   "outputs": [
    {
     "name": "stdout",
     "output_type": "stream",
     "text": [
      "Best parameters for recall_macro: {'class_weight': 'balanced'}\n",
      "Best score for recall_macro: 0.5251\n",
      "Best parameters for f1_macro: {'class_weight': 'balanced'}\n",
      "Best score for f1_macro: 0.5192\n",
      "Best parameters for accuracy: {'class_weight': 'balanced'}\n",
      "Best score for accuracy: 0.6790\n"
     ]
    }
   ],
   "source": [
    "X_train, X_test, y_train, y_test = train_test_split(X_s, y, test_size=0.2)\n",
    "\n",
    "# Define the logistic regression model\n",
    "lr = LogisticRegression(solver='liblinear')\n",
    "\n",
    "# Define the parameters to search over\n",
    "param_grid = {'class_weight': ['balanced', None]}\n",
    "#scoring\n",
    "metric = ['f1_macro', 'f1_micro', 'accuracy' ]\n",
    "\n",
    "for metric in metric:\n",
    "    grid_search = GridSearchCV(lr, param_grid=param_grid, cv=5, scoring=metric, refit=False)\n",
    "    grid_search.fit(X_train, y_train)\n",
    "    \n",
    "    # Print the best parameters and their corresponding score for the current metric\n",
    "    print(\"Best parameters for {}: {}\".format(metric, grid_search.best_params_))\n",
    "    print(\"Best score for {}: {:.4f}\".format(metric, grid_search.best_score_))\n"
   ]
  },
  {
   "attachments": {},
   "cell_type": "markdown",
   "metadata": {},
   "source": [
    "### SVM"
   ]
  },
  {
   "attachments": {},
   "cell_type": "markdown",
   "metadata": {},
   "source": [
    "Hyperparameter tuning - improvement"
   ]
  },
  {
   "cell_type": "code",
   "execution_count": 72,
   "metadata": {},
   "outputs": [
    {
     "name": "stdout",
     "output_type": "stream",
     "text": [
      "Performance of the model before parameter tuning:\n",
      "Accuracy: 0.7173333333333334\n",
      "F1 macro: 0.47842502122496217\n",
      "F1 micro: 0.7173333333333334\n",
      "Best parameters found by grid search:\n",
      "{'C': 35, 'gamma': 0.001}\n",
      "Performance of the model after parameter tuning:\n",
      "Accuracy: 0.846\n",
      "F1 macro: 0.7138366403287039\n",
      "F1 micro: 0.8459999999999999\n"
     ]
    }
   ],
   "source": [
    "# Split the data into training and testing sets\n",
    "X_train, X_test, y_train, y_test = train_test_split(X_s, y, test_size=0.3, random_state=42)\n",
    "\n",
    "# Define the SVM model\n",
    "svm_model = svm.SVC(kernel='rbf', decision_function_shape='ovr')\n",
    "\n",
    "svm_model.fit(X_train, y_train)\n",
    "# Evaluate the performance of the model before parameter tuning\n",
    "y_pred = svm_model.predict(X_test)\n",
    "print(\"Performance of the model before parameter tuning:\")\n",
    "print(\"Accuracy:\", accuracy_score(y_test, y_pred))\n",
    "print(\"F1 macro:\", f1_score(y_test, y_pred, average='macro'))\n",
    "print(\"F1 micro:\", f1_score(y_test, y_pred, average='micro'))\n",
    "\n",
    "# Set the parameters to be searched by grid search\n",
    "param_grid = {'C': [30, 35, 40,], 'gamma': [0.0001, 0.001, 0.01]}\n",
    "\n",
    "# Perform grid search to find the best parameters\n",
    "grid_search = GridSearchCV(svm_model, param_grid, cv=5)\n",
    "grid_search.fit(X_train, y_train)\n",
    "\n",
    "# Print the best parameters found by grid search\n",
    "print(\"Best parameters found by grid search:\")\n",
    "print(grid_search.best_params_)\n",
    "\n",
    "# Train the SVM model with the best parameters\n",
    "svm_model_best = svm.SVC(kernel='rbf', decision_function_shape='ovr', C=grid_search.best_params_['C'], gamma=grid_search.best_params_['gamma'])\n",
    "svm_model_best.fit(X_train, y_train)\n",
    "\n",
    "# Evaluate the performance of the model after parameter tuning\n",
    "y_pred = svm_model_best.predict(X_test)\n",
    "print(\"Performance of the model after parameter tuning:\")\n",
    "print(\"Accuracy:\", accuracy_score(y_test, y_pred))\n",
    "print(\"F1 macro:\", f1_score(y_test, y_pred, average='macro'))\n",
    "print(\"F1 micro:\", f1_score(y_test, y_pred, average='micro'))\n",
    "\n"
   ]
  },
  {
   "cell_type": "code",
   "execution_count": 86,
   "metadata": {},
   "outputs": [
    {
     "name": "stdout",
     "output_type": "stream",
     "text": [
      "Performance of the model before parameter tuning:\n",
      "Accuracy: 0.7496666666666667\n",
      "F1 macro: 0.48868880508216145\n",
      "F1 micro: 0.7496666666666667\n",
      "Best parameters found by grid search:\n",
      "{'C': 100, 'gamma': 0.01}\n",
      "Performance of the model after parameter tuning:\n",
      "Accuracy: 0.867\n",
      "F1 macro: 0.7105952658312259\n",
      "F1 micro: 0.867\n"
     ]
    }
   ],
   "source": [
    "# Split the data into training and testing sets\n",
    "X_train, X_test, y_train, y_test = train_test_split(X_mm, y, test_size=0.3, random_state=42)\n",
    "\n",
    "# Define the SVM model\n",
    "svm_model = svm.SVC(kernel='rbf', decision_function_shape='ovr')\n",
    "\n",
    "svm_model.fit(X_train, y_train)\n",
    "# Evaluate the performance of the model before parameter tuning\n",
    "y_pred = svm_model.predict(X_test)\n",
    "print(\"Performance of the model before parameter tuning:\")\n",
    "print(\"Accuracy:\", accuracy_score(y_test, y_pred))\n",
    "print(\"F1 macro:\", f1_score(y_test, y_pred, average='macro'))\n",
    "print(\"F1 micro:\", f1_score(y_test, y_pred, average='micro'))\n",
    "\n",
    "# Set the parameters to be searched by grid search\n",
    "param_grid = {'C': [90, 100, 110], 'gamma': [0.01, 0.1, 1]}\n",
    "\n",
    "# Perform grid search to find the best parameters\n",
    "grid_search = GridSearchCV(svm_model, param_grid, cv=5)\n",
    "grid_search.fit(X_train, y_train)\n",
    "\n",
    "# Print the best parameters found by grid search\n",
    "print(\"Best parameters found by grid search:\")\n",
    "print(grid_search.best_params_)\n",
    "\n",
    "# Train the SVM model with the best parameters\n",
    "svm_model_best = svm.SVC(kernel='rbf', decision_function_shape='ovr', C=grid_search.best_params_['C'], gamma=grid_search.best_params_['gamma'])\n",
    "svm_model_best.fit(X_train, y_train)\n",
    "\n",
    "# Evaluate the performance of the model after parameter tuning\n",
    "y_pred = svm_model_best.predict(X_test)\n",
    "print(\"Performance of the model after parameter tuning:\")\n",
    "print(\"Accuracy:\", accuracy_score(y_test, y_pred))\n",
    "print(\"F1 macro:\", f1_score(y_test, y_pred, average='macro'))\n",
    "print(\"F1 micro:\", f1_score(y_test, y_pred, average='micro'))\n",
    "\n"
   ]
  }
 ],
 "metadata": {
  "kernelspec": {
   "display_name": "Python 3",
   "language": "python",
   "name": "python3"
  },
  "language_info": {
   "codemirror_mode": {
    "name": "ipython",
    "version": 3
   },
   "file_extension": ".py",
   "mimetype": "text/x-python",
   "name": "python",
   "nbconvert_exporter": "python",
   "pygments_lexer": "ipython3",
   "version": "3.11.3"
  },
  "orig_nbformat": 4
 },
 "nbformat": 4,
 "nbformat_minor": 2
}
