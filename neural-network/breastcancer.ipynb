{
 "cells": [
  {
   "attachments": {},
   "cell_type": "markdown",
   "metadata": {},
   "source": [
    "# Classes and functions to build NN's with different features for testing\n",
    "Structure: Inputlayer-(FCL-ActivationLayer)-(FCL-ActivationLayer)...(FCL-ActivationLayer)-OutputLayer"
   ]
  },
  {
   "cell_type": "code",
   "execution_count": 30,
   "metadata": {},
   "outputs": [],
   "source": [
    "import numpy as np\n",
    "import pandas as pd\n",
    "import matplotlib.pyplot as plt\n",
    "import tensorflow\n",
    "np.random.seed(1)\n",
    "tensorflow.random.set_seed(1)\n",
    "from sklearn.model_selection import cross_validate\n",
    "from sklearn.metrics import make_scorer, f1_score"
   ]
  },
  {
   "attachments": {},
   "cell_type": "markdown",
   "metadata": {},
   "source": [
    " ## Class for layer"
   ]
  },
  {
   "cell_type": "code",
   "execution_count": 31,
   "metadata": {},
   "outputs": [],
   "source": [
    "class Layer:\n",
    "    def __init__(self):\n",
    "        self.input = None\n",
    "        self.output = None\n",
    "\n",
    "    # computes the output Y of a layer for a given input X\n",
    "    def forward_propagation(self, input):\n",
    "        raise NotImplementedError\n",
    "\n",
    "    # computes dE/dX for a given dE/dY (and update parameters if any)\n",
    "    def backward_propagation(self, output_error, learning_rate):\n",
    "        raise NotImplementedError"
   ]
  },
  {
   "attachments": {},
   "cell_type": "markdown",
   "metadata": {},
   "source": [
    "## Class for fully connected layer"
   ]
  },
  {
   "attachments": {},
   "cell_type": "markdown",
   "metadata": {},
   "source": [
    "### Forward propagation method:\n",
    "\n",
    "#### Input: \n",
    "$\\underline{x}$ - ROW vector of size $1 $ x $i$  \n",
    "    \n",
    "#### output of one layer:  \n",
    "  \n",
    "$ \\underline{y} =  \\underline{x \\cdot W} + \\underline{b}  $ - vector of size $j$ x $1$\n",
    "\n",
    "#### Used:\n",
    "     \n",
    "Weights: $W$ - matrix of size $i$ x $j$  \n",
    "bias: $ \\underline{b} $ COLUMN vector of length $j$ x $1$. One $b_j$ for each $y_j$   "
   ]
  },
  {
   "attachments": {},
   "cell_type": "markdown",
   "metadata": {},
   "source": [
    "### Backward porpagation method:  \n",
    "  \n",
    "#### Input:  \n",
    "    \n",
    "$\\underline{output\\_error} = \\frac{d\\underline{E}}{d\\underline{y}} $ is a vector, of shape $1$ x $j$, with elements $\\frac{d\\underline{E}}{d\\underline{y_j}}$  \n",
    "  \n",
    "LearningRate $ \\alpha $  \n",
    "  \n",
    "$E$ is the loss function, calculated as (in class ...)  \n",
    "  \n",
    "\n",
    "#### Output:  \n",
    "  \n",
    "Weights_error = $ \\frac{d\\underline{E}}{d\\underline{W}} = \\underline{x}^T \\cdot \\frac{d\\underline{E}}{d\\underline{y}} $ is a matrix of size $i$ x $j$  \n",
    "\n",
    "#### Used:\n",
    "  \n",
    "$\\underline{bias\\_error} = output\\_error$ - vector length $1$ x $b$    \n",
    "  \n",
    "$ \\underline{input\\_error}: \\frac{d\\underline{E}}{d\\underline{x}} = \\frac{d\\underline{E}}{d\\underline{y}} \\cdot W^T $ - vector of size $1$ x $i$ \n",
    "  \n",
    "derivation on paper.\n"
   ]
  },
  {
   "cell_type": "code",
   "execution_count": 32,
   "metadata": {},
   "outputs": [],
   "source": [
    "class FCLayer():\n",
    "    # input_size (i) = number of input neurons\n",
    "    # output_size (j) = number of output neurons\n",
    "    def __init__(self, input_size, output_size):\n",
    "        #start by setting random weights and biases\n",
    "        self.weights = np.random.rand(input_size, output_size) - 0.5\n",
    "        self.bias = np.random.rand(1, output_size) - 0.5\n",
    "\n",
    "    # returns y_vector for a given x_vector\n",
    "    def forward_propagation(self, input_data):\n",
    "        #reshape x into a row vector\n",
    "        self.input = input_data.reshape(1,-1)\n",
    "        #calculate output of layer: \n",
    "        # y = xw+b\n",
    "        #print (\"weight size \") \n",
    "        #print(self.weights.size) \n",
    "        self.output = np.dot(self.input, self.weights) + self.bias\n",
    "        return self.output\n",
    "    \n",
    "    # computes dE/dW, dE/dB for a given output_error=dE/dY. \n",
    "    # Returns input_error=dE/dx.\n",
    "   \n",
    "    \n",
    "    def backward_propagation(self, output_error, learning_rate):\n",
    "        # dE/dx - this is the output of this function\n",
    "        input_error = np.dot(output_error, self.weights.T)\n",
    "        \n",
    "     \n",
    "        # (dE/dW = x^T * dE/dy)\n",
    "        weights_error = np.dot(self.input.T, output_error)\n",
    "        # db/dx = dE/dy = output_error\n",
    "\n",
    "        # update weights\n",
    "        self.weights -= learning_rate * weights_error\n",
    "        #update biases\n",
    "        self.bias -= learning_rate * output_error\n",
    "        return input_error"
   ]
  },
  {
   "attachments": {},
   "cell_type": "markdown",
   "metadata": {},
   "source": [
    "## Class for activation layer"
   ]
  },
  {
   "attachments": {},
   "cell_type": "markdown",
   "metadata": {},
   "source": [
    "### input:   \n",
    "activation function for the forward propagation  \n",
    "the derivative of the activation function for the backward propagation  \n",
    "\n",
    "### forward_propagation:  \n",
    "   \n",
    "input: $\\underline{y}$ of size $j$ x $1$  \n",
    "output: $ \\underline{y_{act}} $  of size $j$ x $1$\n",
    "  \n",
    "### backward_propagation: \n",
    "   \n",
    "input: $ \\frac{d\\underline{E}}{d\\underline{y}} $ of size $1$ x $j$  \n",
    "output: $ \\frac{d\\underline{E}}{d\\underline{y_{act}}} * f'(\\underline{y_{act}}) $ of size $1$ x $j$  \n",
    "this is element-wise multiplication, so $\\frac{d\\underline{E}}{d{y_{act, k}}}$ * $f'(y_{act, k})$ etc.  \n",
    "the derivative of the activation function is with respect to its input, in this case $y_{act}$ (see calculation below)"
   ]
  },
  {
   "cell_type": "code",
   "execution_count": 33,
   "metadata": {},
   "outputs": [],
   "source": [
    "class ActivationLayer(Layer):\n",
    "    def __init__(self, activation, activation_prime):\n",
    "        self.activation = activation\n",
    "        self.activation_prime = activation_prime\n",
    "\n",
    "    # returns the activated input\n",
    "    def forward_propagation(self, input_data):\n",
    "        self.input = input_data\n",
    "        self.output = self.activation(self.input)\n",
    "        # y activated\n",
    "        return self.output\n",
    "\n",
    "    # Returns input_error for a given output_error\n",
    "    # learning_rate is not used because the learnable parameters are in the FC layers\n",
    "    def backward_propagation(self, output_error, learning_rate):\n",
    "        #element-wise multiplication\n",
    "        return self.activation_prime(self.input) * output_error"
   ]
  },
  {
   "attachments": {},
   "cell_type": "markdown",
   "metadata": {},
   "source": [
    "## Activation functions and their derivatives"
   ]
  },
  {
   "attachments": {},
   "cell_type": "markdown",
   "metadata": {},
   "source": [
    "$\\tanh(x) = \\frac{e^x - e^{-x}}{e^x + e^{-x}}$  \n",
    "  \n",
    "$\\tanh'(x) = \\frac{{(e^x+e^{-x})(e^x+e^{-x})-(e^x-e^{-x})(e^x-e^{-x})}}{{(e^x+e^{-x})^2}} = \\frac{{(e^x+e^{-x})^2-(e^x-e^{-x})^2}}{{(e^x+e^{-x})^2}}= 1-\\frac{{(e^x-e^{-x})^2}}{{(e^x+e^{-x})^2}} = 1 - \\tanh^2(x)$  \n",
    "\n",
    "$relu'(0) = 1$ since $\\lim_{{x \\to 0^-}} = 1 $ and $ \\lim_{{x \\to 0^+}} = 0$ , we have to pick, by convention we pick 1  \n",
    "  \n",
    "$sigmoid(x) = \\frac{1}{1 + e^{-x}}$  \n",
    "  \n",
    "$sigmoid'(x) = \\frac{e^{-x}}{(e^{-x}+1)^2}$"
   ]
  },
  {
   "cell_type": "code",
   "execution_count": 34,
   "metadata": {},
   "outputs": [],
   "source": [
    "def tanh(x):\n",
    "    return np.tanh(x)\n",
    "\n",
    "def tanh_prime(x):\n",
    "    return 1-np.tanh(x)**2\n",
    "\n",
    "def relu(x):\n",
    "    return np.maximum(0, x)\n",
    "    \n",
    "def relu_prime(x):\n",
    "    return np.where(x > 0, 1, 0)\n",
    "\n",
    "\n",
    "def sigmoid(x):\n",
    "    return 1 / (1 + np.exp(-x))\n",
    "\n",
    "def sigmoid_prime(x):\n",
    "    sigmoid_x = sigmoid(x)\n",
    "    return sigmoid_x * (1 - sigmoid_x)\n",
    "\n",
    "activation_functions = [tanh, tanh_prime, relu, relu_prime]"
   ]
  },
  {
   "attachments": {},
   "cell_type": "markdown",
   "metadata": {},
   "source": [
    "## Loss function and its derivative  "
   ]
  },
  {
   "attachments": {},
   "cell_type": "markdown",
   "metadata": {},
   "source": [
    "### Cross-entropy\n",
    "$loss(y_{true}, y_{pred}) = -\\frac{1}{N} \\sum_{i=1}^{N} \\left( y_{true}^{(i)} \\log(y_{pred}^{(i)}) + (1 - y_{true}^{(i)}) \\log(1 - y_{pred}^{(i)}) \\right) $\n",
    "\n",
    "$\\frac{d loss(y_{true}, y_{pred})}{dy_{pred}}= \\frac{y_{pred} - y_{true}}{y_{pred} \\cdot (1 - y_{pred}) \\cdot j }$  \n",
    "  \n",
    "$j$ is the size of vector  $y$"
   ]
  },
  {
   "cell_type": "code",
   "execution_count": 35,
   "metadata": {},
   "outputs": [],
   "source": [
    "def cross_entropy(y_true, y_pred):\n",
    "    epsilon = 1e-15  # small constant to avoid division by zero\n",
    "    y_pred = np.clip(y_pred, epsilon, 1 - epsilon)  # clip predictions to avoid numerical instability\n",
    "    return -np.mean(y_true * np.log(y_pred) + (1 - y_true) * np.log(1 - y_pred))\n",
    "\n",
    "def cross_entropy_prime(y_true, y_pred):\n",
    "    epsilon = 1e-15  # small constant to avoid division by zero\n",
    "    y_pred = np.clip(y_pred, epsilon, 1 - epsilon)  # clip predictions to avoid numerical instability\n",
    "    return (y_pred - y_true) / (y_pred * (1 - y_pred) * y_true.size)"
   ]
  },
  {
   "attachments": {},
   "cell_type": "markdown",
   "metadata": {},
   "source": [
    "## NN class"
   ]
  },
  {
   "cell_type": "code",
   "execution_count": 36,
   "metadata": {},
   "outputs": [],
   "source": [
    "class Network:\n",
    "    def __init__(self):\n",
    "        self.layers = []\n",
    "        self.loss = None\n",
    "        self.loss_prime = None\n",
    "        self.configuration= None\n",
    "        self.act = None\n",
    "        self.act_prime = None\n",
    "        self.epoch_error = None\n",
    "      \n",
    "    \n",
    "  \n",
    "    def set_activation_index(self, a):\n",
    "        self.act = a\n",
    "    \n",
    "    def set_activation_prime_index(self, b):\n",
    "        self.act_prime = b\n",
    "\n",
    "    #add the configuration\n",
    "    def set_config(self, c):\n",
    "        self.configuration = c\n",
    "        \n",
    "    # add layer to network\n",
    "    def add(self, layer):\n",
    "        self.layers.append(layer)\n",
    "\n",
    "    # set up the loss functions\n",
    "    def use(self, loss, loss_prime):\n",
    "        self.loss = loss\n",
    "        self.loss_prime = loss_prime\n",
    "\n",
    "    # predict output for given input\n",
    "    def predict(self, input_data):\n",
    "        # sample dimension first\n",
    "        samples = len(input_data)\n",
    "\n",
    "        result = []\n",
    "\n",
    "        # run network over all samples\n",
    "        for i in range(samples):\n",
    "            # forward propagation\n",
    "            output = input_data[i]\n",
    "            for layer in self.layers:\n",
    "                output = layer.forward_propagation(output)\n",
    "            result.append(output)\n",
    "        return result\n",
    "\n",
    "    # train the network \n",
    "    def fit(self, x_train, y_train, epochs, learning_rate):\n",
    "        samples = len(x_train)\n",
    "\n",
    "        # training loop\n",
    "        for i in range(epochs):\n",
    "            err = 0\n",
    "            for j in range(samples):\n",
    "                # forward propagation\n",
    "                output = x_train[j]\n",
    "                for layer in self.layers:\n",
    "                    output = layer.forward_propagation(output)\n",
    "\n",
    "                # compute loss\n",
    "                err += self.loss(y_train[j], output)\n",
    "\n",
    "                # backward propagation\n",
    "                error = self.loss_prime(y_train[j], output)\n",
    "                for layer in reversed(self.layers):\n",
    "                    error = layer.backward_propagation(error, learning_rate)\n",
    "\n",
    "            # calculate average error on all samples\n",
    "            err /= samples\n",
    "            #print('epoch %d/%d   error=%f' % (i+1, epochs, err))\n",
    "            self.epoch_error = err\n",
    "\n",
    "    "
   ]
  },
  {
   "attachments": {},
   "cell_type": "markdown",
   "metadata": {},
   "source": [
    "# Comparing different configurations"
   ]
  },
  {
   "attachments": {},
   "cell_type": "markdown",
   "metadata": {},
   "source": [
    "## Data input and management"
   ]
  },
  {
   "cell_type": "code",
   "execution_count": 37,
   "metadata": {},
   "outputs": [],
   "source": [
    "lrn = pd.read_csv('breast-cancer-diagnostic.shuf.lrn.csv')"
   ]
  },
  {
   "cell_type": "code",
   "execution_count": 38,
   "metadata": {},
   "outputs": [],
   "source": [
    "y = lrn['class']\n",
    "X = lrn.drop(['class', 'ID'], axis=1)\n",
    "x_total = X.to_numpy()\n",
    "y_total = y.to_numpy()"
   ]
  },
  {
   "cell_type": "code",
   "execution_count": 39,
   "metadata": {},
   "outputs": [],
   "source": [
    "from sklearn.discriminant_analysis import StandardScaler\n",
    "from sklearn.model_selection import train_test_split\n",
    "\n",
    "x_train, x_test, y_train, y_test = train_test_split(X, y_total, test_size=0.1, random_state=1)\n",
    "\n",
    "x_train, x_val, y_train, y_val = train_test_split(x_train, y_train, test_size=0.1, random_state=1)\n",
    "\n",
    "#scale\n",
    "scaler = StandardScaler()\n",
    "scaler.fit(x_train)\n",
    "x_train = scaler.transform(x_train)\n",
    "x_val = scaler.transform(x_val)\n",
    "x_test = scaler.transform(x_test)"
   ]
  },
  {
   "attachments": {},
   "cell_type": "markdown",
   "metadata": {},
   "source": [
    "## Define metric F1"
   ]
  },
  {
   "cell_type": "code",
   "execution_count": 40,
   "metadata": {},
   "outputs": [],
   "source": [
    "def calculate_f1(actual_labels, predicted_values):\n",
    "    assert len(actual_labels) == len(predicted_values), \"Number of labels and predictions should match.\"\n",
    "    \n",
    "    true_positives = 0\n",
    "    false_positives = 0\n",
    "    false_negatives = 0\n",
    "    \n",
    "    for i in range(len(actual_labels)):\n",
    "        if actual_labels[i] == 1 and predicted_values[i] == 1:\n",
    "            true_positives += 1\n",
    "        elif actual_labels[i] == 0 and predicted_values[i] == 1:\n",
    "            false_positives += 1\n",
    "        elif actual_labels[i] == 1 and predicted_values[i] == 0:\n",
    "            false_negatives += 1\n",
    "    if true_positives + false_positives > 0:\n",
    "        precision = true_positives / (true_positives + false_positives)\n",
    "        recall = true_positives / (true_positives + false_negatives)\n",
    "    \n",
    "        f1 = 2 * (precision * recall) / (precision + recall)\n",
    "        return f1\n",
    "    else:\n",
    "        return 0"
   ]
  },
  {
   "attachments": {},
   "cell_type": "markdown",
   "metadata": {},
   "source": [
    "## Find the best structure for our network"
   ]
  },
  {
   "attachments": {},
   "cell_type": "markdown",
   "metadata": {},
   "source": [
    "10, 50, 100 or 200 nodes per layer  \n",
    "2, 3 or 4 hidden layers  \n",
    "0.3, 0.5 or 0.9 treshold  \n",
    "2 activation functions for hidden layers: tanh and relu  \n",
    "\n",
    "generate all combinations  \n",
    "calculate f1 for each  \n",
    "find best hyperparameters."
   ]
  },
  {
   "cell_type": "code",
   "execution_count": 41,
   "metadata": {},
   "outputs": [],
   "source": [
    "def generate_permutations(nums):\n",
    "    if len(nums) == 0:\n",
    "        return [[]]  # Base case: an empty list has one permutation, an empty list itself\n",
    "    \n",
    "    permutations = []\n",
    "    \n",
    "    for i in range(len(nums)):\n",
    "        current_num = nums[i]\n",
    "        remaining_nums = nums[:i] + nums[i+1:]\n",
    "        \n",
    "        for permutation in generate_permutations(remaining_nums):\n",
    "            permutations.append([current_num] + permutation)\n",
    "    \n",
    "    return permutations\n"
   ]
  },
  {
   "cell_type": "code",
   "execution_count": 42,
   "metadata": {},
   "outputs": [],
   "source": [
    "def create_configurations(nodes_per_layer_options, layers):\n",
    "    configs = []\n",
    "    node_options = generate_permutations(nodes_per_layer_options)\n",
    "    for i in layers:\n",
    "        # Extract the first i columns and store unique values in a set\n",
    "        unique_values = set(tuple(row[:i]) for row in node_options)\n",
    "        # Convert the set back to a list of lists\n",
    "        extracted_columns = [list(values) for values in unique_values]\n",
    "        configs.append(extracted_columns)\n",
    "        #Print the extracted columns\n",
    "        #print(i, \"layers\")\n",
    "        #for column in extracted_columns:\n",
    "            #print( column)\n",
    "    return configs"
   ]
  },
  {
   "cell_type": "code",
   "execution_count": 43,
   "metadata": {},
   "outputs": [],
   "source": [
    "def create_network(nodes, activation_index, activation_prime_index):\n",
    "    net = Network()\n",
    "    net.set_activation_index(activation_index)\n",
    "    net.set_activation_prime_index(activation_prime_index)\n",
    "    net.add(FCLayer(x_total.shape[1], nodes[0]))  # input layer\n",
    "    #print(\"input layer \", nodes[0] )\n",
    "\n",
    "    for i in range(len(nodes)-1):\n",
    "        net.add(FCLayer(nodes[i], nodes[i+1])) \n",
    "        #print(\"hidden layer in\", nodes[i], \"out\", nodes[i+1] )\n",
    "        net.add(ActivationLayer(activation_functions[activation_index], activation_functions[activation_prime_index]))\n",
    " \n",
    "    net.add(FCLayer(nodes[-1], 1))  # output layer\n",
    "    net.add(ActivationLayer(sigmoid, sigmoid_prime))\n",
    "    #print(\"output layer \", nodes[-1] )\n",
    "  \n",
    "    return net"
   ]
  },
  {
   "cell_type": "code",
   "execution_count": 44,
   "metadata": {},
   "outputs": [],
   "source": [
    "nodes_options = [10, 50, 100, 200]\n",
    "layer_options = [2, 3, 4]\n",
    "treshold = [0.5, 0.8, 0.9]\n",
    "configurations= create_configurations(nodes_options, layer_options)\n",
    "nns_tanh = []\n",
    "nns_relu = []\n",
    "data = []\n",
    "top = []"
   ]
  },
  {
   "cell_type": "code",
   "execution_count": 45,
   "metadata": {},
   "outputs": [],
   "source": [
    "def generate_tanh(c_i):\n",
    "    #activation_functions = [tanh, tanh_prime, relu, relu_prime]\n",
    "    for x in c_i:\n",
    "        c = create_network(x,0,1)\n",
    "        c.set_config(x)\n",
    "        nns_tanh.append(c)  \n",
    "    "
   ]
  },
  {
   "cell_type": "code",
   "execution_count": 46,
   "metadata": {},
   "outputs": [],
   "source": [
    "def generate_relu (c_i):\n",
    "      for x in c_i:\n",
    "        c = create_network(x, 2, 3)\n",
    "        c.set_config(x)\n",
    "        nns_relu.append(c)\n",
    "  "
   ]
  },
  {
   "cell_type": "code",
   "execution_count": 27,
   "metadata": {},
   "outputs": [],
   "source": [
    "def hyperparameter_search(nns):\n",
    "    epochs = [10, 25, 50]\n",
    "    for epoch in epochs:\n",
    "            for nets in nns:\n",
    "                nets.use(cross_entropy, cross_entropy_prime)\n",
    "                nets.fit(x_train, y_train, epochs=epoch, learning_rate=0.1)\n",
    "                pred = nets.predict(x_val)\n",
    "\n",
    "                # Convert the list of arrays to a numpy array\n",
    "                predicted = np.array([arr[0][0] for arr in pred])\n",
    "\n",
    "                for tresh in treshold:\n",
    "                    y_pred = np.where(predicted >= tresh, 1, 0)\n",
    "                    f1_s = f1_score(y_val*1, y_pred)\n",
    "                    top.append([nets.configuration, nets.act, nets.act_prime, tresh, epoch, f1_s])\n"
   ]
  },
  {
   "cell_type": "code",
   "execution_count": 47,
   "metadata": {},
   "outputs": [
    {
     "name": "stderr",
     "output_type": "stream",
     "text": [
      "C:\\Users\\daria\\AppData\\Local\\Temp\\ipykernel_14408\\991229207.py:15: RuntimeWarning: overflow encountered in exp\n",
      "  return 1 / (1 + np.exp(-x))\n",
      "C:\\Users\\daria\\AppData\\Local\\Temp\\ipykernel_14408\\991229207.py:15: RuntimeWarning: overflow encountered in exp\n",
      "  return 1 / (1 + np.exp(-x))\n",
      "C:\\Users\\daria\\AppData\\Local\\Temp\\ipykernel_14408\\991229207.py:15: RuntimeWarning: overflow encountered in exp\n",
      "  return 1 / (1 + np.exp(-x))\n",
      "C:\\Users\\daria\\AppData\\Local\\Temp\\ipykernel_14408\\991229207.py:15: RuntimeWarning: overflow encountered in exp\n",
      "  return 1 / (1 + np.exp(-x))\n",
      "C:\\Users\\daria\\AppData\\Local\\Temp\\ipykernel_14408\\991229207.py:15: RuntimeWarning: overflow encountered in exp\n",
      "  return 1 / (1 + np.exp(-x))\n",
      "C:\\Users\\daria\\AppData\\Local\\Temp\\ipykernel_14408\\991229207.py:15: RuntimeWarning: overflow encountered in exp\n",
      "  return 1 / (1 + np.exp(-x))\n",
      "C:\\Users\\daria\\AppData\\Local\\Temp\\ipykernel_14408\\991229207.py:15: RuntimeWarning: overflow encountered in exp\n",
      "  return 1 / (1 + np.exp(-x))\n",
      "C:\\Users\\daria\\AppData\\Local\\Temp\\ipykernel_14408\\991229207.py:15: RuntimeWarning: overflow encountered in exp\n",
      "  return 1 / (1 + np.exp(-x))\n",
      "C:\\Users\\daria\\AppData\\Local\\Temp\\ipykernel_14408\\991229207.py:15: RuntimeWarning: overflow encountered in exp\n",
      "  return 1 / (1 + np.exp(-x))\n",
      "C:\\Users\\daria\\AppData\\Local\\Temp\\ipykernel_14408\\991229207.py:15: RuntimeWarning: overflow encountered in exp\n",
      "  return 1 / (1 + np.exp(-x))\n",
      "C:\\Users\\daria\\AppData\\Local\\Temp\\ipykernel_14408\\991229207.py:15: RuntimeWarning: overflow encountered in exp\n",
      "  return 1 / (1 + np.exp(-x))\n",
      "C:\\Users\\daria\\AppData\\Local\\Temp\\ipykernel_14408\\991229207.py:15: RuntimeWarning: overflow encountered in exp\n",
      "  return 1 / (1 + np.exp(-x))\n",
      "C:\\Users\\daria\\AppData\\Local\\Temp\\ipykernel_14408\\991229207.py:15: RuntimeWarning: overflow encountered in exp\n",
      "  return 1 / (1 + np.exp(-x))\n",
      "C:\\Users\\daria\\AppData\\Local\\Temp\\ipykernel_14408\\991229207.py:15: RuntimeWarning: overflow encountered in exp\n",
      "  return 1 / (1 + np.exp(-x))\n",
      "C:\\Users\\daria\\AppData\\Local\\Temp\\ipykernel_14408\\991229207.py:15: RuntimeWarning: overflow encountered in exp\n",
      "  return 1 / (1 + np.exp(-x))\n",
      "C:\\Users\\daria\\AppData\\Local\\Temp\\ipykernel_14408\\991229207.py:15: RuntimeWarning: overflow encountered in exp\n",
      "  return 1 / (1 + np.exp(-x))\n",
      "C:\\Users\\daria\\AppData\\Local\\Temp\\ipykernel_14408\\991229207.py:15: RuntimeWarning: overflow encountered in exp\n",
      "  return 1 / (1 + np.exp(-x))\n",
      "C:\\Users\\daria\\AppData\\Local\\Temp\\ipykernel_14408\\991229207.py:15: RuntimeWarning: overflow encountered in exp\n",
      "  return 1 / (1 + np.exp(-x))\n",
      "C:\\Users\\daria\\AppData\\Local\\Temp\\ipykernel_14408\\991229207.py:15: RuntimeWarning: overflow encountered in exp\n",
      "  return 1 / (1 + np.exp(-x))\n",
      "C:\\Users\\daria\\AppData\\Local\\Temp\\ipykernel_14408\\991229207.py:15: RuntimeWarning: overflow encountered in exp\n",
      "  return 1 / (1 + np.exp(-x))\n",
      "C:\\Users\\daria\\AppData\\Local\\Temp\\ipykernel_14408\\991229207.py:15: RuntimeWarning: overflow encountered in exp\n",
      "  return 1 / (1 + np.exp(-x))\n",
      "C:\\Users\\daria\\AppData\\Local\\Temp\\ipykernel_14408\\991229207.py:15: RuntimeWarning: overflow encountered in exp\n",
      "  return 1 / (1 + np.exp(-x))\n",
      "C:\\Users\\daria\\AppData\\Local\\Temp\\ipykernel_14408\\991229207.py:15: RuntimeWarning: overflow encountered in exp\n",
      "  return 1 / (1 + np.exp(-x))\n",
      "C:\\Users\\daria\\AppData\\Local\\Temp\\ipykernel_14408\\991229207.py:15: RuntimeWarning: overflow encountered in exp\n",
      "  return 1 / (1 + np.exp(-x))\n",
      "C:\\Users\\daria\\AppData\\Local\\Temp\\ipykernel_14408\\991229207.py:15: RuntimeWarning: overflow encountered in exp\n",
      "  return 1 / (1 + np.exp(-x))\n",
      "C:\\Users\\daria\\AppData\\Local\\Temp\\ipykernel_14408\\991229207.py:15: RuntimeWarning: overflow encountered in exp\n",
      "  return 1 / (1 + np.exp(-x))\n",
      "C:\\Users\\daria\\AppData\\Local\\Temp\\ipykernel_14408\\991229207.py:15: RuntimeWarning: overflow encountered in exp\n",
      "  return 1 / (1 + np.exp(-x))\n",
      "C:\\Users\\daria\\AppData\\Local\\Temp\\ipykernel_14408\\991229207.py:15: RuntimeWarning: overflow encountered in exp\n",
      "  return 1 / (1 + np.exp(-x))\n",
      "C:\\Users\\daria\\AppData\\Local\\Temp\\ipykernel_14408\\991229207.py:15: RuntimeWarning: overflow encountered in exp\n",
      "  return 1 / (1 + np.exp(-x))\n",
      "C:\\Users\\daria\\AppData\\Local\\Temp\\ipykernel_14408\\991229207.py:15: RuntimeWarning: overflow encountered in exp\n",
      "  return 1 / (1 + np.exp(-x))\n",
      "C:\\Users\\daria\\AppData\\Local\\Temp\\ipykernel_14408\\991229207.py:15: RuntimeWarning: overflow encountered in exp\n",
      "  return 1 / (1 + np.exp(-x))\n",
      "C:\\Users\\daria\\AppData\\Local\\Temp\\ipykernel_14408\\991229207.py:15: RuntimeWarning: overflow encountered in exp\n",
      "  return 1 / (1 + np.exp(-x))\n",
      "C:\\Users\\daria\\AppData\\Local\\Temp\\ipykernel_14408\\991229207.py:15: RuntimeWarning: overflow encountered in exp\n",
      "  return 1 / (1 + np.exp(-x))\n",
      "C:\\Users\\daria\\AppData\\Local\\Temp\\ipykernel_14408\\991229207.py:15: RuntimeWarning: overflow encountered in exp\n",
      "  return 1 / (1 + np.exp(-x))\n",
      "C:\\Users\\daria\\AppData\\Local\\Temp\\ipykernel_14408\\991229207.py:15: RuntimeWarning: overflow encountered in exp\n",
      "  return 1 / (1 + np.exp(-x))\n",
      "C:\\Users\\daria\\AppData\\Local\\Temp\\ipykernel_14408\\991229207.py:15: RuntimeWarning: overflow encountered in exp\n",
      "  return 1 / (1 + np.exp(-x))\n",
      "C:\\Users\\daria\\AppData\\Local\\Temp\\ipykernel_14408\\991229207.py:15: RuntimeWarning: overflow encountered in exp\n",
      "  return 1 / (1 + np.exp(-x))\n",
      "C:\\Users\\daria\\AppData\\Local\\Temp\\ipykernel_14408\\991229207.py:15: RuntimeWarning: overflow encountered in exp\n",
      "  return 1 / (1 + np.exp(-x))\n",
      "C:\\Users\\daria\\AppData\\Local\\Temp\\ipykernel_14408\\991229207.py:15: RuntimeWarning: overflow encountered in exp\n",
      "  return 1 / (1 + np.exp(-x))\n",
      "C:\\Users\\daria\\AppData\\Local\\Temp\\ipykernel_14408\\991229207.py:15: RuntimeWarning: overflow encountered in exp\n",
      "  return 1 / (1 + np.exp(-x))\n",
      "C:\\Users\\daria\\AppData\\Local\\Temp\\ipykernel_14408\\991229207.py:15: RuntimeWarning: overflow encountered in exp\n",
      "  return 1 / (1 + np.exp(-x))\n",
      "C:\\Users\\daria\\AppData\\Local\\Temp\\ipykernel_14408\\991229207.py:15: RuntimeWarning: overflow encountered in exp\n",
      "  return 1 / (1 + np.exp(-x))\n",
      "C:\\Users\\daria\\AppData\\Local\\Temp\\ipykernel_14408\\991229207.py:15: RuntimeWarning: overflow encountered in exp\n",
      "  return 1 / (1 + np.exp(-x))\n",
      "C:\\Users\\daria\\AppData\\Local\\Temp\\ipykernel_14408\\991229207.py:15: RuntimeWarning: overflow encountered in exp\n",
      "  return 1 / (1 + np.exp(-x))\n",
      "C:\\Users\\daria\\AppData\\Local\\Temp\\ipykernel_14408\\991229207.py:15: RuntimeWarning: overflow encountered in exp\n",
      "  return 1 / (1 + np.exp(-x))\n",
      "C:\\Users\\daria\\AppData\\Local\\Temp\\ipykernel_14408\\991229207.py:15: RuntimeWarning: overflow encountered in exp\n",
      "  return 1 / (1 + np.exp(-x))\n",
      "C:\\Users\\daria\\AppData\\Local\\Temp\\ipykernel_14408\\991229207.py:15: RuntimeWarning: overflow encountered in exp\n",
      "  return 1 / (1 + np.exp(-x))\n",
      "C:\\Users\\daria\\AppData\\Local\\Temp\\ipykernel_14408\\991229207.py:15: RuntimeWarning: overflow encountered in exp\n",
      "  return 1 / (1 + np.exp(-x))\n",
      "C:\\Users\\daria\\AppData\\Local\\Temp\\ipykernel_14408\\991229207.py:15: RuntimeWarning: overflow encountered in exp\n",
      "  return 1 / (1 + np.exp(-x))\n",
      "C:\\Users\\daria\\AppData\\Local\\Temp\\ipykernel_14408\\991229207.py:15: RuntimeWarning: overflow encountered in exp\n",
      "  return 1 / (1 + np.exp(-x))\n",
      "C:\\Users\\daria\\AppData\\Local\\Temp\\ipykernel_14408\\991229207.py:15: RuntimeWarning: overflow encountered in exp\n",
      "  return 1 / (1 + np.exp(-x))\n",
      "C:\\Users\\daria\\AppData\\Local\\Temp\\ipykernel_14408\\991229207.py:15: RuntimeWarning: overflow encountered in exp\n",
      "  return 1 / (1 + np.exp(-x))\n",
      "C:\\Users\\daria\\AppData\\Local\\Temp\\ipykernel_14408\\991229207.py:15: RuntimeWarning: overflow encountered in exp\n",
      "  return 1 / (1 + np.exp(-x))\n",
      "C:\\Users\\daria\\AppData\\Local\\Temp\\ipykernel_14408\\991229207.py:15: RuntimeWarning: overflow encountered in exp\n",
      "  return 1 / (1 + np.exp(-x))\n",
      "C:\\Users\\daria\\AppData\\Local\\Temp\\ipykernel_14408\\991229207.py:15: RuntimeWarning: overflow encountered in exp\n",
      "  return 1 / (1 + np.exp(-x))\n",
      "C:\\Users\\daria\\AppData\\Local\\Temp\\ipykernel_14408\\991229207.py:15: RuntimeWarning: overflow encountered in exp\n",
      "  return 1 / (1 + np.exp(-x))\n",
      "C:\\Users\\daria\\AppData\\Local\\Temp\\ipykernel_14408\\991229207.py:15: RuntimeWarning: overflow encountered in exp\n",
      "  return 1 / (1 + np.exp(-x))\n",
      "C:\\Users\\daria\\AppData\\Local\\Temp\\ipykernel_14408\\991229207.py:15: RuntimeWarning: overflow encountered in exp\n",
      "  return 1 / (1 + np.exp(-x))\n",
      "C:\\Users\\daria\\AppData\\Local\\Temp\\ipykernel_14408\\991229207.py:15: RuntimeWarning: overflow encountered in exp\n",
      "  return 1 / (1 + np.exp(-x))\n",
      "C:\\Users\\daria\\AppData\\Local\\Temp\\ipykernel_14408\\991229207.py:15: RuntimeWarning: overflow encountered in exp\n",
      "  return 1 / (1 + np.exp(-x))\n",
      "C:\\Users\\daria\\AppData\\Local\\Temp\\ipykernel_14408\\991229207.py:15: RuntimeWarning: overflow encountered in exp\n",
      "  return 1 / (1 + np.exp(-x))\n",
      "C:\\Users\\daria\\AppData\\Local\\Temp\\ipykernel_14408\\991229207.py:15: RuntimeWarning: overflow encountered in exp\n",
      "  return 1 / (1 + np.exp(-x))\n",
      "C:\\Users\\daria\\AppData\\Local\\Temp\\ipykernel_14408\\991229207.py:15: RuntimeWarning: overflow encountered in exp\n",
      "  return 1 / (1 + np.exp(-x))\n",
      "C:\\Users\\daria\\AppData\\Local\\Temp\\ipykernel_14408\\991229207.py:15: RuntimeWarning: overflow encountered in exp\n",
      "  return 1 / (1 + np.exp(-x))\n",
      "C:\\Users\\daria\\AppData\\Local\\Temp\\ipykernel_14408\\991229207.py:15: RuntimeWarning: overflow encountered in exp\n",
      "  return 1 / (1 + np.exp(-x))\n",
      "C:\\Users\\daria\\AppData\\Local\\Temp\\ipykernel_14408\\991229207.py:15: RuntimeWarning: overflow encountered in exp\n",
      "  return 1 / (1 + np.exp(-x))\n",
      "C:\\Users\\daria\\AppData\\Local\\Temp\\ipykernel_14408\\991229207.py:15: RuntimeWarning: overflow encountered in exp\n",
      "  return 1 / (1 + np.exp(-x))\n",
      "C:\\Users\\daria\\AppData\\Local\\Temp\\ipykernel_14408\\991229207.py:15: RuntimeWarning: overflow encountered in exp\n",
      "  return 1 / (1 + np.exp(-x))\n",
      "C:\\Users\\daria\\AppData\\Local\\Temp\\ipykernel_14408\\991229207.py:15: RuntimeWarning: overflow encountered in exp\n",
      "  return 1 / (1 + np.exp(-x))\n",
      "C:\\Users\\daria\\AppData\\Local\\Temp\\ipykernel_14408\\991229207.py:15: RuntimeWarning: overflow encountered in exp\n",
      "  return 1 / (1 + np.exp(-x))\n",
      "C:\\Users\\daria\\AppData\\Local\\Temp\\ipykernel_14408\\991229207.py:15: RuntimeWarning: overflow encountered in exp\n",
      "  return 1 / (1 + np.exp(-x))\n",
      "C:\\Users\\daria\\AppData\\Local\\Temp\\ipykernel_14408\\991229207.py:15: RuntimeWarning: overflow encountered in exp\n",
      "  return 1 / (1 + np.exp(-x))\n",
      "C:\\Users\\daria\\AppData\\Local\\Temp\\ipykernel_14408\\991229207.py:15: RuntimeWarning: overflow encountered in exp\n",
      "  return 1 / (1 + np.exp(-x))\n",
      "C:\\Users\\daria\\AppData\\Local\\Temp\\ipykernel_14408\\991229207.py:15: RuntimeWarning: overflow encountered in exp\n",
      "  return 1 / (1 + np.exp(-x))\n",
      "C:\\Users\\daria\\AppData\\Local\\Temp\\ipykernel_14408\\991229207.py:15: RuntimeWarning: overflow encountered in exp\n",
      "  return 1 / (1 + np.exp(-x))\n",
      "C:\\Users\\daria\\AppData\\Local\\Temp\\ipykernel_14408\\991229207.py:15: RuntimeWarning: overflow encountered in exp\n",
      "  return 1 / (1 + np.exp(-x))\n",
      "C:\\Users\\daria\\AppData\\Local\\Temp\\ipykernel_14408\\991229207.py:15: RuntimeWarning: overflow encountered in exp\n",
      "  return 1 / (1 + np.exp(-x))\n",
      "C:\\Users\\daria\\AppData\\Local\\Temp\\ipykernel_14408\\991229207.py:15: RuntimeWarning: overflow encountered in exp\n",
      "  return 1 / (1 + np.exp(-x))\n",
      "C:\\Users\\daria\\AppData\\Local\\Temp\\ipykernel_14408\\991229207.py:15: RuntimeWarning: overflow encountered in exp\n",
      "  return 1 / (1 + np.exp(-x))\n"
     ]
    }
   ],
   "source": [
    "for i in range(len(layer_options)):\n",
    "   \n",
    "    generate_tanh(configurations[i])\n",
    "    generate_relu(configurations[i])\n",
    "\n",
    "    hyperparameter_search(nns_tanh)\n",
    "    hyperparameter_search(nns_relu)"
   ]
  },
  {
   "cell_type": "code",
   "execution_count": 51,
   "metadata": {},
   "outputs": [],
   "source": [
    "pd.DataFrame(top).to_csv('breast-cancer-top2.csv')"
   ]
  },
  {
   "cell_type": "code",
   "execution_count": 53,
   "metadata": {},
   "outputs": [
    {
     "data": {
      "text/plain": [
       "[[10, 50], 0, 1, 0.5, 10, 1.0]"
      ]
     },
     "execution_count": 53,
     "metadata": {},
     "output_type": "execute_result"
    }
   ],
   "source": [
    "sorted_top = sorted(top, key=lambda x: x[-1], reverse=True)\n",
    "#sorted_top\n",
    "tops = sorted_top[0]"
   ]
  },
  {
   "cell_type": "code",
   "execution_count": 54,
   "metadata": {},
   "outputs": [
    {
     "data": {
      "text/plain": [
       "0"
      ]
     },
     "execution_count": 54,
     "metadata": {},
     "output_type": "execute_result"
    }
   ],
   "source": [
    "tops[1]"
   ]
  },
  {
   "cell_type": "code",
   "execution_count": 55,
   "metadata": {},
   "outputs": [
    {
     "name": "stdout",
     "output_type": "stream",
     "text": [
      "1.0\n"
     ]
    }
   ],
   "source": [
    "#0 = config, 1= act, 2=act_prime, 3 = tresh, 4 = epochs\n",
    "mdl = create_network(tops[0], tops[1], tops[2])\n",
    "mdl.use(cross_entropy, cross_entropy_prime)\n",
    "mdl.fit(x_test, y_test, tops[4], 0.1)\n",
    "prd = mdl.predict(x_test)\n",
    "pr = np.array([arr[0][0] for arr in prd])\n",
    "bi = np.where(pr >= tops[3], 1, 0)\n",
    "f1_best = calculate_f1(y_test, bi)\n",
    "print(f1_best)"
   ]
  },
  {
   "cell_type": "code",
   "execution_count": 56,
   "metadata": {},
   "outputs": [
    {
     "data": {
      "text/plain": [
       "0.9600000000000001"
      ]
     },
     "execution_count": 56,
     "metadata": {},
     "output_type": "execute_result"
    }
   ],
   "source": [
    "model = create_network(tops[0], tops[1], tops[2])\n",
    "model.use(cross_entropy, cross_entropy_prime)\n",
    "model.fit(x_train, y_train, tops[4], 0.1)\n",
    "y_pred = model.predict(x_test)\n",
    "y_prd = np.array([arr[0][0] for arr in y_pred])\n",
    "y_pred = np.where(y_prd >= tops[3], 1, 0)\n",
    "f1_score(y_test*1, y_pred)"
   ]
  },
  {
   "attachments": {},
   "cell_type": "markdown",
   "metadata": {},
   "source": [
    "### 5 fold cross-validation"
   ]
  },
  {
   "cell_type": "code",
   "execution_count": 57,
   "metadata": {},
   "outputs": [],
   "source": [
    "from sklearn.model_selection import KFold\n",
    "def cross_validation(x, y, tops):\n",
    "    kfold = KFold(n_splits=5)\n",
    "    scores = []\n",
    "    # enumerate splits\n",
    "    for (train, test) in kfold.split(x,y):\n",
    "        x_tr = x[train]\n",
    "        y_tr = y[train]\n",
    "        x_tst = x[test]\n",
    "        y_tst = y[test]\n",
    "        model = create_network(tops[0], tops[1], tops[2])\n",
    "        model.use(cross_entropy, cross_entropy_prime)\n",
    "        model.fit(x_tr, y_tr, tops[4], 0.1)\n",
    "        y_pred = model.predict(x_tst)\n",
    "        y_prd = np.array([arr[0][0] for arr in y_pred])\n",
    "        y_pred = np.where(y_prd >= tops[3], 1, 0)\n",
    "        scores.append(f1_score(y_tst*1, y_pred))\n",
    "    return scores"
   ]
  },
  {
   "cell_type": "code",
   "execution_count": 58,
   "metadata": {},
   "outputs": [
    {
     "name": "stdout",
     "output_type": "stream",
     "text": [
      "[0.9565217391304348, 1.0, 0.9743589743589743, 0.9444444444444444, 0.9545454545454545]\n"
     ]
    },
    {
     "data": {
      "text/plain": [
       "0.9659741224958616"
      ]
     },
     "execution_count": 58,
     "metadata": {},
     "output_type": "execute_result"
    }
   ],
   "source": [
    "scores = cross_validation(x_train, y_train, tops)\n",
    "print(scores)\n",
    "np.mean(scores)"
   ]
  },
  {
   "attachments": {},
   "cell_type": "markdown",
   "metadata": {},
   "source": [
    "## NN from library"
   ]
  },
  {
   "cell_type": "code",
   "execution_count": 59,
   "metadata": {},
   "outputs": [],
   "source": [
    "from keras.models import Sequential\n",
    "from keras.layers import Dense\n",
    "from keras.utils import to_categorical\n",
    "from sklearn.metrics import f1_score\n",
    "from keras.callbacks import Callback\n",
    "from keras.models import Sequential\n",
    "from keras.layers import Dense\n",
    "from keras.wrappers.scikit_learn import KerasClassifier\n",
    "from sklearn.model_selection import GridSearchCV\n",
    "from sklearn.metrics import make_scorer, f1_score"
   ]
  },
  {
   "cell_type": "code",
   "execution_count": 71,
   "metadata": {},
   "outputs": [
    {
     "name": "stderr",
     "output_type": "stream",
     "text": [
      "C:\\Users\\daria\\AppData\\Local\\Temp\\ipykernel_14408\\4204664436.py:12: DeprecationWarning: KerasClassifier is deprecated, use Sci-Keras (https://github.com/adriangb/scikeras) instead. See https://www.adriangb.com/scikeras/stable/migration.html for help migrating.\n",
      "  model = KerasClassifier(build_fn=create_model)\n"
     ]
    },
    {
     "name": "stdout",
     "output_type": "stream",
     "text": [
      "8/8 [==============================] - 1s 2ms/step - loss: 0.3692 - accuracy: 0.7870\n",
      "1/1 [==============================] - 0s 44ms/step\n",
      "6/6 [==============================] - 1s 3ms/step - loss: 0.3319 - accuracy: 0.8478\n",
      "2/2 [==============================] - 0s 3ms/step - loss: 0.2871 - accuracy: 0.8913\n",
      "6/6 [==============================] - 1s 2ms/step - loss: 0.3540 - accuracy: 0.8315\n",
      "2/2 [==============================] - 0s 4ms/step - loss: 0.1293 - accuracy: 0.9565\n",
      "6/6 [==============================] - 1s 2ms/step - loss: 0.3106 - accuracy: 0.8641\n",
      "2/2 [==============================] - 0s 4ms/step - loss: 0.0576 - accuracy: 1.0000\n",
      "6/6 [==============================] - 1s 2ms/step - loss: 0.3233 - accuracy: 0.8478\n",
      "2/2 [==============================] - 0s 3ms/step - loss: 0.1431 - accuracy: 0.9130\n",
      "6/6 [==============================] - 1s 2ms/step - loss: 0.2362 - accuracy: 0.9457\n",
      "2/2 [==============================] - 0s 3ms/step - loss: 0.1245 - accuracy: 0.9565\n",
      "0.9230769230769231\n"
     ]
    }
   ],
   "source": [
    "# Define the function to create the model\n",
    "def create_model(units = 200):\n",
    "    model = Sequential()\n",
    "    model.add(Dense(units, activation='tanh', input_dim=len(x_train[0])))\n",
    "    model.add(Dense(units, activation='tanh'))\n",
    "    model.add(Dense(units=1, activation='sigmoid'))\n",
    "    model.compile(loss='binary_crossentropy', optimizer='adam', metrics=['accuracy'])\n",
    "    return model\n",
    "\n",
    "\n",
    "# Create the KerasClassifier\n",
    "model = KerasClassifier(build_fn=create_model)\n",
    "model.fit(x_train, y_train)\n",
    "y_pred = model.predict(x_test)\n",
    "cr = cross_validate(model, x_train, y_train, cv=5)\n",
    "\n",
    "f1 = calculate_f1(y_test, y_pred)\n",
    "print(f1)\n"
   ]
  },
  {
   "cell_type": "code",
   "execution_count": 72,
   "metadata": {},
   "outputs": [
    {
     "data": {
      "text/plain": [
       "0.943478274345398"
      ]
     },
     "execution_count": 72,
     "metadata": {},
     "output_type": "execute_result"
    }
   ],
   "source": [
    "cr['test_score'].mean()"
   ]
  },
  {
   "attachments": {},
   "cell_type": "markdown",
   "metadata": {},
   "source": [
    "## extra: how we chose the learning-rate"
   ]
  },
  {
   "cell_type": "code",
   "execution_count": 73,
   "metadata": {},
   "outputs": [
    {
     "data": {
      "image/png": "[encoded data removed]",
      "text/plain": [
       "<Figure size 640x480 with 1 Axes>"
      ]
     },
     "metadata": {},
     "output_type": "display_data"
    },
    {
     "name": "stdout",
     "output_type": "stream",
     "text": [
      "f1 hand\n",
      "0.9600000000000001\n"
     ]
    }
   ],
   "source": [
    "import numpy as np\n",
    "import matplotlib.pyplot as plt\n",
    "\n",
    "#uncommented the print epoch error, see errors from epoch to epoch\n",
    "\n",
    "hand = create_network(tops[0], tops[1], tops[2])\n",
    "hand.use(cross_entropy, cross_entropy_prime)\n",
    "\n",
    "\n",
    "# Define the range of learning rates to explore\n",
    "learning_rates = np.logspace(-6, 0, num=10)\n",
    "\n",
    "# Initialize lists to store learning rates and corresponding losses\n",
    "lr_values = []\n",
    "loss_values = []\n",
    "\n",
    "for lr in learning_rates:\n",
    "    \n",
    "    # Train your neural network for a few epochs with the current learning rate\n",
    "    hand.fit(x_train, y_train, 50, lr)\n",
    "    # Calculate and store the loss/error after each epoch\n",
    "    loss = hand.epoch_error\n",
    "    lr_values.append(lr)\n",
    "    loss_values.append(loss)\n",
    "\n",
    "# Plot the learning rate vs. loss curve\n",
    "plt.plot(lr_values, loss_values)\n",
    "plt.xlabel('Learning Rate')\n",
    "plt.ylabel('Loss')\n",
    "plt.xscale('log')\n",
    "plt.show()\n",
    "\n",
    "\n",
    "ph=hand.predict(x_test)\n",
    "# Convert the list of arrays to a numpy array\n",
    "predicted_ph = np.array([arr[0][0] for arr in ph])\n",
    "##add threshold\n",
    "binary_ph = np.where(predicted_ph >= 0.5, 1, 0)\n",
    "print(\"f1 hand\")\n",
    "f1 = calculate_f1(y_test, binary_ph)\n",
    "print(f1)"
   ]
  }
 ],
 "metadata": {
  "kernelspec": {
   "display_name": "Python 3 (ipykernel)",
   "language": "python",
   "name": "python3"
  },
  "language_info": {
   "codemirror_mode": {
    "name": "ipython",
    "version": 3
   },
   "file_extension": ".py",
   "mimetype": "text/x-python",
   "name": "python",
   "nbconvert_exporter": "python",
   "pygments_lexer": "ipython3",
   "version": "3.11.3"
  }
 },
 "nbformat": 4,
 "nbformat_minor": 2
}
