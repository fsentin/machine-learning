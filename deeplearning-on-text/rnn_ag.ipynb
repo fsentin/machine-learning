{
 "cells": [
  {
   "cell_type": "code",
   "execution_count": 135,
   "id": "81472347",
   "metadata": {},
   "outputs": [],
   "source": [
    "import torch\n",
    "import torchtext\n",
    "import gc\n",
    "import time\n",
    "from tqdm import tqdm\n",
    "from torch.utils.data import DataLoader\n",
    "from torch.optim import Adam\n",
    "from torchtext.data import get_tokenizer\n",
    "from torchtext.vocab import build_vocab_from_iterator\n",
    "from torch.utils.data import DataLoader\n",
    "from torchtext.data.functional import to_map_style_dataset\n",
    "from sklearn.metrics import accuracy_score\n",
    "from datasets import load_dataset\n",
    "from matplotlib import pyplot as plt\n",
    "from sklearn.model_selection import train_test_split"
   ]
  },
  {
   "cell_type": "code",
   "execution_count": 136,
   "id": "6a7fe12d",
   "metadata": {},
   "outputs": [
    {
     "name": "stderr",
     "output_type": "stream",
     "text": [
      "Using custom data configuration default\n",
      "Reusing dataset ag_news (C:\\Users\\38599\\.cache\\huggingface\\datasets\\ag_news\\default\\0.0.0\\bc2bcb40336ace1a0374767fc29bb0296cdaf8a6da7298436239c54d79180548)\n"
     ]
    },
    {
     "data": {
      "application/vnd.jupyter.widget-view+json": {
       "model_id": "c7a1d7646e7e4d5cb3f46db47c626b6b",
       "version_major": 2,
       "version_minor": 0
      },
      "text/plain": [
       "  0%|          | 0/2 [00:00<?, ?it/s]"
      ]
     },
     "metadata": {},
     "output_type": "display_data"
    }
   ],
   "source": [
    "#train_dataset, test_dataset  = torchtext.datasets.AG_NEWS()\n",
    "data = load_dataset(\"ag_news\")\n",
    "data.set_format(type=\"pandas\")\n",
    "label_names = [\"World\", \"Sports\", \"Business\", \"Sci/Tech\"]"
   ]
  },
  {
   "cell_type": "code",
   "execution_count": 137,
   "id": "4508d2f5",
   "metadata": {},
   "outputs": [],
   "source": [
    "train = data['train'][:]\n",
    "test = data['test'][:]\n",
    "train, valid = train_test_split(train, test_size=0.10, random_state=0)"
   ]
  },
  {
   "cell_type": "code",
   "execution_count": 138,
   "id": "c72d5f24",
   "metadata": {},
   "outputs": [
    {
     "data": {
      "text/html": [
       "<div>\n",
       "<style scoped>\n",
       "    .dataframe tbody tr th:only-of-type {\n",
       "        vertical-align: middle;\n",
       "    }\n",
       "\n",
       "    .dataframe tbody tr th {\n",
       "        vertical-align: top;\n",
       "    }\n",
       "\n",
       "    .dataframe thead th {\n",
       "        text-align: right;\n",
       "    }\n",
       "</style>\n",
       "<table border=\"1\" class=\"dataframe\">\n",
       "  <thead>\n",
       "    <tr style=\"text-align: right;\">\n",
       "      <th></th>\n",
       "      <th>text</th>\n",
       "      <th>label</th>\n",
       "    </tr>\n",
       "  </thead>\n",
       "  <tbody>\n",
       "    <tr>\n",
       "      <th>40472</th>\n",
       "      <td>World markets - 27 September 2004 New York - T...</td>\n",
       "      <td>2</td>\n",
       "    </tr>\n",
       "    <tr>\n",
       "      <th>118774</th>\n",
       "      <td>States #39; Pocketbooks Are Fuller, but Health...</td>\n",
       "      <td>2</td>\n",
       "    </tr>\n",
       "    <tr>\n",
       "      <th>62822</th>\n",
       "      <td>Greenspan on Oil In a speech on Friday, Alan G...</td>\n",
       "      <td>2</td>\n",
       "    </tr>\n",
       "    <tr>\n",
       "      <th>26579</th>\n",
       "      <td>Urgent review over Palace protest A Royal secu...</td>\n",
       "      <td>0</td>\n",
       "    </tr>\n",
       "    <tr>\n",
       "      <th>78000</th>\n",
       "      <td>Azeri #39;s got no chance in Breeders #39; Cup...</td>\n",
       "      <td>1</td>\n",
       "    </tr>\n",
       "    <tr>\n",
       "      <th>...</th>\n",
       "      <td>...</td>\n",
       "      <td>...</td>\n",
       "    </tr>\n",
       "    <tr>\n",
       "      <th>45891</th>\n",
       "      <td>Senate postpones vote on file-swapping bill co...</td>\n",
       "      <td>3</td>\n",
       "    </tr>\n",
       "    <tr>\n",
       "      <th>117952</th>\n",
       "      <td>FedEx Profit Jumps, Outlook Is Raised  NEW YOR...</td>\n",
       "      <td>2</td>\n",
       "    </tr>\n",
       "    <tr>\n",
       "      <th>42613</th>\n",
       "      <td>More Arrested in Pakistan Following Killing of...</td>\n",
       "      <td>0</td>\n",
       "    </tr>\n",
       "    <tr>\n",
       "      <th>43567</th>\n",
       "      <td>PalmSource unveils Cobalt OS PalmSource finall...</td>\n",
       "      <td>3</td>\n",
       "    </tr>\n",
       "    <tr>\n",
       "      <th>68268</th>\n",
       "      <td>NEC launches world #39;s fastest supercomputer...</td>\n",
       "      <td>3</td>\n",
       "    </tr>\n",
       "  </tbody>\n",
       "</table>\n",
       "<p>108000 rows × 2 columns</p>\n",
       "</div>"
      ],
      "text/plain": [
       "                                                     text  label\n",
       "40472   World markets - 27 September 2004 New York - T...      2\n",
       "118774  States #39; Pocketbooks Are Fuller, but Health...      2\n",
       "62822   Greenspan on Oil In a speech on Friday, Alan G...      2\n",
       "26579   Urgent review over Palace protest A Royal secu...      0\n",
       "78000   Azeri #39;s got no chance in Breeders #39; Cup...      1\n",
       "...                                                   ...    ...\n",
       "45891   Senate postpones vote on file-swapping bill co...      3\n",
       "117952  FedEx Profit Jumps, Outlook Is Raised  NEW YOR...      2\n",
       "42613   More Arrested in Pakistan Following Killing of...      0\n",
       "43567   PalmSource unveils Cobalt OS PalmSource finall...      3\n",
       "68268   NEC launches world #39;s fastest supercomputer...      3\n",
       "\n",
       "[108000 rows x 2 columns]"
      ]
     },
     "execution_count": 138,
     "metadata": {},
     "output_type": "execute_result"
    }
   ],
   "source": [
    "train"
   ]
  },
  {
   "cell_type": "code",
   "execution_count": 139,
   "id": "0580f485",
   "metadata": {},
   "outputs": [],
   "source": [
    "from torch.utils.data import Dataset\n",
    "class Dataset(Dataset):\n",
    " \n",
    "    def __init__(self, data):\n",
    "        self.text = data['text'].values.tolist()\n",
    "        self.label = data['label'].values.tolist()\n",
    " \n",
    "    def __len__(self):\n",
    "        return len(self.label)\n",
    "   \n",
    "    def __getitem__(self,idx):\n",
    "        return self.label[idx], self.text[idx]"
   ]
  },
  {
   "cell_type": "code",
   "execution_count": 140,
   "id": "54ead9f9",
   "metadata": {},
   "outputs": [],
   "source": [
    "train_dataset = Dataset(train)\n",
    "valid_dataset = Dataset(valid)\n",
    "test_dataset = Dataset(test)"
   ]
  },
  {
   "cell_type": "code",
   "execution_count": 141,
   "id": "6e541fa4",
   "metadata": {},
   "outputs": [],
   "source": [
    "def build_vocabulary(datasets):\n",
    "    for dataset in datasets:\n",
    "        for _, text in dataset:\n",
    "            yield tokenizer(text)\n",
    "\n",
    "def vectorize_batch(batch):\n",
    "    Y, X = list(zip(*batch))\n",
    "    X = [vocab(tokenizer(text)) for text in X]\n",
    "    X = [tokens + ([0]* (max_words - len(tokens))) if len(tokens) < max_words else tokens[:max_words] for tokens in X] \n",
    "\n",
    "    return torch.tensor(X, dtype=torch.int32), torch.tensor(Y)"
   ]
  },
  {
   "cell_type": "code",
   "execution_count": 142,
   "id": "31495407",
   "metadata": {},
   "outputs": [],
   "source": [
    "tokenizer = get_tokenizer(\"basic_english\")\n",
    "vocab = build_vocab_from_iterator(build_vocabulary([train_dataset, valid_dataset]), min_freq=1, specials=[\"<UNK>\"])\n",
    "vocab.set_default_index(vocab[\"<UNK>\"])"
   ]
  },
  {
   "cell_type": "code",
   "execution_count": 143,
   "id": "9783a1c2",
   "metadata": {},
   "outputs": [],
   "source": [
    "max_words = 25\n",
    "\n",
    "train_loader = DataLoader(train_dataset, batch_size=1024, collate_fn=vectorize_batch, shuffle=True)\n",
    "valid_loader = DataLoader(valid_dataset, batch_size=1024, collate_fn=vectorize_batch)\n",
    "test_loader  = DataLoader(test_dataset , batch_size=1024, collate_fn=vectorize_batch)"
   ]
  },
  {
   "cell_type": "code",
   "execution_count": 144,
   "id": "ceba8a93",
   "metadata": {},
   "outputs": [],
   "source": [
    "from torch import nn\n",
    "from torch.nn import functional as F\n",
    "\n",
    "embed_len = 50\n",
    "hidden_dim = 50\n",
    "N_layers=1\n",
    "\n",
    "class RNNClassifier(nn.Module):\n",
    "    def __init__(self):\n",
    "        super(RNNClassifier, self).__init__()\n",
    "        self.embedding_layer = nn.Embedding(num_embeddings=len(vocab), embedding_dim=embed_len)\n",
    "        self.rnn = nn.RNN(input_size=embed_len, hidden_size=hidden_dim, num_layers=N_layers, batch_first=True)\n",
    "        self.linear = nn.Linear(hidden_dim, len(label_names))\n",
    "\n",
    "    def forward(self, X_batch):\n",
    "        embeddings = self.embedding_layer(X_batch)\n",
    "        output, hidden = self.rnn(embeddings, torch.randn(N_layers, len(X_batch), hidden_dim))\n",
    "        return self.linear(output[:,-1])"
   ]
  },
  {
   "cell_type": "code",
   "execution_count": 145,
   "id": "059a54d9",
   "metadata": {},
   "outputs": [],
   "source": [
    "rnn_classifier = RNNClassifier()"
   ]
  },
  {
   "cell_type": "code",
   "execution_count": 146,
   "id": "179279de",
   "metadata": {},
   "outputs": [
    {
     "name": "stdout",
     "output_type": "stream",
     "text": [
      "Layer : Embedding(95811, 50)\n",
      "Parameters : \n",
      "torch.Size([95811, 50])\n",
      "\n",
      "Layer : RNN(50, 50, batch_first=True)\n",
      "Parameters : \n",
      "torch.Size([50, 50])\n",
      "torch.Size([50, 50])\n",
      "torch.Size([50])\n",
      "torch.Size([50])\n",
      "\n",
      "Layer : Linear(in_features=50, out_features=4, bias=True)\n",
      "Parameters : \n",
      "torch.Size([4, 50])\n",
      "torch.Size([4])\n",
      "\n"
     ]
    }
   ],
   "source": [
    "for layer in rnn_classifier.children():\n",
    "    print(\"Layer : {}\".format(layer))\n",
    "    print(\"Parameters : \")\n",
    "    for param in layer.parameters():\n",
    "        print(param.shape)\n",
    "    print()"
   ]
  },
  {
   "cell_type": "code",
   "execution_count": 147,
   "id": "e8fbd4bb",
   "metadata": {},
   "outputs": [],
   "source": [
    "def val_loss(model, loss_fn, val_loader):\n",
    "    with torch.no_grad():\n",
    "        y_shuffled, y_preds, losses = [],[],[]\n",
    "        for X, y in val_loader:\n",
    "            preds = model(X)\n",
    "            \n",
    "            loss = loss_fn(preds, y)\n",
    "            losses.append(loss.item())\n",
    "\n",
    "            y_shuffled.append(y)\n",
    "            y_preds.append(preds.argmax(dim=-1))\n",
    "\n",
    "        y_shuffled = torch.cat(y_shuffled)\n",
    "        y_preds = torch.cat(y_preds)\n",
    "\n",
    "        print(\"val loss : {:.4f}\".format(torch.tensor(losses).mean()))\n",
    "\n",
    "\n",
    "def train_model(model, loss_fn, optimizer, train_loader, val_loader, epochs=10):\n",
    "    start_time = time.time()\n",
    "    for i in range(1, epochs+1):\n",
    "        print(f\"Epoch: {i}\")\n",
    "        losses = []\n",
    "        for X, y in tqdm(train_loader, desc='Training'):\n",
    "            y_preds = model(X)\n",
    "    \n",
    "            loss = loss_fn(y_preds, y)\n",
    "            losses.append(loss.item())\n",
    "\n",
    "            optimizer.zero_grad()\n",
    "            loss.backward()\n",
    "            optimizer.step()\n",
    "\n",
    "        print(\"train loss: {:.4f}\".format(torch.tensor(losses).mean()))\n",
    "        val_loss(model, loss_fn, val_loader)\n",
    "    end_time = time.time()\n",
    "    return end_time - start_time"
   ]
  },
  {
   "cell_type": "code",
   "execution_count": 148,
   "id": "283bc58d",
   "metadata": {},
   "outputs": [
    {
     "name": "stdout",
     "output_type": "stream",
     "text": [
      "Epoch: 1\n"
     ]
    },
    {
     "name": "stderr",
     "output_type": "stream",
     "text": [
      "Training: 100%|██████████████████████████████████████████████████████████████████████| 106/106 [00:16<00:00,  6.52it/s]\n"
     ]
    },
    {
     "name": "stdout",
     "output_type": "stream",
     "text": [
      "train loss: 1.3078\n",
      "val loss : 1.1584\n",
      "Epoch: 2\n"
     ]
    },
    {
     "name": "stderr",
     "output_type": "stream",
     "text": [
      "Training: 100%|██████████████████████████████████████████████████████████████████████| 106/106 [00:16<00:00,  6.56it/s]\n"
     ]
    },
    {
     "name": "stdout",
     "output_type": "stream",
     "text": [
      "train loss: 0.9824\n",
      "val loss : 0.8606\n",
      "Epoch: 3\n"
     ]
    },
    {
     "name": "stderr",
     "output_type": "stream",
     "text": [
      "Training: 100%|██████████████████████████████████████████████████████████████████████| 106/106 [00:15<00:00,  6.84it/s]\n"
     ]
    },
    {
     "name": "stdout",
     "output_type": "stream",
     "text": [
      "train loss: 0.7489\n",
      "val loss : 0.7078\n",
      "Epoch: 4\n"
     ]
    },
    {
     "name": "stderr",
     "output_type": "stream",
     "text": [
      "Training: 100%|██████████████████████████████████████████████████████████████████████| 106/106 [00:15<00:00,  6.72it/s]\n"
     ]
    },
    {
     "name": "stdout",
     "output_type": "stream",
     "text": [
      "train loss: 0.6076\n",
      "val loss : 0.6012\n",
      "Epoch: 5\n"
     ]
    },
    {
     "name": "stderr",
     "output_type": "stream",
     "text": [
      "Training: 100%|██████████████████████████████████████████████████████████████████████| 106/106 [00:15<00:00,  6.79it/s]\n"
     ]
    },
    {
     "name": "stdout",
     "output_type": "stream",
     "text": [
      "train loss: 0.5115\n",
      "val loss : 0.5493\n",
      "Epoch: 6\n"
     ]
    },
    {
     "name": "stderr",
     "output_type": "stream",
     "text": [
      "Training: 100%|██████████████████████████████████████████████████████████████████████| 106/106 [00:15<00:00,  6.67it/s]\n"
     ]
    },
    {
     "name": "stdout",
     "output_type": "stream",
     "text": [
      "train loss: 0.4505\n",
      "val loss : 0.5066\n",
      "Epoch: 7\n"
     ]
    },
    {
     "name": "stderr",
     "output_type": "stream",
     "text": [
      "Training: 100%|██████████████████████████████████████████████████████████████████████| 106/106 [00:16<00:00,  6.62it/s]\n"
     ]
    },
    {
     "name": "stdout",
     "output_type": "stream",
     "text": [
      "train loss: 0.4024\n",
      "val loss : 0.4853\n",
      "Epoch: 8\n"
     ]
    },
    {
     "name": "stderr",
     "output_type": "stream",
     "text": [
      "Training: 100%|██████████████████████████████████████████████████████████████████████| 106/106 [00:15<00:00,  6.77it/s]\n"
     ]
    },
    {
     "name": "stdout",
     "output_type": "stream",
     "text": [
      "train loss: 0.3675\n",
      "val loss : 0.4641\n",
      "Epoch: 9\n"
     ]
    },
    {
     "name": "stderr",
     "output_type": "stream",
     "text": [
      "Training: 100%|██████████████████████████████████████████████████████████████████████| 106/106 [00:15<00:00,  6.65it/s]\n"
     ]
    },
    {
     "name": "stdout",
     "output_type": "stream",
     "text": [
      "train loss: 0.3403\n",
      "val loss : 0.4505\n",
      "Epoch: 10\n"
     ]
    },
    {
     "name": "stderr",
     "output_type": "stream",
     "text": [
      "Training: 100%|██████████████████████████████████████████████████████████████████████| 106/106 [00:15<00:00,  6.81it/s]\n"
     ]
    },
    {
     "name": "stdout",
     "output_type": "stream",
     "text": [
      "train loss: 0.3148\n",
      "val loss : 0.4353\n",
      "Epoch: 11\n"
     ]
    },
    {
     "name": "stderr",
     "output_type": "stream",
     "text": [
      "Training: 100%|██████████████████████████████████████████████████████████████████████| 106/106 [00:15<00:00,  6.71it/s]\n"
     ]
    },
    {
     "name": "stdout",
     "output_type": "stream",
     "text": [
      "train loss: 0.2932\n",
      "val loss : 0.4314\n",
      "Epoch: 12\n"
     ]
    },
    {
     "name": "stderr",
     "output_type": "stream",
     "text": [
      "Training: 100%|██████████████████████████████████████████████████████████████████████| 106/106 [00:15<00:00,  6.77it/s]\n"
     ]
    },
    {
     "name": "stdout",
     "output_type": "stream",
     "text": [
      "train loss: 0.2768\n",
      "val loss : 0.4241\n",
      "Epoch: 13\n"
     ]
    },
    {
     "name": "stderr",
     "output_type": "stream",
     "text": [
      "Training: 100%|██████████████████████████████████████████████████████████████████████| 106/106 [00:15<00:00,  6.66it/s]\n"
     ]
    },
    {
     "name": "stdout",
     "output_type": "stream",
     "text": [
      "train loss: 0.2589\n",
      "val loss : 0.4199\n",
      "Epoch: 14\n"
     ]
    },
    {
     "name": "stderr",
     "output_type": "stream",
     "text": [
      "Training: 100%|██████████████████████████████████████████████████████████████████████| 106/106 [00:16<00:00,  6.61it/s]\n"
     ]
    },
    {
     "name": "stdout",
     "output_type": "stream",
     "text": [
      "train loss: 0.2450\n",
      "val loss : 0.4269\n",
      "Epoch: 15\n"
     ]
    },
    {
     "name": "stderr",
     "output_type": "stream",
     "text": [
      "Training: 100%|██████████████████████████████████████████████████████████████████████| 106/106 [00:16<00:00,  6.55it/s]\n"
     ]
    },
    {
     "name": "stdout",
     "output_type": "stream",
     "text": [
      "train loss: 0.2307\n",
      "val loss : 0.4263\n"
     ]
    },
    {
     "data": {
      "text/plain": [
       "250.49429416656494"
      ]
     },
     "execution_count": 148,
     "metadata": {},
     "output_type": "execute_result"
    }
   ],
   "source": [
    "epochs = 15\n",
    "learning_rate = 1e-3\n",
    "\n",
    "loss_fn = nn.CrossEntropyLoss()\n",
    "rnn_classifier = RNNClassifier()\n",
    "optimizer = Adam(rnn_classifier.parameters(), lr=learning_rate)\n",
    "\n",
    "train_model(rnn_classifier, loss_fn, optimizer, train_loader, valid_loader, epochs)"
   ]
  },
  {
   "cell_type": "code",
   "execution_count": 149,
   "id": "50ab749d",
   "metadata": {},
   "outputs": [],
   "source": [
    "def predict(model, loader):\n",
    "    start_time = time.time()\n",
    "    y_shuffled, y_preds = [], []\n",
    "    for X, y in loader:\n",
    "        preds = model(X)\n",
    "        y_preds.append(preds)\n",
    "        y_shuffled.append(y)\n",
    "    gc.collect()\n",
    "    y_preds, y_shuffled = torch.cat(y_preds), torch.cat(y_shuffled)\n",
    "    end_time = time.time()\n",
    "    test_time = end_time - start_time\n",
    "\n",
    "    return y_shuffled.detach().numpy(), F.softmax(y_preds, dim=-1).argmax(dim=-1).detach().numpy(), test_time\n",
    "\n",
    "test_true, test_pred, test_time = predict(rnn_classifier, test_loader)"
   ]
  },
  {
   "cell_type": "code",
   "execution_count": 150,
   "id": "c7a3ae5b",
   "metadata": {},
   "outputs": [
    {
     "name": "stdout",
     "output_type": "stream",
     "text": [
      "classification report\n",
      "              precision    recall  f1-score   support\n",
      "\n",
      "       World     0.8750    0.8732    0.8741      1900\n",
      "      Sports     0.9270    0.9295    0.9283      1900\n",
      "    Business     0.8299    0.8242    0.8270      1900\n",
      "    Sci/Tech     0.8347    0.8400    0.8374      1900\n",
      "\n",
      "    accuracy                         0.8667      7600\n",
      "   macro avg     0.8667    0.8667    0.8667      7600\n",
      "weighted avg     0.8667    0.8667    0.8667      7600\n",
      "\n",
      "Testing time: 0.6605420112609863\n"
     ]
    }
   ],
   "source": [
    "from sklearn.metrics import classification_report, ConfusionMatrixDisplay, confusion_matrix\n",
    "\n",
    "print('classification report')\n",
    "print(classification_report(test_true, test_pred, target_names=label_names, digits=4))\n",
    "print(f\"Testing time: {test_time}\")"
   ]
  },
  {
   "cell_type": "code",
   "execution_count": 151,
   "id": "28729ee2",
   "metadata": {},
   "outputs": [],
   "source": [
    "def plot_confusion_matrix(y_true, y_preds, labels=None):\n",
    "    cm = confusion_matrix(y_true, y_preds, normalize=\"true\")\n",
    "    fig, ax = plt.subplots(figsize=(6, 6))\n",
    "    disp = ConfusionMatrixDisplay(confusion_matrix=cm, display_labels=labels)\n",
    "    disp.plot(cmap=\"Blues\", values_format=\".4f\", ax=ax, colorbar=False)\n",
    "    plt.show()"
   ]
  },
  {
   "cell_type": "code",
   "execution_count": 152,
   "id": "7589304b",
   "metadata": {},
   "outputs": [
    {
     "data": {
      "image/png": "[encoded data removed]",
      "text/plain": [
       "<Figure size 432x432 with 1 Axes>"
      ]
     },
     "metadata": {
      "needs_background": "light"
     },
     "output_type": "display_data"
    }
   ],
   "source": [
    "plot_confusion_matrix(test_true, test_pred, labels=label_names)"
   ]
  }
 ],
 "metadata": {
  "kernelspec": {
   "display_name": "Python 3 (ipykernel)",
   "language": "python",
   "name": "python3"
  },
  "language_info": {
   "codemirror_mode": {
    "name": "ipython",
    "version": 3
   },
   "file_extension": ".py",
   "mimetype": "text/x-python",
   "name": "python",
   "nbconvert_exporter": "python",
   "pygments_lexer": "ipython3",
   "version": "3.9.7"
  }
 },
 "nbformat": 4,
 "nbformat_minor": 5
}
