{
 "cells": [
  {
   "cell_type": "code",
   "execution_count": 19,
   "id": "c0201a03",
   "metadata": {},
   "outputs": [],
   "source": [
    "import numpy as np\n",
    "import time\n",
    "import nltk\n",
    "import xgboost as xgb\n",
    "from nltk.corpus import stopwords\n",
    "from matplotlib import pyplot as plt\n",
    "from datasets import load_dataset\n",
    "from sklearn.model_selection import train_test_split\n",
    "from sklearn.metrics import classification_report, ConfusionMatrixDisplay, confusion_matrix\n",
    "from sklearn.feature_extraction.text import TfidfVectorizer, CountVectorizer\n",
    "from sklearn.svm import SVC\n",
    "from sklearn.tree import DecisionTreeClassifier\n",
    "from sklearn.ensemble import RandomForestClassifier"
   ]
  },
  {
   "cell_type": "markdown",
   "id": "6beba675",
   "metadata": {},
   "source": [
    "## Loading data"
   ]
  },
  {
   "cell_type": "code",
   "execution_count": 20,
   "id": "92cc45d4",
   "metadata": {},
   "outputs": [
    {
     "name": "stderr",
     "output_type": "stream",
     "text": [
      "Using custom data configuration default\n",
      "Reusing dataset rotten_tomatoes (C:\\Users\\38599\\.cache\\huggingface\\datasets\\rotten_tomatoes\\default\\1.0.0\\40d411e45a6ce3484deed7cc15b82a53dad9a72aafd9f86f8f227134bec5ca46)\n"
     ]
    },
    {
     "data": {
      "application/vnd.jupyter.widget-view+json": {
       "model_id": "955b999ee8a14a429c89d3ee0806c4a4",
       "version_major": 2,
       "version_minor": 0
      },
      "text/plain": [
       "  0%|          | 0/3 [00:00<?, ?it/s]"
      ]
     },
     "metadata": {},
     "output_type": "display_data"
    }
   ],
   "source": [
    "data = load_dataset(\"rotten_tomatoes\")"
   ]
  },
  {
   "cell_type": "code",
   "execution_count": 21,
   "id": "316a5876",
   "metadata": {},
   "outputs": [
    {
     "data": {
      "text/plain": [
       "['neg', 'pos']"
      ]
     },
     "execution_count": 21,
     "metadata": {},
     "output_type": "execute_result"
    }
   ],
   "source": [
    "label_names = data[\"train\"].features['label'].names\n",
    "label_names"
   ]
  },
  {
   "cell_type": "code",
   "execution_count": 22,
   "id": "2d8a0dcd",
   "metadata": {},
   "outputs": [],
   "source": [
    "data.set_format(type=\"pandas\")\n",
    "train = data['train'][:]\n",
    "test = data['test'][:]"
   ]
  },
  {
   "cell_type": "markdown",
   "id": "becf2ef0",
   "metadata": {},
   "source": [
    "## Feature extraction"
   ]
  },
  {
   "cell_type": "code",
   "execution_count": 23,
   "id": "9189f068",
   "metadata": {},
   "outputs": [],
   "source": [
    "stop_words = stopwords.words(\"english\")\n",
    "def perform_feature_extraction(vectorizer, train_docs, test_docs, **args):\n",
    "    start_time = time.time()\n",
    "    \n",
    "    vect = vectorizer(stop_words=stop_words, **args)\n",
    "    vect_train = vect.fit_transform(train_docs)\n",
    "    \n",
    "    end_train_time = time.time()\n",
    "    vect_test = vect.transform(test_docs)\n",
    "    end_test_time = time.time()\n",
    "    \n",
    "    train_fe_time = end_train_time - start_time\n",
    "    test_fe_time = end_test_time - end_train_time\n",
    "    \n",
    "    return vect_train, vect_test, train_fe_time, test_fe_time"
   ]
  },
  {
   "cell_type": "code",
   "execution_count": 24,
   "id": "ffd5558b",
   "metadata": {},
   "outputs": [],
   "source": [
    "tfidf = perform_feature_extraction(TfidfVectorizer, train['text'], test['text'])\n",
    "bow = perform_feature_extraction(CountVectorizer, train['text'], test['text'])\n",
    "ngram = perform_feature_extraction(TfidfVectorizer, train['text'], test['text'], ngram_range=(1,2))\n",
    "features = [tfidf, bow, ngram]\n",
    "ft_names = [\"TF-IDF\", \"BoW\", \"N-gram\"]"
   ]
  },
  {
   "cell_type": "markdown",
   "id": "20a09b1c",
   "metadata": {},
   "source": [
    "## Classification"
   ]
  },
  {
   "cell_type": "code",
   "execution_count": 25,
   "id": "7b2bd74d",
   "metadata": {},
   "outputs": [],
   "source": [
    "classifiers = [DecisionTreeClassifier(random_state=0), RandomForestClassifier(n_jobs=-1, random_state=0), xgb.XGBClassifier(n_jobs=-1, random_state=0)]\n",
    "classifier_names = [ \"Decision Tree\", \"Random Forest\", \"XGBoost\"]"
   ]
  },
  {
   "cell_type": "code",
   "execution_count": 26,
   "id": "20e2b5bf",
   "metadata": {},
   "outputs": [],
   "source": [
    "def plot_confusion_matrix(y_true,y_preds, labels=None):\n",
    "    cm = confusion_matrix(y_true, y_preds, normalize=\"true\")\n",
    "    fig, ax = plt.subplots(figsize=(6, 6))\n",
    "    disp = ConfusionMatrixDisplay(confusion_matrix=cm, display_labels=labels)\n",
    "    disp.plot(cmap=\"Blues\", values_format=\".4f\", ax=ax, colorbar=False)\n",
    "    plt.title(\"Confusion matrix\")\n",
    "    plt.show()"
   ]
  },
  {
   "cell_type": "code",
   "execution_count": 27,
   "id": "83f0507a",
   "metadata": {
    "scrolled": false
   },
   "outputs": [
    {
     "name": "stdout",
     "output_type": "stream",
     "text": [
      "TF-IDF\n",
      "Decision Tree\n",
      "classification report\n",
      "              precision    recall  f1-score   support\n",
      "\n",
      "         neg     0.6415    0.6548    0.6481       533\n",
      "         pos     0.6475    0.6341    0.6408       533\n",
      "\n",
      "    accuracy                         0.6445      1066\n",
      "   macro avg     0.6445    0.6445    0.6444      1066\n",
      "weighted avg     0.6445    0.6445    0.6444      1066\n",
      "\n",
      "Feature extraction fit time: 0.16749215126037598\n",
      "Train time: 1.875171184539795\n",
      "Total train time: 2.042663335800171\n",
      "Feature extraction transform time: 0.017002344131469727\n",
      "Test time: 0.0\n",
      "Total test time: 0.017002344131469727\n"
     ]
    },
    {
     "data": {
      "image/png": "[encoded data removed]",
      "text/plain": [
       "<Figure size 432x432 with 1 Axes>"
      ]
     },
     "metadata": {
      "needs_background": "light"
     },
     "output_type": "display_data"
    },
    {
     "name": "stdout",
     "output_type": "stream",
     "text": [
      "\n",
      "Random Forest\n",
      "classification report\n",
      "              precision    recall  f1-score   support\n",
      "\n",
      "         neg     0.6944    0.7842    0.7366       533\n",
      "         pos     0.7522    0.6548    0.7001       533\n",
      "\n",
      "    accuracy                         0.7195      1066\n",
      "   macro avg     0.7233    0.7195    0.7183      1066\n",
      "weighted avg     0.7233    0.7195    0.7183      1066\n",
      "\n",
      "Feature extraction fit time: 0.16749215126037598\n",
      "Train time: 1.2430310249328613\n",
      "Total train time: 1.4105231761932373\n",
      "Feature extraction transform time: 0.017002344131469727\n",
      "Test time: 0.04180145263671875\n",
      "Total test time: 0.05880379676818848\n"
     ]
    },
    {
     "data": {
      "image/png": "[encoded data removed]",
      "text/plain": [
       "<Figure size 432x432 with 1 Axes>"
      ]
     },
     "metadata": {
      "needs_background": "light"
     },
     "output_type": "display_data"
    },
    {
     "name": "stdout",
     "output_type": "stream",
     "text": [
      "\n",
      "XGBoost\n",
      "classification report\n",
      "              precision    recall  f1-score   support\n",
      "\n",
      "         neg     0.6839    0.7674    0.7233       533\n",
      "         pos     0.7350    0.6454    0.6873       533\n",
      "\n",
      "    accuracy                         0.7064      1066\n",
      "   macro avg     0.7095    0.7064    0.7053      1066\n",
      "weighted avg     0.7095    0.7064    0.7053      1066\n",
      "\n",
      "Feature extraction fit time: 0.16749215126037598\n",
      "Train time: 0.7849974632263184\n",
      "Total train time: 0.9524896144866943\n",
      "Feature extraction transform time: 0.017002344131469727\n",
      "Test time: 0.01100015640258789\n",
      "Total test time: 0.028002500534057617\n"
     ]
    },
    {
     "data": {
      "image/png": "[encoded data removed]",
      "text/plain": [
       "<Figure size 432x432 with 1 Axes>"
      ]
     },
     "metadata": {
      "needs_background": "light"
     },
     "output_type": "display_data"
    },
    {
     "name": "stdout",
     "output_type": "stream",
     "text": [
      "\n",
      "BoW\n",
      "Decision Tree\n",
      "classification report\n",
      "              precision    recall  f1-score   support\n",
      "\n",
      "         neg     0.6543    0.6923    0.6727       533\n",
      "         pos     0.6733    0.6341    0.6531       533\n",
      "\n",
      "    accuracy                         0.6632      1066\n",
      "   macro avg     0.6638    0.6632    0.6629      1066\n",
      "weighted avg     0.6638    0.6632    0.6629      1066\n",
      "\n",
      "Feature extraction fit time: 0.14484667778015137\n",
      "Train time: 1.510714054107666\n",
      "Total train time: 1.6555607318878174\n",
      "Feature extraction transform time: 0.012294530868530273\n",
      "Test time: 0.0\n",
      "Total test time: 0.012294530868530273\n"
     ]
    },
    {
     "data": {
      "image/png": "[encoded data removed]",
      "text/plain": [
       "<Figure size 432x432 with 1 Axes>"
      ]
     },
     "metadata": {
      "needs_background": "light"
     },
     "output_type": "display_data"
    },
    {
     "name": "stdout",
     "output_type": "stream",
     "text": [
      "\n",
      "Random Forest\n",
      "classification report\n",
      "              precision    recall  f1-score   support\n",
      "\n",
      "         neg     0.7066    0.7636    0.7340       533\n",
      "         pos     0.7429    0.6829    0.7116       533\n",
      "\n",
      "    accuracy                         0.7233      1066\n",
      "   macro avg     0.7247    0.7233    0.7228      1066\n",
      "weighted avg     0.7247    0.7233    0.7228      1066\n",
      "\n",
      "Feature extraction fit time: 0.14484667778015137\n",
      "Train time: 1.305818796157837\n",
      "Total train time: 1.4506654739379883\n",
      "Feature extraction transform time: 0.012294530868530273\n",
      "Test time: 0.05499839782714844\n",
      "Total test time: 0.06729292869567871\n"
     ]
    },
    {
     "data": {
      "image/png": "[encoded data removed]",
      "text/plain": [
       "<Figure size 432x432 with 1 Axes>"
      ]
     },
     "metadata": {
      "needs_background": "light"
     },
     "output_type": "display_data"
    },
    {
     "name": "stdout",
     "output_type": "stream",
     "text": [
      "\n",
      "XGBoost\n",
      "classification report\n",
      "              precision    recall  f1-score   support\n",
      "\n",
      "         neg     0.6943    0.7542    0.7230       533\n",
      "         pos     0.7310    0.6679    0.6980       533\n",
      "\n",
      "    accuracy                         0.7111      1066\n",
      "   macro avg     0.7127    0.7111    0.7105      1066\n",
      "weighted avg     0.7127    0.7111    0.7105      1066\n",
      "\n",
      "Feature extraction fit time: 0.14484667778015137\n",
      "Train time: 0.39957737922668457\n",
      "Total train time: 0.5444240570068359\n",
      "Feature extraction transform time: 0.012294530868530273\n",
      "Test time: 0.011002302169799805\n",
      "Total test time: 0.023296833038330078\n"
     ]
    },
    {
     "data": {
      "image/png": "[encoded data removed]",
      "text/plain": [
       "<Figure size 432x432 with 1 Axes>"
      ]
     },
     "metadata": {
      "needs_background": "light"
     },
     "output_type": "display_data"
    },
    {
     "name": "stdout",
     "output_type": "stream",
     "text": [
      "\n",
      "N-gram\n",
      "Decision Tree\n",
      "classification report\n",
      "              precision    recall  f1-score   support\n",
      "\n",
      "         neg     0.6496    0.6886    0.6685       533\n",
      "         pos     0.6687    0.6285    0.6480       533\n",
      "\n",
      "    accuracy                         0.6585      1066\n",
      "   macro avg     0.6591    0.6585    0.6582      1066\n",
      "weighted avg     0.6591    0.6585    0.6582      1066\n",
      "\n",
      "Feature extraction fit time: 0.4097774028778076\n",
      "Train time: 5.243876695632935\n",
      "Total train time: 5.653654098510742\n",
      "Feature extraction transform time: 0.030635356903076172\n",
      "Test time: 0.0\n",
      "Total test time: 0.030635356903076172\n"
     ]
    },
    {
     "data": {
      "image/png": "[encoded data removed]",
      "text/plain": [
       "<Figure size 432x432 with 1 Axes>"
      ]
     },
     "metadata": {
      "needs_background": "light"
     },
     "output_type": "display_data"
    },
    {
     "name": "stdout",
     "output_type": "stream",
     "text": [
      "\n",
      "Random Forest\n",
      "classification report\n",
      "              precision    recall  f1-score   support\n",
      "\n",
      "         neg     0.7080    0.7824    0.7433       533\n",
      "         pos     0.7568    0.6773    0.7149       533\n",
      "\n",
      "    accuracy                         0.7298      1066\n",
      "   macro avg     0.7324    0.7298    0.7291      1066\n",
      "weighted avg     0.7324    0.7298    0.7291      1066\n",
      "\n",
      "Feature extraction fit time: 0.4097774028778076\n",
      "Train time: 5.5014729499816895\n",
      "Total train time: 5.911250352859497\n",
      "Feature extraction transform time: 0.030635356903076172\n",
      "Test time: 0.05142807960510254\n",
      "Total test time: 0.08206343650817871\n"
     ]
    },
    {
     "data": {
      "image/png": "[encoded data removed]",
      "text/plain": [
       "<Figure size 432x432 with 1 Axes>"
      ]
     },
     "metadata": {
      "needs_background": "light"
     },
     "output_type": "display_data"
    },
    {
     "name": "stdout",
     "output_type": "stream",
     "text": [
      "\n",
      "XGBoost\n",
      "classification report\n",
      "              precision    recall  f1-score   support\n",
      "\n",
      "         neg     0.6789    0.7617    0.7179       533\n",
      "         pos     0.7286    0.6398    0.6813       533\n",
      "\n",
      "    accuracy                         0.7008      1066\n",
      "   macro avg     0.7038    0.7008    0.6996      1066\n",
      "weighted avg     0.7038    0.7008    0.6996      1066\n",
      "\n",
      "Feature extraction fit time: 0.4097774028778076\n",
      "Train time: 1.321141004562378\n",
      "Total train time: 1.7309184074401855\n",
      "Feature extraction transform time: 0.030635356903076172\n",
      "Test time: 0.03641462326049805\n",
      "Total test time: 0.06704998016357422\n"
     ]
    },
    {
     "data": {
      "image/png": "[encoded data removed]",
      "text/plain": [
       "<Figure size 432x432 with 1 Axes>"
      ]
     },
     "metadata": {
      "needs_background": "light"
     },
     "output_type": "display_data"
    },
    {
     "name": "stdout",
     "output_type": "stream",
     "text": [
      "\n"
     ]
    }
   ],
   "source": [
    "for i, feat in enumerate(features):\n",
    "    X_train = feat[0]\n",
    "    y_train = train['label']\n",
    "    train_fe_time = feat[2]\n",
    "    \n",
    "    X_test = feat[1]\n",
    "    y_test = test['label']\n",
    "    test_fe_time = feat[3]\n",
    "    \n",
    "    print(ft_names[i])\n",
    "    for j, clf in enumerate(classifiers):\n",
    "        start_time = time.time()\n",
    "        clf.fit(X_train, y_train)\n",
    "        end_time = time.time()\n",
    "        train_time = end_time - start_time\n",
    "        \n",
    "        start_time = time.time()\n",
    "        y_pred = clf.predict(X_test)\n",
    "        end_time = time.time()\n",
    "        test_time = end_time - start_time\n",
    "        \n",
    "        print(classifier_names[j])\n",
    "        print('classification report')\n",
    "        print(classification_report(y_test, y_pred, target_names=label_names, digits=4))\n",
    "        print(f\"Feature extraction fit time: {train_fe_time}\")\n",
    "        print(f\"Train time: {train_time}\")\n",
    "        print(f\"Total train time: {train_time + train_fe_time}\")\n",
    "        print(f\"Feature extraction transform time: {test_fe_time}\")\n",
    "        print(f\"Test time: {test_time}\")\n",
    "        print(f\"Total test time: {test_time + test_fe_time}\")\n",
    "        plot_confusion_matrix(y_test, y_pred)\n",
    "        print()"
   ]
  }
 ],
 "metadata": {
  "kernelspec": {
   "display_name": "Python 3 (ipykernel)",
   "language": "python",
   "name": "python3"
  },
  "language_info": {
   "codemirror_mode": {
    "name": "ipython",
    "version": 3
   },
   "file_extension": ".py",
   "mimetype": "text/x-python",
   "name": "python",
   "nbconvert_exporter": "python",
   "pygments_lexer": "ipython3",
   "version": "3.9.7"
  }
 },
 "nbformat": 4,
 "nbformat_minor": 5
}
